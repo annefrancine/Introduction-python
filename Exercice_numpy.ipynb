{
  "nbformat": 4,
  "nbformat_minor": 0,
  "metadata": {
    "colab": {
      "name": "Exercice_numpy.ipynb",
      "provenance": [],
      "collapsed_sections": [],
      "authorship_tag": "ABX9TyPkfm0nwmphgFTnZM1ui9Uf",
      "include_colab_link": true
    },
    "kernelspec": {
      "name": "python3",
      "display_name": "Python 3"
    }
  },
  "cells": [
    {
      "cell_type": "markdown",
      "metadata": {
        "id": "view-in-github",
        "colab_type": "text"
      },
      "source": [
        "<a href=\"https://colab.research.google.com/github/annefrancine/Introduction-python/blob/master/Exercice_numpy.ipynb\" target=\"_parent\"><img src=\"https://colab.research.google.com/assets/colab-badge.svg\" alt=\"Open In Colab\"/></a>"
      ]
    },
    {
      "cell_type": "code",
      "metadata": {
        "id": "B0PCo68Tk9Sg",
        "colab_type": "code",
        "colab": {}
      },
      "source": [
        "import numpy as np"
      ],
      "execution_count": null,
      "outputs": []
    },
    {
      "cell_type": "code",
      "metadata": {
        "id": "iX_656rSM87G",
        "colab_type": "code",
        "colab": {
          "base_uri": "https://localhost:8080/",
          "height": 1000
        },
        "outputId": "980cfe04-e973-4fe4-b4f0-43ee9429b877"
      },
      "source": [
        "# Help\n",
        "help(np.array)"
      ],
      "execution_count": null,
      "outputs": [
        {
          "output_type": "stream",
          "text": [
            "Help on built-in function array in module numpy:\n",
            "\n",
            "array(...)\n",
            "    array(object, dtype=None, copy=True, order='K', subok=False, ndmin=0)\n",
            "    \n",
            "    Create an array.\n",
            "    \n",
            "    Parameters\n",
            "    ----------\n",
            "    object : array_like\n",
            "        An array, any object exposing the array interface, an object whose\n",
            "        __array__ method returns an array, or any (nested) sequence.\n",
            "    dtype : data-type, optional\n",
            "        The desired data-type for the array.  If not given, then the type will\n",
            "        be determined as the minimum type required to hold the objects in the\n",
            "        sequence.\n",
            "    copy : bool, optional\n",
            "        If true (default), then the object is copied.  Otherwise, a copy will\n",
            "        only be made if __array__ returns a copy, if obj is a nested sequence,\n",
            "        or if a copy is needed to satisfy any of the other requirements\n",
            "        (`dtype`, `order`, etc.).\n",
            "    order : {'K', 'A', 'C', 'F'}, optional\n",
            "        Specify the memory layout of the array. If object is not an array, the\n",
            "        newly created array will be in C order (row major) unless 'F' is\n",
            "        specified, in which case it will be in Fortran order (column major).\n",
            "        If object is an array the following holds.\n",
            "    \n",
            "        ===== ========= ===================================================\n",
            "        order  no copy                     copy=True\n",
            "        ===== ========= ===================================================\n",
            "        'K'   unchanged F & C order preserved, otherwise most similar order\n",
            "        'A'   unchanged F order if input is F and not C, otherwise C order\n",
            "        'C'   C order   C order\n",
            "        'F'   F order   F order\n",
            "        ===== ========= ===================================================\n",
            "    \n",
            "        When ``copy=False`` and a copy is made for other reasons, the result is\n",
            "        the same as if ``copy=True``, with some exceptions for `A`, see the\n",
            "        Notes section. The default order is 'K'.\n",
            "    subok : bool, optional\n",
            "        If True, then sub-classes will be passed-through, otherwise\n",
            "        the returned array will be forced to be a base-class array (default).\n",
            "    ndmin : int, optional\n",
            "        Specifies the minimum number of dimensions that the resulting\n",
            "        array should have.  Ones will be pre-pended to the shape as\n",
            "        needed to meet this requirement.\n",
            "    \n",
            "    Returns\n",
            "    -------\n",
            "    out : ndarray\n",
            "        An array object satisfying the specified requirements.\n",
            "    \n",
            "    See Also\n",
            "    --------\n",
            "    empty_like : Return an empty array with shape and type of input.\n",
            "    ones_like : Return an array of ones with shape and type of input.\n",
            "    zeros_like : Return an array of zeros with shape and type of input.\n",
            "    full_like : Return a new array with shape of input filled with value.\n",
            "    empty : Return a new uninitialized array.\n",
            "    ones : Return a new array setting values to one.\n",
            "    zeros : Return a new array setting values to zero.\n",
            "    full : Return a new array of given shape filled with value.\n",
            "    \n",
            "    \n",
            "    Notes\n",
            "    -----\n",
            "    When order is 'A' and `object` is an array in neither 'C' nor 'F' order,\n",
            "    and a copy is forced by a change in dtype, then the order of the result is\n",
            "    not necessarily 'C' as expected. This is likely a bug.\n",
            "    \n",
            "    Examples\n",
            "    --------\n",
            "    >>> np.array([1, 2, 3])\n",
            "    array([1, 2, 3])\n",
            "    \n",
            "    Upcasting:\n",
            "    \n",
            "    >>> np.array([1, 2, 3.0])\n",
            "    array([ 1.,  2.,  3.])\n",
            "    \n",
            "    More than one dimension:\n",
            "    \n",
            "    >>> np.array([[1, 2], [3, 4]])\n",
            "    array([[1, 2],\n",
            "           [3, 4]])\n",
            "    \n",
            "    Minimum dimensions 2:\n",
            "    \n",
            "    >>> np.array([1, 2, 3], ndmin=2)\n",
            "    array([[1, 2, 3]])\n",
            "    \n",
            "    Type provided:\n",
            "    \n",
            "    >>> np.array([1, 2, 3], dtype=complex)\n",
            "    array([ 1.+0.j,  2.+0.j,  3.+0.j])\n",
            "    \n",
            "    Data-type consisting of more than one element:\n",
            "    \n",
            "    >>> x = np.array([(1,2),(3,4)],dtype=[('a','<i4'),('b','<i4')])\n",
            "    >>> x['a']\n",
            "    array([1, 3])\n",
            "    \n",
            "    Creating an array from sub-classes:\n",
            "    \n",
            "    >>> np.array(np.mat('1 2; 3 4'))\n",
            "    array([[1, 2],\n",
            "           [3, 4]])\n",
            "    \n",
            "    >>> np.array(np.mat('1 2; 3 4'), subok=True)\n",
            "    matrix([[1, 2],\n",
            "            [3, 4]])\n",
            "\n"
          ],
          "name": "stdout"
        }
      ]
    },
    {
      "cell_type": "markdown",
      "metadata": {
        "id": "DRdyUBrXKA9S",
        "colab_type": "text"
      },
      "source": [
        "1) Creez et afficher un 3D-array"
      ]
    },
    {
      "cell_type": "code",
      "metadata": {
        "id": "91SmLpmPKI8e",
        "colab_type": "code",
        "colab": {
          "base_uri": "https://localhost:8080/",
          "height": 272
        },
        "outputId": "20cfb3ca-2b74-47e4-f453-992253f0c99b"
      },
      "source": [
        "a_3d = np.arange(24).reshape(4,3,2)\n",
        "a_3d\n"
      ],
      "execution_count": null,
      "outputs": [
        {
          "output_type": "execute_result",
          "data": {
            "text/plain": [
              "array([[[ 0,  1],\n",
              "        [ 2,  3],\n",
              "        [ 4,  5]],\n",
              "\n",
              "       [[ 6,  7],\n",
              "        [ 8,  9],\n",
              "        [10, 11]],\n",
              "\n",
              "       [[12, 13],\n",
              "        [14, 15],\n",
              "        [16, 17]],\n",
              "\n",
              "       [[18, 19],\n",
              "        [20, 21],\n",
              "        [22, 23]]])"
            ]
          },
          "metadata": {
            "tags": []
          },
          "execution_count": 40
        }
      ]
    },
    {
      "cell_type": "code",
      "metadata": {
        "id": "OnljAe37Nhgv",
        "colab_type": "code",
        "colab": {
          "base_uri": "https://localhost:8080/",
          "height": 34
        },
        "outputId": "aa18728e-c87c-47e9-a734-4ff67efd21e2"
      },
      "source": [
        "a_3d[0][0]"
      ],
      "execution_count": null,
      "outputs": [
        {
          "output_type": "execute_result",
          "data": {
            "text/plain": [
              "array([0, 1])"
            ]
          },
          "metadata": {
            "tags": []
          },
          "execution_count": 46
        }
      ]
    },
    {
      "cell_type": "code",
      "metadata": {
        "id": "Fz-blDb9OLPD",
        "colab_type": "code",
        "colab": {}
      },
      "source": [
        "a_3d[2][0]"
      ],
      "execution_count": null,
      "outputs": []
    },
    {
      "cell_type": "markdown",
      "metadata": {
        "id": "ePRGXc6XkiLN",
        "colab_type": "text"
      },
      "source": [
        "2) Créer une matrice échiquier (des 1 et des 0 alternés) de taille 8x8, de deux façons différentes\n",
        "\n",
        "* en vous servant de slices\n",
        "\n",
        "* en vous servant de la fonction tile\n",
        "\n",
        "https://www.actionco.fr/Thematique/methodologie-1246/fiche-outils-10181/La-matrice-de-l-echiquier-326233.htm"
      ]
    },
    {
      "cell_type": "code",
      "metadata": {
        "id": "p7ip24kekp-h",
        "colab_type": "code",
        "colab": {
          "base_uri": "https://localhost:8080/",
          "height": 156
        },
        "outputId": "ea4b7a08-aa6d-45ee-d80a-bd621e7b359d"
      },
      "source": [
        "chess = np.zeros((8,8), dtype=int)\n",
        "chess[::2,::2] = 1\n",
        "chess[1::2,1::2] = 1\n",
        "print(chess)"
      ],
      "execution_count": null,
      "outputs": [
        {
          "output_type": "stream",
          "text": [
            "[[1 0 1 0 1 0 1 0]\n",
            " [0 1 0 1 0 1 0 1]\n",
            " [1 0 1 0 1 0 1 0]\n",
            " [0 1 0 1 0 1 0 1]\n",
            " [1 0 1 0 1 0 1 0]\n",
            " [0 1 0 1 0 1 0 1]\n",
            " [1 0 1 0 1 0 1 0]\n",
            " [0 1 0 1 0 1 0 1]]\n"
          ],
          "name": "stdout"
        }
      ]
    },
    {
      "cell_type": "code",
      "metadata": {
        "id": "Bux-UUEZlCML",
        "colab_type": "code",
        "colab": {
          "base_uri": "https://localhost:8080/",
          "height": 156
        },
        "outputId": "7159b45e-567b-4814-d7ea-62b42d9326ff"
      },
      "source": [
        "chess2 = np.tile([[1,0],[0,1]], (4,4))\n",
        "print(chess2)"
      ],
      "execution_count": null,
      "outputs": [
        {
          "output_type": "stream",
          "text": [
            "[[1 0 1 0 1 0 1 0]\n",
            " [0 1 0 1 0 1 0 1]\n",
            " [1 0 1 0 1 0 1 0]\n",
            " [0 1 0 1 0 1 0 1]\n",
            " [1 0 1 0 1 0 1 0]\n",
            " [0 1 0 1 0 1 0 1]\n",
            " [1 0 1 0 1 0 1 0]\n",
            " [0 1 0 1 0 1 0 1]]\n"
          ],
          "name": "stdout"
        }
      ]
    },
    {
      "cell_type": "markdown",
      "metadata": {
        "id": "vH8YEsxcnrPB",
        "colab_type": "text"
      },
      "source": [
        "3) Effectuer le calcul suivant : exp(cos2π+log(1.5))"
      ]
    },
    {
      "cell_type": "code",
      "metadata": {
        "id": "9PfBDSROn06U",
        "colab_type": "code",
        "colab": {
          "base_uri": "https://localhost:8080/",
          "height": 34
        },
        "outputId": "fcca0efd-b014-4afe-a6ae-20f1efc49477"
      },
      "source": [
        "print(np.pi)"
      ],
      "execution_count": null,
      "outputs": [
        {
          "output_type": "stream",
          "text": [
            "3.141592653589793\n"
          ],
          "name": "stdout"
        }
      ]
    },
    {
      "cell_type": "code",
      "metadata": {
        "id": "bBUfFpFtn4nU",
        "colab_type": "code",
        "colab": {
          "base_uri": "https://localhost:8080/",
          "height": 34
        },
        "outputId": "d15e529c-eb12-4683-ad96-57a4876983b8"
      },
      "source": [
        "np.exp(np.cos(2*np.pi)+(np.log (1.5)))"
      ],
      "execution_count": null,
      "outputs": [
        {
          "output_type": "execute_result",
          "data": {
            "text/plain": [
              "4.077422742688568"
            ]
          },
          "metadata": {
            "tags": []
          },
          "execution_count": 3
        }
      ]
    },
    {
      "cell_type": "markdown",
      "metadata": {
        "id": "_hT3AV6FoSGi",
        "colab_type": "text"
      },
      "source": [
        "4) Créez et affichez un array a contenant les réels compris entre 5 et 50, avec un pas de 2.5."
      ]
    },
    {
      "cell_type": "code",
      "metadata": {
        "id": "IHMvjKTSoVTu",
        "colab_type": "code",
        "colab": {
          "base_uri": "https://localhost:8080/",
          "height": 51
        },
        "outputId": "704f9930-8719-4722-fdb9-315103cb6922"
      },
      "source": [
        "b = np.arange(5,50,2.5)\n",
        "b"
      ],
      "execution_count": null,
      "outputs": [
        {
          "output_type": "execute_result",
          "data": {
            "text/plain": [
              "array([ 5. ,  7.5, 10. , 12.5, 15. , 17.5, 20. , 22.5, 25. , 27.5, 30. ,\n",
              "       32.5, 35. , 37.5, 40. , 42.5, 45. , 47.5])"
            ]
          },
          "metadata": {
            "tags": []
          },
          "execution_count": 41
        }
      ]
    },
    {
      "cell_type": "markdown",
      "metadata": {
        "id": "9vV55HhoorK7",
        "colab_type": "text"
      },
      "source": [
        "5) Créez un array X de taille  6×5  d'entiers aléatoires compris entre 1 et 100 ; Affichez X; Affichez la 3ème colonne de X;Affichez le dernier élément de X (dernière ligne, dernière colonne)"
      ]
    },
    {
      "cell_type": "code",
      "metadata": {
        "id": "GHUB3kxZo3yz",
        "colab_type": "code",
        "colab": {
          "base_uri": "https://localhost:8080/",
          "height": 119
        },
        "outputId": "6215945a-c557-4de2-b01c-9897bdb70655"
      },
      "source": [
        "np.random.seed(41)\n",
        "x=np.random.randint(1,100,(6,5))\n",
        "print(x)"
      ],
      "execution_count": null,
      "outputs": [
        {
          "output_type": "stream",
          "text": [
            "[[65 36 13 99 81]\n",
            " [66 90 24 86 27]\n",
            " [57  4 36 51 71]\n",
            " [85 87 62 52 93]\n",
            " [89 76 93 53 56]\n",
            " [18 99 82 29 54]]\n"
          ],
          "name": "stdout"
        }
      ]
    },
    {
      "cell_type": "code",
      "metadata": {
        "id": "anwl3cZDpGS1",
        "colab_type": "code",
        "colab": {
          "base_uri": "https://localhost:8080/",
          "height": 34
        },
        "outputId": "79066f2d-5e56-4404-eab2-be89561d46d5"
      },
      "source": [
        "print(x[:,2])"
      ],
      "execution_count": null,
      "outputs": [
        {
          "output_type": "stream",
          "text": [
            "[13 24 36 62 93 82]\n"
          ],
          "name": "stdout"
        }
      ]
    },
    {
      "cell_type": "code",
      "metadata": {
        "id": "WAL3Bu4spRKX",
        "colab_type": "code",
        "colab": {
          "base_uri": "https://localhost:8080/",
          "height": 34
        },
        "outputId": "e14a3b7c-5405-46b7-c763-bc05471056a6"
      },
      "source": [
        "print(x[-1,-1])"
      ],
      "execution_count": null,
      "outputs": [
        {
          "output_type": "stream",
          "text": [
            "54\n"
          ],
          "name": "stdout"
        }
      ]
    },
    {
      "cell_type": "markdown",
      "metadata": {
        "id": "mWZUfXnC44yX",
        "colab_type": "text"
      },
      "source": [
        "6)\tAffichez tous les éléments pairs de la matrice X définie plus haut"
      ]
    },
    {
      "cell_type": "code",
      "metadata": {
        "id": "pJOrpw8p5F_o",
        "colab_type": "code",
        "colab": {
          "base_uri": "https://localhost:8080/",
          "height": 255
        },
        "outputId": "e8a36656-29cb-4537-aded-ad2a0f299f92"
      },
      "source": [
        "for element in x.flat:\n",
        "  if(element % 2==0):\n",
        "    print(element)"
      ],
      "execution_count": null,
      "outputs": [
        {
          "output_type": "stream",
          "text": [
            "36\n",
            "66\n",
            "90\n",
            "24\n",
            "86\n",
            "4\n",
            "36\n",
            "62\n",
            "52\n",
            "76\n",
            "56\n",
            "18\n",
            "82\n",
            "54\n"
          ],
          "name": "stdout"
        }
      ]
    },
    {
      "cell_type": "markdown",
      "metadata": {
        "id": "ulx5PbjJvOiV",
        "colab_type": "text"
      },
      "source": [
        "7) Effectuez le produit élément par élément, puis le produit matriciel des matrices :"
      ]
    },
    {
      "cell_type": "code",
      "metadata": {
        "id": "Icy8AftzvRWP",
        "colab_type": "code",
        "colab": {
          "base_uri": "https://localhost:8080/",
          "height": 51
        },
        "outputId": "fe473af1-c4a2-4b12-f378-17776e5cdd33"
      },
      "source": [
        "A=np.array ([[1,2],[0,1]])\n",
        "B=np.array ([[3,2],[1,0]])\n",
        "A"
      ],
      "execution_count": null,
      "outputs": [
        {
          "output_type": "execute_result",
          "data": {
            "text/plain": [
              "array([[1, 2],\n",
              "       [0, 1]])"
            ]
          },
          "metadata": {
            "tags": []
          },
          "execution_count": 27
        }
      ]
    },
    {
      "cell_type": "code",
      "metadata": {
        "id": "nI8T0DV56JZ2",
        "colab_type": "code",
        "colab": {
          "base_uri": "https://localhost:8080/",
          "height": 51
        },
        "outputId": "db183dc2-776b-48a1-92c1-d48181816504"
      },
      "source": [
        "B"
      ],
      "execution_count": null,
      "outputs": [
        {
          "output_type": "execute_result",
          "data": {
            "text/plain": [
              "array([[3, 2],\n",
              "       [1, 0]])"
            ]
          },
          "metadata": {
            "tags": []
          },
          "execution_count": 28
        }
      ]
    },
    {
      "cell_type": "code",
      "metadata": {
        "id": "YdmrPNbqvaNR",
        "colab_type": "code",
        "colab": {
          "base_uri": "https://localhost:8080/",
          "height": 51
        },
        "outputId": "e4025f40-71e5-48ec-97d4-502a6082a5ff"
      },
      "source": [
        "print(A*B)"
      ],
      "execution_count": null,
      "outputs": [
        {
          "output_type": "stream",
          "text": [
            "[[3 4]\n",
            " [0 0]]\n"
          ],
          "name": "stdout"
        }
      ]
    },
    {
      "cell_type": "code",
      "metadata": {
        "id": "KCOi8saRvfnQ",
        "colab_type": "code",
        "colab": {
          "base_uri": "https://localhost:8080/",
          "height": 51
        },
        "outputId": "903bc775-66b5-4f56-ccd6-b9b83b40a0d3"
      },
      "source": [
        "np.dot(A,B)"
      ],
      "execution_count": null,
      "outputs": [
        {
          "output_type": "execute_result",
          "data": {
            "text/plain": [
              "array([[5, 2],\n",
              "       [1, 0]])"
            ]
          },
          "metadata": {
            "tags": []
          },
          "execution_count": 13
        }
      ]
    },
    {
      "cell_type": "markdown",
      "metadata": {
        "id": "h9xGk3JivxPS",
        "colab_type": "text"
      },
      "source": [
        "8) Créez un array N de taille  100×10  contenant des nombres aléatoires suivant une loi Normale standard, grâce à la fonction np.random.randn(); Affichez la moyenne sur tout le tableau; Affichez l'écart-type des éléments de chaque colonne; Ces résultats valident-t-ils l'hypothèse de la loi utilisée?"
      ]
    },
    {
      "cell_type": "code",
      "metadata": {
        "id": "x0zaOOkdwGLr",
        "colab_type": "code",
        "colab": {
          "base_uri": "https://localhost:8080/",
          "height": 1000
        },
        "outputId": "744eef0c-80fa-41af-9dcb-a84bc983dbb4"
      },
      "source": [
        "N = np.random.randn(100,10)\n",
        "N"
      ],
      "execution_count": null,
      "outputs": [
        {
          "output_type": "execute_result",
          "data": {
            "text/plain": [
              "array([[-1.24328548e+00, -6.07749499e-01, -4.60213514e-01,\n",
              "         4.36023595e-01, -8.22922475e-01,  4.60100357e-01,\n",
              "         1.18994984e+00, -1.07829376e+00, -2.03890736e-02,\n",
              "         5.46146349e-02],\n",
              "       [-2.47215082e-01,  1.95220372e-02,  9.85186991e-02,\n",
              "         1.26843416e+00, -9.37826317e-01, -5.43156155e-01,\n",
              "         2.95860341e-01,  1.94505405e+00, -7.68954468e-01,\n",
              "         1.66033979e+00],\n",
              "       [ 2.58622956e+00, -4.99018947e-01,  2.15146581e-01,\n",
              "        -4.51638398e-01,  7.81461692e-01, -1.70828735e+00,\n",
              "        -4.13412445e-01, -4.66529661e-01,  3.10323970e-01,\n",
              "        -2.05041886e-03],\n",
              "       [ 2.96241712e-01, -3.48667532e-01,  1.46119763e-01,\n",
              "        -1.44037819e+00,  3.94121366e-01,  4.01408699e-01,\n",
              "        -2.82667973e-01, -8.70280082e-01, -2.43237132e+00,\n",
              "         1.64070671e-01],\n",
              "       [-1.40091151e+00,  8.55714077e-01, -1.72806123e+00,\n",
              "         7.65962912e-01,  7.67648206e-01,  4.38011218e-02,\n",
              "         3.22606304e-01, -3.80626405e-01,  1.10924255e+00,\n",
              "         1.36564081e+00],\n",
              "       [ 2.53360613e-01, -2.92039424e-01, -4.79236826e-01,\n",
              "         2.28090175e-01, -1.17860897e-01, -1.06228001e+00,\n",
              "        -1.04615775e+00,  6.75369558e-01, -5.09210321e-01,\n",
              "        -2.13121032e-01],\n",
              "       [-1.43369621e-01,  6.61521198e-02,  4.07949022e-01,\n",
              "         1.42182806e+00,  1.40200010e+00, -2.03841788e+00,\n",
              "        -1.17355147e+00,  2.16221236e+00,  9.30733002e-01,\n",
              "        -8.17723750e-02],\n",
              "       [ 6.62946605e-01, -1.39443617e+00, -4.91326814e-01,\n",
              "        -1.72639317e+00, -5.02858514e-01, -3.36932405e-01,\n",
              "         2.35205238e+00, -1.24689455e+00, -2.37066380e+00,\n",
              "         1.13442127e+00],\n",
              "       [-4.58607278e-01, -4.98472538e-01, -1.16932069e+00,\n",
              "         1.82628770e+00, -1.09108537e+00, -1.34833152e-01,\n",
              "         1.76570218e+00,  4.54279888e-01,  1.28990603e+00,\n",
              "         1.98752250e+00],\n",
              "       [-1.34110300e-01,  1.37811202e+00,  2.94821985e+00,\n",
              "        -1.22513467e+00, -1.24914983e+00, -1.64195753e+00,\n",
              "        -7.48091559e-01,  1.21892968e-01, -7.68430323e-01,\n",
              "        -4.23349253e-02],\n",
              "       [-7.24465583e-01,  1.05563950e+00,  1.74955871e+00,\n",
              "        -2.26763545e+00,  1.08762083e+00, -9.31350329e-01,\n",
              "        -5.43660868e-01,  6.12523626e-01,  9.39352852e-02,\n",
              "         2.12950283e+00],\n",
              "       [ 1.62319003e-01, -9.03256963e-02,  1.83716253e+00,\n",
              "         1.80295972e-01, -3.10993210e-01, -4.74132683e-01,\n",
              "         3.55123496e-01, -9.02929748e-01, -8.05028892e-02,\n",
              "        -8.80587580e-01],\n",
              "       [-9.15942375e-01, -9.60451070e-01,  1.95774968e+00,\n",
              "        -6.85426441e-02, -1.16727985e-01, -6.65220694e-01,\n",
              "        -4.93774074e-01,  8.96624645e-01, -5.65963022e-02,\n",
              "        -9.75986546e-01],\n",
              "       [-8.11692168e-01,  7.21960256e-01,  2.23308572e-02,\n",
              "         3.53775939e-01, -2.62308714e+00, -1.18281417e+00,\n",
              "        -1.08291370e+00,  3.35970720e-01, -8.12695405e-02,\n",
              "        -8.83543908e-01],\n",
              "       [ 1.73827581e-01, -3.90116096e-01,  1.40240762e-01,\n",
              "        -1.19848083e+00,  2.21774006e+00,  7.62399598e-01,\n",
              "         2.41469128e-01,  7.42415736e-01, -7.42368626e-01,\n",
              "         5.96509651e-01],\n",
              "       [ 2.57996931e+00,  5.80414605e-01, -9.84013317e-01,\n",
              "         1.28492317e+00,  1.36061839e+00,  3.55856658e-02,\n",
              "         1.28094065e+00, -1.07536476e-01, -7.60537969e-01,\n",
              "         3.69864562e-01],\n",
              "       [-4.83166067e-01, -2.75988861e-01,  3.85098342e-02,\n",
              "         1.93377948e+00, -4.48447220e-01, -3.15753091e-01,\n",
              "         1.19992848e+00,  2.48858116e-02, -3.42923997e-01,\n",
              "         9.23733365e-01],\n",
              "       [ 1.43247931e+00,  3.94717128e-01,  1.62041297e+00,\n",
              "         7.30199621e-02,  4.39355814e-01, -4.55871345e-01,\n",
              "        -1.97319628e+00, -3.16893718e-01,  1.36631363e-01,\n",
              "         4.41000647e-01],\n",
              "       [ 1.09226201e-01, -5.97073792e-01,  1.60116348e+00,\n",
              "        -1.14924020e+00,  1.57175782e+00, -1.36936291e+00,\n",
              "         6.38038696e-01,  1.75995889e+00, -1.08675016e-01,\n",
              "        -3.16684694e-01],\n",
              "       [ 4.31885627e-01,  3.39849976e-01, -8.94125263e-01,\n",
              "         7.07915055e-01, -9.57128233e-01,  1.45208738e+00,\n",
              "         1.21939509e+00, -5.62762670e-01,  6.84531067e-01,\n",
              "         9.97452609e-01],\n",
              "       [ 2.40467412e+00, -2.18818606e+00, -1.84432726e-01,\n",
              "        -5.21627220e-01,  4.67725651e-02, -2.85970094e-01,\n",
              "        -8.89704038e-02, -1.45568285e+00,  1.98715982e+00,\n",
              "        -9.02461128e-01],\n",
              "       [-1.80204747e+00,  1.16192797e+00, -9.04118151e-01,\n",
              "        -5.52641457e-01,  2.23544315e+00,  6.11590643e-01,\n",
              "         1.25617729e+00,  4.45132955e-01, -1.25657271e-01,\n",
              "         3.69873552e-01],\n",
              "       [-8.56734897e-01,  1.67367957e-01,  5.58556669e-01,\n",
              "         1.92518490e+00,  1.02765906e-01, -4.14681090e-01,\n",
              "         7.58026496e-01, -6.19268028e-01,  1.22114845e+00,\n",
              "        -2.87439433e-01],\n",
              "       [ 4.96455520e-01, -6.05962067e-01,  4.98948730e-01,\n",
              "        -1.27905416e+00,  1.98452643e+00, -8.24418330e-01,\n",
              "         1.90537000e+00,  2.40140230e-02, -1.66087550e-02,\n",
              "        -2.64223150e+00],\n",
              "       [-9.20396338e-01,  3.55610371e-01,  6.84540063e-01,\n",
              "        -1.06282825e+00,  7.98119115e-01,  1.27369284e-01,\n",
              "        -1.23950949e+00, -1.15960114e+00,  1.81398220e+00,\n",
              "        -4.23617919e-02],\n",
              "       [ 1.31233663e+00,  3.44439607e-01, -4.48849700e-01,\n",
              "         1.47013106e+00, -2.20976239e-01, -2.37409421e-01,\n",
              "         2.02952312e-02,  5.58424312e-02,  1.67671919e+00,\n",
              "         1.71556688e+00],\n",
              "       [ 5.02357384e-01, -3.59701866e-01,  1.57182125e-01,\n",
              "        -1.46028567e+00, -2.01835766e+00, -1.33819523e+00,\n",
              "         9.26892064e-01,  2.24329280e-01, -1.12972233e+00,\n",
              "        -6.49220353e-01],\n",
              "       [ 1.19857452e+00, -8.18304390e-01, -6.96546270e-01,\n",
              "        -7.47980110e-01, -1.24982074e+00,  1.50180429e+00,\n",
              "        -6.42026449e-01,  1.83663818e-02,  1.37963236e+00,\n",
              "        -1.62911350e-01],\n",
              "       [-2.56896774e-01, -6.26580179e-01,  2.21217188e-01,\n",
              "        -2.96602940e-01,  5.27884768e-01, -3.52185122e-01,\n",
              "        -1.95990655e-01, -1.08957738e-01,  4.42352971e-01,\n",
              "        -3.56133583e-01],\n",
              "       [ 5.48381164e-01,  3.44788070e-01,  6.47345048e-02,\n",
              "        -8.13132526e-01,  1.93071568e+00, -1.55097707e+00,\n",
              "         4.88100328e-01, -2.22608679e-01, -6.85538822e-02,\n",
              "        -7.15677398e-01],\n",
              "       [-1.13765714e+00, -6.27488598e-01,  2.02177038e-01,\n",
              "         5.11104110e-01, -4.24759106e-01, -1.54847483e+00,\n",
              "        -1.20137229e+00, -9.92565573e-01, -6.45207905e-01,\n",
              "         1.08677712e+00],\n",
              "       [-3.14836893e-02, -8.31825815e-01,  1.74521404e+00,\n",
              "        -1.65930847e+00,  1.11635820e+00,  8.66641560e-01,\n",
              "        -1.94006996e+00, -4.04604625e-01,  1.28645925e+00,\n",
              "         3.86513979e-01],\n",
              "       [-7.84874786e-01, -1.43226943e+00,  9.09528111e-01,\n",
              "         8.94948781e-01, -1.02142239e+00, -5.96639676e-02,\n",
              "         6.53590504e-01,  1.40844955e-01, -3.67106110e-01,\n",
              "         1.80177407e+00],\n",
              "       [-8.59322992e-01,  9.34530743e-01, -5.57445355e-01,\n",
              "         9.98916513e-03,  1.82611329e+00, -2.65643576e-01,\n",
              "         7.43793112e-01, -5.26611831e-02,  1.65434973e-01,\n",
              "         1.00764456e+00],\n",
              "       [ 5.42390180e-02, -2.83690716e+00, -1.83506860e-01,\n",
              "         8.96089671e-02,  1.32608580e+00,  1.52147940e+00,\n",
              "         1.08675784e+00,  2.19440890e+00,  2.22807324e+00,\n",
              "         1.94019517e+00],\n",
              "       [ 3.05308600e-02, -2.89869692e-01,  2.18259679e-01,\n",
              "         4.33655530e-01,  8.51101844e-02, -2.05354295e-01,\n",
              "         5.35763467e-01,  5.06537392e-01, -2.39977024e+00,\n",
              "         9.97367791e-01],\n",
              "       [-6.72571802e-01,  3.76947986e-01, -3.29609338e-01,\n",
              "        -1.25468086e+00,  1.22666330e+00,  1.63431270e+00,\n",
              "         1.00962243e+00, -1.03872657e+00,  1.35365755e-01,\n",
              "        -1.63625992e+00],\n",
              "       [ 4.13853154e-01, -1.98258995e+00,  2.68291396e-02,\n",
              "        -1.39284357e+00, -8.05940900e-01,  1.38176676e+00,\n",
              "        -4.55853992e-01,  2.46600183e+00,  7.99390028e-01,\n",
              "        -2.06972300e+00],\n",
              "       [ 5.44251744e-01,  1.99980879e+00,  3.31509734e-02,\n",
              "         1.27815196e+00, -3.17956920e-01, -6.16318197e-01,\n",
              "         5.61205172e-01, -1.57942454e+00,  7.34097363e-01,\n",
              "        -1.23615764e+00],\n",
              "       [ 3.65692289e-02, -6.30865613e-01, -7.53169059e-01,\n",
              "         3.23168024e-01, -8.04818422e-01, -7.73593944e-03,\n",
              "         6.90314155e-01,  6.97204040e-01,  8.12857660e-02,\n",
              "         2.62943801e-01],\n",
              "       [-5.12312726e-01,  9.63651381e-01,  1.62928965e-01,\n",
              "        -1.61390089e+00,  9.01024249e-02, -9.59955511e-01,\n",
              "         8.90968532e-01, -8.58604229e-02, -2.57359092e-01,\n",
              "         4.22845392e-01],\n",
              "       [-8.23755703e-01, -1.50297917e+00, -1.64890874e-01,\n",
              "         4.66073492e-01,  1.45161779e+00,  3.57160564e-01,\n",
              "        -9.08575945e-02, -6.78404085e-01,  1.57093682e+00,\n",
              "        -7.58456101e-02],\n",
              "       [ 1.11768483e+00, -1.79683281e+00,  5.40741776e-01,\n",
              "         2.65973004e+00,  5.75355566e-01, -4.62627413e-02,\n",
              "        -7.80587353e-01,  8.18064237e-01,  1.55661207e-01,\n",
              "         9.36342600e-01],\n",
              "       [-3.76961198e-01,  1.71924170e+00, -2.93018964e-01,\n",
              "         6.30487685e-02,  3.12338404e-01,  1.45608728e-01,\n",
              "         9.63738737e-01,  2.90702765e-01,  3.95462220e-01,\n",
              "        -1.08111539e+00],\n",
              "       [-2.16602357e-01, -2.56402619e-01, -1.24655146e+00,\n",
              "         8.94148343e-01, -6.01233062e-02, -9.40630307e-01,\n",
              "         6.35397628e-01,  1.13530976e+00,  8.92932750e-04,\n",
              "         3.49497057e-01],\n",
              "       [-4.84311316e-01,  1.54339030e+00, -3.15759683e-01,\n",
              "         6.83373665e-01,  6.52559817e-01, -1.09288766e-01,\n",
              "         1.22291969e+00, -7.50866532e-02,  6.41462642e-02,\n",
              "         5.90614526e-01],\n",
              "       [-4.90589812e-01, -5.64541722e-01,  9.07453379e-01,\n",
              "         1.84339382e+00, -7.15252117e-01,  2.30712881e-01,\n",
              "         1.04962299e+00,  7.56026448e-02,  6.39842298e-01,\n",
              "        -1.25296466e-01],\n",
              "       [ 3.73892699e-01, -3.54329683e-01,  2.97223180e-01,\n",
              "        -2.90958877e-01,  1.25677356e+00, -8.06960767e-01,\n",
              "         8.64754091e-01,  4.37713102e-01,  2.08752257e-01,\n",
              "         8.47270072e-01],\n",
              "       [ 8.43802660e-01, -4.99744058e-01,  7.16213508e-01,\n",
              "        -3.31657306e-01, -7.81350880e-01,  1.25274296e-01,\n",
              "        -1.21746344e+00,  1.62770885e-01,  3.04162362e-01,\n",
              "         1.42237676e+00],\n",
              "       [ 9.89664309e-01, -1.37570937e+00, -1.31571812e+00,\n",
              "        -1.26579182e-02, -4.72051680e-01, -3.74851229e-01,\n",
              "        -4.80924739e-01,  2.55983583e-01, -3.04708387e-01,\n",
              "         2.58969946e-01],\n",
              "       [ 7.07797001e-01,  4.37340527e-01,  5.86524526e-01,\n",
              "         7.18489497e-01, -8.06554131e-01,  1.64359506e+00,\n",
              "         1.22421412e+00,  8.98283459e-02, -3.63243359e+00,\n",
              "        -1.64501757e-01],\n",
              "       [ 4.05559533e-01, -2.76093260e-01,  1.66410249e+00,\n",
              "        -1.13975243e+00,  1.46951852e+00,  8.40117690e-01,\n",
              "         2.94452442e-01, -9.91153631e-01, -1.43301485e-01,\n",
              "         4.85651354e-01],\n",
              "       [-6.73459067e-02, -7.00623885e-02,  5.33212462e-02,\n",
              "         8.28096161e-01,  5.25583587e-01,  8.23552484e-01,\n",
              "         3.87879735e-01, -7.42722298e-01,  8.45633717e-01,\n",
              "         9.43444915e-01],\n",
              "       [-6.73374847e-01, -6.38071089e-01,  1.19319328e+00,\n",
              "         1.13313504e-01, -9.68560079e-01, -1.81452979e-01,\n",
              "         1.02870753e-01,  1.20703465e+00,  1.60556035e+00,\n",
              "         1.70500866e+00],\n",
              "       [ 1.86508551e+00, -1.63656924e+00,  1.09865204e+00,\n",
              "        -1.11715073e-01, -1.05894584e+00, -2.55795969e-01,\n",
              "         7.69210158e-02, -2.81757687e-01, -8.24730808e-01,\n",
              "        -9.90205147e-02],\n",
              "       [-2.17070624e-01,  1.70098108e-01, -2.38875241e-01,\n",
              "         9.49453503e-01,  9.33830924e-01,  1.18564947e+00,\n",
              "        -2.99511785e-01,  8.38530922e-01, -2.90696405e-01,\n",
              "         1.05064035e+00],\n",
              "       [ 5.90457763e-01,  8.22247323e-01,  6.97045258e-01,\n",
              "        -6.66511612e-01,  3.73278221e-01,  5.27637128e-01,\n",
              "        -8.64501929e-01,  9.35570512e-02, -1.12445789e+00,\n",
              "         1.22106701e+00],\n",
              "       [-1.01600620e+00,  6.20359466e-02,  8.99830964e-02,\n",
              "        -8.41813239e-01, -1.37847295e+00, -1.70690772e+00,\n",
              "         5.60310205e-01,  8.54330054e-01, -8.77582959e-01,\n",
              "         1.17552039e-01],\n",
              "       [ 3.00283427e-01, -2.16484315e-01, -7.51457189e-01,\n",
              "         3.70001912e-01, -8.82799192e-01, -1.20339370e+00,\n",
              "         1.44650345e+00, -1.66600737e+00,  2.18733573e+00,\n",
              "         1.31058199e+00],\n",
              "       [-2.71764534e-01,  2.19937764e-01, -1.52390241e+00,\n",
              "        -1.15545112e+00,  6.16723523e-01, -1.34056137e+00,\n",
              "        -1.82163214e-01, -9.19687951e-01, -6.12821792e-01,\n",
              "        -1.06839229e+00],\n",
              "       [-1.50482319e+00,  8.15003976e-01,  9.60261990e-01,\n",
              "         1.95689344e+00,  1.61635110e+00, -9.27542120e-01,\n",
              "        -8.43403671e-01,  1.23881594e-01,  5.09498573e-02,\n",
              "        -1.79498201e-01],\n",
              "       [ 9.61064154e-01, -1.82583087e-01, -3.60108440e-01,\n",
              "         7.04393362e-01,  6.57465550e-01,  1.74056213e-01,\n",
              "         6.15209291e-02, -9.78432781e-01, -7.04769648e-01,\n",
              "        -4.41101515e-02],\n",
              "       [-6.01870322e-01, -9.24355106e-01,  4.36159792e-01,\n",
              "        -6.37982082e-01, -4.21535975e-01, -5.24068706e-02,\n",
              "         7.79542698e-01,  5.95964435e-01, -1.96400398e-01,\n",
              "        -1.80009624e-01],\n",
              "       [-5.57883969e-01, -8.05283091e-03, -1.77398459e+00,\n",
              "         3.75800604e-01, -1.71733140e+00,  1.97624148e-01,\n",
              "        -1.49344419e+00, -1.25194765e+00, -6.34922129e-01,\n",
              "        -3.13105892e-01],\n",
              "       [-1.44811187e+00, -1.77176891e-01, -6.01595676e-01,\n",
              "         1.65235033e+00,  3.57834903e-01,  1.83769148e+00,\n",
              "         4.28314735e-01, -1.50898150e+00,  2.66624252e-01,\n",
              "         2.82565807e-03],\n",
              "       [-1.01456515e+00,  1.04293453e+00, -9.99939332e-01,\n",
              "         8.91971379e-01, -1.35879818e+00, -6.86149111e-01,\n",
              "        -3.66668773e+00,  3.73256391e-01,  1.59278054e+00,\n",
              "         1.09134770e+00],\n",
              "       [-7.96452989e-02, -8.96073323e-01, -3.91799463e-01,\n",
              "        -6.25039032e-01,  1.07521821e+00,  8.72999297e-01,\n",
              "         5.51122060e-01,  1.98941082e+00, -1.14047814e-01,\n",
              "         5.58753845e-01],\n",
              "       [-2.66094829e+00,  2.02346595e-03, -2.10602831e+00,\n",
              "        -1.44700549e+00, -8.28775290e-01, -6.42538517e-01,\n",
              "        -5.74163797e-01,  5.67411599e-02,  6.15186637e-01,\n",
              "        -3.88447463e-01],\n",
              "       [ 6.46674005e-02,  1.38756290e-01,  1.02458776e-03,\n",
              "        -2.11956793e+00,  2.96402747e-01, -1.48617864e+00,\n",
              "         4.31132698e-01,  1.52835041e+00, -1.81441066e+00,\n",
              "        -2.26345965e+00],\n",
              "       [ 6.32995097e-01,  9.17794011e-01,  7.31388408e-01,\n",
              "         1.18144772e+00, -5.73877389e-01, -1.21344140e+00,\n",
              "        -6.65927172e-01, -1.59053642e-01, -1.24153164e-01,\n",
              "         1.95764446e-01],\n",
              "       [ 1.11168534e-01,  8.48083084e-01,  5.93191150e-01,\n",
              "         9.40641888e-02,  3.75806872e-01,  5.28788091e-01,\n",
              "        -7.33415658e-01, -4.50620520e-01,  5.80746672e-01,\n",
              "        -4.38084154e-01],\n",
              "       [ 7.21186989e-01,  1.44760670e+00,  4.92358344e-01,\n",
              "        -1.34834528e+00, -3.98158701e-01, -4.32233239e-02,\n",
              "         1.19828979e+00,  2.09161849e+00, -1.49566079e+00,\n",
              "         1.60216324e-01],\n",
              "       [-7.50472172e-01, -5.39128262e-02, -3.10422056e-01,\n",
              "        -7.97700702e-01, -1.99534425e+00,  4.94465948e-01,\n",
              "        -6.67691519e-01, -6.98854519e-01,  6.77971914e-01,\n",
              "         6.03653178e-04],\n",
              "       [ 5.10618433e-01, -5.61929814e-01, -8.12466650e-01,\n",
              "         1.50821757e+00,  9.57091034e-02,  1.36376473e+00,\n",
              "        -1.90123471e+00, -1.70583926e+00, -6.52002211e-01,\n",
              "         2.53170586e+00],\n",
              "       [-1.10938806e+00,  1.74896295e+00,  1.20677794e-01,\n",
              "        -1.98726502e+00, -3.14207754e-01,  3.34862395e-02,\n",
              "        -6.15645603e-02,  3.48116181e-01, -7.65184657e-01,\n",
              "         5.36585984e-01],\n",
              "       [-4.77281684e-01, -1.08651038e+00,  2.42602746e+00,\n",
              "        -3.16686886e-01, -1.92329951e+00,  1.97885643e+00,\n",
              "        -9.63842859e-01, -7.94064679e-01, -1.01621332e+00,\n",
              "        -1.06875255e+00],\n",
              "       [-1.01521920e+00, -4.34611461e-01,  3.65576109e-01,\n",
              "         2.02460642e+00, -4.33104814e-01,  3.40866993e-01,\n",
              "         1.03966336e-01,  1.10125558e+00,  8.32799970e-01,\n",
              "        -2.75054731e-01],\n",
              "       [ 4.57484750e-01, -1.07020684e+00, -1.20428589e+00,\n",
              "         1.04531623e-01, -1.37198576e+00, -5.86823541e-01,\n",
              "         4.04226659e-01,  1.61646363e+00,  2.08807738e+00,\n",
              "        -4.27692397e-01],\n",
              "       [ 3.85433543e-01,  1.12587454e-01,  1.04314414e+00,\n",
              "        -6.60683945e-01,  4.41801198e-01,  6.51276740e-01,\n",
              "         7.97362898e-01,  5.28090350e-01, -6.22053293e-01,\n",
              "         8.50012005e-01],\n",
              "       [-1.35102804e+00,  4.38598519e-01,  1.12427914e-01,\n",
              "        -1.97872656e-02, -6.62152827e-01, -2.22318975e-01,\n",
              "         5.58422123e-01, -1.57693614e+00, -8.68185835e-01,\n",
              "         7.87118422e-01],\n",
              "       [ 6.20185780e-01,  2.06184743e-01, -6.77726880e-01,\n",
              "        -1.13619986e-01,  1.30635804e-01,  1.06414095e+00,\n",
              "        -6.34110454e-01,  1.43437655e+00,  3.89253980e-01,\n",
              "         1.62034683e+00],\n",
              "       [-3.33716206e-02,  2.19851150e+00,  7.68418713e-01,\n",
              "        -1.52567731e+00, -7.57379375e-01,  4.08726711e-01,\n",
              "        -6.19059016e-01, -4.03179152e-01,  1.20588630e+00,\n",
              "        -1.08784785e+00],\n",
              "       [-3.78671610e-01,  1.58862624e-01, -1.55671137e+00,\n",
              "         7.78602967e-01,  1.54149587e+00, -8.56374843e-01,\n",
              "        -1.28788291e+00, -2.65038844e-02, -1.19992113e-01,\n",
              "        -1.15507549e+00],\n",
              "       [-2.85662243e-01,  5.71358934e-01,  2.23627296e-02,\n",
              "        -1.09597957e+00, -1.78942490e+00,  1.10609424e+00,\n",
              "         2.16361406e+00, -1.01904991e+00, -1.24000780e+00,\n",
              "        -9.46869298e-01],\n",
              "       [ 7.81544648e-01,  4.59047076e-01, -1.14762719e+00,\n",
              "         6.66047839e-01,  8.52673492e-01, -2.36771097e+00,\n",
              "        -8.31229687e-02, -3.35466659e-01, -7.20157833e-01,\n",
              "        -1.95899983e-01],\n",
              "       [-6.03204593e-01, -2.38154458e-01, -4.46838161e-02,\n",
              "        -5.61461499e-01, -3.45808465e-02, -1.79660114e+00,\n",
              "        -8.07154397e-01, -9.26779850e-01, -1.49398281e+00,\n",
              "        -1.12673664e+00],\n",
              "       [-1.14667110e+00, -2.92731964e+00, -1.24594935e+00,\n",
              "        -1.34044701e+00,  1.93786139e-01, -7.95793351e-02,\n",
              "        -1.01549262e+00,  3.16436444e-01, -2.68499355e-01,\n",
              "         8.22111444e-01],\n",
              "       [ 2.70174602e-01,  6.27081165e-01, -6.94597966e-01,\n",
              "         7.51744811e-01,  3.53436336e-01, -4.25684837e-01,\n",
              "         5.67619323e-01, -1.17704878e+00, -6.17347564e-01,\n",
              "        -2.96444847e-01],\n",
              "       [ 2.17107082e-01,  1.79852475e-01, -3.86120521e-02,\n",
              "         1.59859653e+00,  4.03459376e-01,  1.76597664e+00,\n",
              "         1.71472383e+00, -2.10355490e-01, -1.03809160e+00,\n",
              "        -8.19942699e-01],\n",
              "       [ 1.42153921e+00, -1.32328398e+00, -8.25097226e-01,\n",
              "         6.04265898e-01,  2.44771769e-01, -1.01180746e+00,\n",
              "         7.06213621e-01,  2.32455831e-01,  8.44613446e-01,\n",
              "        -6.07840348e-02],\n",
              "       [ 9.46631830e-01, -6.52527221e-01, -3.74767711e-01,\n",
              "        -3.20366224e+00, -8.76011735e-02,  4.60509642e-01,\n",
              "        -3.15731964e-01, -1.81321170e+00, -8.45085726e-04,\n",
              "        -1.54862025e+00],\n",
              "       [-9.92003642e-02, -6.81314556e-01, -1.69249114e+00,\n",
              "         2.75525268e-02,  1.20213613e+00, -4.31941526e-02,\n",
              "         6.60332623e-01,  4.93969731e-02,  5.19289183e-01,\n",
              "        -3.94155338e-01],\n",
              "       [-1.80948722e-01, -1.63432940e+00,  1.64836894e+00,\n",
              "         1.14416430e+00, -8.00911672e-01, -9.55816365e-01,\n",
              "        -7.97686877e-01,  5.18798070e-01, -2.32389539e-01,\n",
              "         2.74660235e+00],\n",
              "       [-2.35485906e-01,  1.71990951e+00,  1.52876532e+00,\n",
              "         6.21552057e-01, -2.52951674e-02,  2.79421352e-01,\n",
              "        -1.96766023e-03,  1.93374734e+00,  3.35997727e-01,\n",
              "         4.44148910e-01],\n",
              "       [ 4.09279094e-01, -1.02164366e-01,  1.10983293e+00,\n",
              "        -1.25626488e+00, -5.59315382e-01,  9.56898100e-02,\n",
              "         1.80369274e+00, -9.36300937e-02, -9.26370996e-01,\n",
              "         1.30983473e+00],\n",
              "       [-8.12726964e-01, -1.27081701e+00, -1.11093382e-01,\n",
              "         1.08879435e+00, -5.29392964e-01,  1.78480184e-01,\n",
              "         1.53437382e+00,  2.19148266e-01,  1.35899842e+00,\n",
              "         1.02085055e+00],\n",
              "       [-1.50184590e+00, -1.09055347e+00,  3.39225402e-01,\n",
              "        -1.40881752e+00,  8.34555666e-01,  2.32437299e-01,\n",
              "        -1.32387993e+00,  4.45304501e-01,  1.43306411e-01,\n",
              "        -4.49065227e-01],\n",
              "       [ 1.11496523e+00, -9.89420425e-01, -1.24318385e+00,\n",
              "        -9.25374631e-01,  5.45806821e-01, -6.83038448e-01,\n",
              "        -1.96207762e+00,  5.20394197e-01,  3.60274972e-01,\n",
              "         1.29706245e+00],\n",
              "       [ 2.34817226e-01, -2.31039140e-01, -8.67981311e-01,\n",
              "        -3.36161980e-02, -2.51944084e-01, -2.45557388e-01,\n",
              "        -1.04290426e-01,  6.03389713e-02,  5.17373196e-01,\n",
              "         9.66663768e-01],\n",
              "       [-2.35156701e+00,  1.43049967e+00,  7.24088931e-01,\n",
              "         1.91597319e+00,  3.48194183e-01,  2.78125094e+00,\n",
              "        -4.16549310e-01, -3.61274585e-01,  1.94424636e-01,\n",
              "         4.26704025e-01]])"
            ]
          },
          "metadata": {
            "tags": []
          },
          "execution_count": 15
        }
      ]
    },
    {
      "cell_type": "code",
      "metadata": {
        "id": "Gewl8VIvwl_j",
        "colab_type": "code",
        "colab": {
          "base_uri": "https://localhost:8080/",
          "height": 34
        },
        "outputId": "be1ada75-5b52-49c0-da06-7a2084dcd135"
      },
      "source": [
        "print(N.mean())"
      ],
      "execution_count": null,
      "outputs": [
        {
          "output_type": "stream",
          "text": [
            "0.011115098263498246\n"
          ],
          "name": "stdout"
        }
      ]
    },
    {
      "cell_type": "code",
      "metadata": {
        "id": "xTVq7a4kwnhf",
        "colab_type": "code",
        "colab": {
          "base_uri": "https://localhost:8080/",
          "height": 51
        },
        "outputId": "925aa3cc-6a69-4307-b882-adc661ee6753"
      },
      "source": [
        "print(N.std( axis = 0))"
      ],
      "execution_count": null,
      "outputs": [
        {
          "output_type": "stream",
          "text": [
            "[0.93546337 0.98460046 0.96772288 1.15218378 1.01851889 0.97392044\n",
            " 1.03357358 0.95492264 1.02846522 1.01537225]\n"
          ],
          "name": "stdout"
        }
      ]
    },
    {
      "cell_type": "markdown",
      "metadata": {
        "id": "GhLDiGHKxhG_",
        "colab_type": "text"
      },
      "source": [
        "9) Résoudre le système d’équations 3x0 + x1 = 9 et x0 + 2x1 = 8"
      ]
    },
    {
      "cell_type": "code",
      "metadata": {
        "id": "BmwSk7YJxjdY",
        "colab_type": "code",
        "colab": {
          "base_uri": "https://localhost:8080/",
          "height": 34
        },
        "outputId": "bf548523-61ee-4001-db6d-923cc079f0ab"
      },
      "source": [
        "a = np.array([[3,1], [1,2]])\n",
        "b = np.array([9,8])\n",
        "x = np.linalg.solve(a, b)\n",
        "x"
      ],
      "execution_count": null,
      "outputs": [
        {
          "output_type": "execute_result",
          "data": {
            "text/plain": [
              "array([2., 3.])"
            ]
          },
          "metadata": {
            "tags": []
          },
          "execution_count": 18
        }
      ]
    },
    {
      "cell_type": "markdown",
      "metadata": {
        "id": "5it8K9W46dYL",
        "colab_type": "text"
      },
      "source": [
        "10) Créer la matrice ci-dessous à l'aide de fonctions génératives, de fonctions de manipulations et d'opérations simples"
      ]
    },
    {
      "cell_type": "code",
      "metadata": {
        "id": "pbWUP7Oe6nQl",
        "colab_type": "code",
        "colab": {}
      },
      "source": [
        "mat = np.zeros(5)"
      ],
      "execution_count": null,
      "outputs": []
    },
    {
      "cell_type": "code",
      "metadata": {
        "id": "5ulDhJtH6t2u",
        "colab_type": "code",
        "colab": {}
      },
      "source": [
        "a = np.diag(np.ones(4),-1)\n",
        "a"
      ],
      "execution_count": null,
      "outputs": []
    },
    {
      "cell_type": "code",
      "metadata": {
        "id": "oejT7ZzX6uzX",
        "colab_type": "code",
        "colab": {}
      },
      "source": [
        "b = np.diag(np.ones(3), -2)*2\n",
        "b"
      ],
      "execution_count": null,
      "outputs": []
    },
    {
      "cell_type": "code",
      "metadata": {
        "id": "UImcsdFG6xUQ",
        "colab_type": "code",
        "colab": {}
      },
      "source": [
        "c = np.diag(np.ones(2), -3)*3\n",
        "c"
      ],
      "execution_count": null,
      "outputs": []
    },
    {
      "cell_type": "code",
      "metadata": {
        "id": "wS1adG9Y60cy",
        "colab_type": "code",
        "colab": {}
      },
      "source": [
        "d = np.diag(np.ones(1),-4)*4\n",
        "d"
      ],
      "execution_count": null,
      "outputs": []
    },
    {
      "cell_type": "code",
      "metadata": {
        "id": "SqXIKUiN63bJ",
        "colab_type": "code",
        "colab": {}
      },
      "source": [
        "mat = mat+a+b+c+d"
      ],
      "execution_count": null,
      "outputs": []
    },
    {
      "cell_type": "code",
      "metadata": {
        "id": "CABLDjB_66Ej",
        "colab_type": "code",
        "colab": {}
      },
      "source": [
        "mat = mat + np.transpose(mat)"
      ],
      "execution_count": null,
      "outputs": []
    },
    {
      "cell_type": "code",
      "metadata": {
        "id": "kzh4QV0369BP",
        "colab_type": "code",
        "colab": {
          "base_uri": "https://localhost:8080/",
          "height": 102
        },
        "outputId": "49c101be-abf1-42b4-83cc-8518b7000976"
      },
      "source": [
        "print(mat)"
      ],
      "execution_count": null,
      "outputs": [
        {
          "output_type": "stream",
          "text": [
            "[[0. 1. 2. 3. 4.]\n",
            " [1. 0. 1. 2. 3.]\n",
            " [2. 1. 0. 1. 2.]\n",
            " [3. 2. 1. 0. 1.]\n",
            " [4. 3. 2. 1. 0.]]\n"
          ],
          "name": "stdout"
        }
      ]
    }
  ]
}