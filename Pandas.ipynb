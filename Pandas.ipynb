{
  "nbformat": 4,
  "nbformat_minor": 0,
  "metadata": {
    "colab": {
      "name": "Pandas.ipynb",
      "provenance": [],
      "collapsed_sections": [],
      "toc_visible": true,
      "authorship_tag": "ABX9TyMDUB5VMBrSV5e657Z42sxF",
      "include_colab_link": true
    },
    "kernelspec": {
      "name": "python3",
      "display_name": "Python 3"
    }
  },
  "cells": [
    {
      "cell_type": "markdown",
      "metadata": {
        "id": "view-in-github",
        "colab_type": "text"
      },
      "source": [
        "<a href=\"https://colab.research.google.com/github/annefrancine/Introduction-python/blob/master/Pandas.ipynb\" target=\"_parent\"><img src=\"https://colab.research.google.com/assets/colab-badge.svg\" alt=\"Open In Colab\"/></a>"
      ]
    },
    {
      "cell_type": "markdown",
      "metadata": {
        "id": "hKrqggldbAGo",
        "colab_type": "text"
      },
      "source": [
        "Pandas est une librairie python qui permet de manipuler facilement des données à analyser :\n",
        "*\tManipuler des tableaux de données avec des étiquettes de variables (colonnes) et d'individus (lignes).\n",
        "*\tCes tableaux sont appelés DataFrames\n",
        "*\tOn peut facilement lire et écrire ces dataframes à partir ou vers un fichier tabulé.\n",
        "*\tOn peut tracer des graphes à partir de ces DataFrames grâce à matplotlib\n",
        "\n",
        "https://pandas.pydata.org/pandas-docs/stable/\n"
      ]
    },
    {
      "cell_type": "code",
      "metadata": {
        "id": "3sFpVhkxbbPw",
        "colab_type": "code",
        "colab": {}
      },
      "source": [
        "# Pour commencer\n",
        "import pandas as pd\n",
        "import numpy as np"
      ],
      "execution_count": 1,
      "outputs": []
    },
    {
      "cell_type": "code",
      "metadata": {
        "id": "JUZO-KqUjsJ-",
        "colab_type": "code",
        "colab": {
          "base_uri": "https://localhost:8080/",
          "height": 34
        },
        "outputId": "fd137a4f-0602-4203-e11f-c7b49128c2eb"
      },
      "source": [
        "print(pd.__version__)"
      ],
      "execution_count": null,
      "outputs": [
        {
          "output_type": "stream",
          "text": [
            "1.0.5\n"
          ],
          "name": "stdout"
        }
      ]
    },
    {
      "cell_type": "markdown",
      "metadata": {
        "id": "72BuWCvSb2eK",
        "colab_type": "text"
      },
      "source": [
        "## 1) Création de series\n",
        "\n",
        "Création d'une série, c'est à dire d'un vecteur de valeurs d'une variable (en général valeurs pour différents individus)"
      ]
    },
    {
      "cell_type": "code",
      "metadata": {
        "id": "Vyzm_sxrb_R7",
        "colab_type": "code",
        "colab": {
          "base_uri": "https://localhost:8080/",
          "height": 102
        },
        "outputId": "1639df09-f51a-4b36-9206-ac9564a7e5c9"
      },
      "source": [
        "s = pd.Series([1, 2, 5, 7]) # série numérique entière\n",
        "s"
      ],
      "execution_count": null,
      "outputs": [
        {
          "output_type": "execute_result",
          "data": {
            "text/plain": [
              "0    1\n",
              "1    2\n",
              "2    5\n",
              "3    7\n",
              "dtype: int64"
            ]
          },
          "metadata": {
            "tags": []
          },
          "execution_count": 4
        }
      ]
    },
    {
      "cell_type": "code",
      "metadata": {
        "id": "z6pvzDCScI66",
        "colab_type": "code",
        "colab": {
          "base_uri": "https://localhost:8080/",
          "height": 102
        },
        "outputId": "95d336c2-9f86-472e-a0ac-06cd5e102bab"
      },
      "source": [
        "i = pd.Series([1.3, 2, 5.3, 7]) # série numérique flottante\n",
        "i"
      ],
      "execution_count": null,
      "outputs": [
        {
          "output_type": "execute_result",
          "data": {
            "text/plain": [
              "0    1.3\n",
              "1    2.0\n",
              "2    5.3\n",
              "3    7.0\n",
              "dtype: float64"
            ]
          },
          "metadata": {
            "tags": []
          },
          "execution_count": 5
        }
      ]
    },
    {
      "cell_type": "code",
      "metadata": {
        "id": "YDlTZdO6cXEX",
        "colab_type": "code",
        "colab": {
          "base_uri": "https://localhost:8080/",
          "height": 119
        },
        "outputId": "2380abc2-2724-4287-f1aa-d4932acffc4c"
      },
      "source": [
        "j= pd.Series(0, index = range(5))# série avec cinq 0\n",
        "j"
      ],
      "execution_count": null,
      "outputs": [
        {
          "output_type": "execute_result",
          "data": {
            "text/plain": [
              "0    0\n",
              "1    0\n",
              "2    0\n",
              "3    0\n",
              "4    0\n",
              "dtype: int64"
            ]
          },
          "metadata": {
            "tags": []
          },
          "execution_count": 6
        }
      ]
    },
    {
      "cell_type": "markdown",
      "metadata": {
        "id": "DUsi0vGCcq7Y",
        "colab_type": "text"
      },
      "source": [
        "## 2) Création de Dataframes\n",
        "\n",
        "Les Dataframes correspondent au format de données que l’on rencontre classiquement en économie, des tableaux à deux dimensions, avec des variables en colonnes et des observations en ligne. Les colonnes et lignes des dataframes sont indexées.\n",
        "\n",
        "Un dataframe se comporte comme un dictionnaire dont les clefs sont les noms des colonnes et les valeurs sont des séries.\n",
        "\n",
        "* on peut le créer à partir d'une array numpy (mais ce n'est pas très pratique et le type des données est le même pour toutes les colonnes, ici float64) :"
      ]
    },
    {
      "cell_type": "code",
      "metadata": {
        "id": "j-DXABpugfNL",
        "colab_type": "code",
        "colab": {
          "base_uri": "https://localhost:8080/",
          "height": 142
        },
        "outputId": "0c2d8d73-afd6-4653-bd1a-c6cc0dec2a15"
      },
      "source": [
        "ar = np.array([[1.1, 2, 3.3, 4], [2.7, 10, 5.4, 7], [5.3, 9, 1.5, 15]])\n",
        "df = pd.DataFrame(ar, index = ['a1', 'a2', 'a3'], columns = ['A', 'B', 'C', 'D'])\n",
        "df\n",
        "# attention : si on modifie l'array numpy, cela modifie aussi le dataframe."
      ],
      "execution_count": null,
      "outputs": [
        {
          "output_type": "execute_result",
          "data": {
            "text/html": [
              "<div>\n",
              "<style scoped>\n",
              "    .dataframe tbody tr th:only-of-type {\n",
              "        vertical-align: middle;\n",
              "    }\n",
              "\n",
              "    .dataframe tbody tr th {\n",
              "        vertical-align: top;\n",
              "    }\n",
              "\n",
              "    .dataframe thead th {\n",
              "        text-align: right;\n",
              "    }\n",
              "</style>\n",
              "<table border=\"1\" class=\"dataframe\">\n",
              "  <thead>\n",
              "    <tr style=\"text-align: right;\">\n",
              "      <th></th>\n",
              "      <th>A</th>\n",
              "      <th>B</th>\n",
              "      <th>C</th>\n",
              "      <th>D</th>\n",
              "    </tr>\n",
              "  </thead>\n",
              "  <tbody>\n",
              "    <tr>\n",
              "      <th>a1</th>\n",
              "      <td>1.1</td>\n",
              "      <td>2.0</td>\n",
              "      <td>3.3</td>\n",
              "      <td>4.0</td>\n",
              "    </tr>\n",
              "    <tr>\n",
              "      <th>a2</th>\n",
              "      <td>2.7</td>\n",
              "      <td>10.0</td>\n",
              "      <td>5.4</td>\n",
              "      <td>7.0</td>\n",
              "    </tr>\n",
              "    <tr>\n",
              "      <th>a3</th>\n",
              "      <td>5.3</td>\n",
              "      <td>9.0</td>\n",
              "      <td>1.5</td>\n",
              "      <td>15.0</td>\n",
              "    </tr>\n",
              "  </tbody>\n",
              "</table>\n",
              "</div>"
            ],
            "text/plain": [
              "      A     B    C     D\n",
              "a1  1.1   2.0  3.3   4.0\n",
              "a2  2.7  10.0  5.4   7.0\n",
              "a3  5.3   9.0  1.5  15.0"
            ]
          },
          "metadata": {
            "tags": []
          },
          "execution_count": 7
        }
      ]
    },
    {
      "cell_type": "markdown",
      "metadata": {
        "id": "FU9ClMF1gweM",
        "colab_type": "text"
      },
      "source": [
        "* on peut aussi créer le dataframe avec un dictionnaire :"
      ]
    },
    {
      "cell_type": "code",
      "metadata": {
        "id": "b5JZBQcTSK46",
        "colab_type": "code",
        "colab": {
          "base_uri": "https://localhost:8080/",
          "height": 289
        },
        "outputId": "05dbf66f-3e1b-4cb2-d38b-ae45c43ee3e9"
      },
      "source": [
        "dico = {\"height\" : \n",
        "               [58, 59, 60, 61, 62,\n",
        "                63, 64, 65, 66, 67,\n",
        "                68, 69, 70, 71, 72],\n",
        "        \"weight\": \n",
        "               [115, 117, 120, 123, 126,\n",
        "                129, 132, 135, 139, 142,\n",
        "                146, 150, 154, 159, 164]\n",
        "       } \n",
        "df = pd.DataFrame(dico)\n",
        "print(df)"
      ],
      "execution_count": 14,
      "outputs": [
        {
          "output_type": "stream",
          "text": [
            "    height  weight\n",
            "0       58     115\n",
            "1       59     117\n",
            "2       60     120\n",
            "3       61     123\n",
            "4       62     126\n",
            "5       63     129\n",
            "6       64     132\n",
            "7       65     135\n",
            "8       66     139\n",
            "9       67     142\n",
            "10      68     146\n",
            "11      69     150\n",
            "12      70     154\n",
            "13      71     159\n",
            "14      72     164\n"
          ],
          "name": "stdout"
        }
      ]
    },
    {
      "cell_type": "code",
      "metadata": {
        "id": "wki-9ajzg8mR",
        "colab_type": "code",
        "colab": {
          "base_uri": "https://localhost:8080/",
          "height": 142
        },
        "outputId": "4847268a-469c-4bcb-85b4-13bbb8cf7d8f"
      },
      "source": [
        "data = pd.DataFrame({'A': [1.1, 2.7, 5.3], 'B': [2, 10, 9], 'C': [3.3, 5.4, 1.5], 'D': [4, 7, 15]},\n",
        "                      index = ['a1', 'a2', 'a3'])\n",
        "data"
      ],
      "execution_count": null,
      "outputs": [
        {
          "output_type": "execute_result",
          "data": {
            "text/html": [
              "<div>\n",
              "<style scoped>\n",
              "    .dataframe tbody tr th:only-of-type {\n",
              "        vertical-align: middle;\n",
              "    }\n",
              "\n",
              "    .dataframe tbody tr th {\n",
              "        vertical-align: top;\n",
              "    }\n",
              "\n",
              "    .dataframe thead th {\n",
              "        text-align: right;\n",
              "    }\n",
              "</style>\n",
              "<table border=\"1\" class=\"dataframe\">\n",
              "  <thead>\n",
              "    <tr style=\"text-align: right;\">\n",
              "      <th></th>\n",
              "      <th>A</th>\n",
              "      <th>B</th>\n",
              "      <th>C</th>\n",
              "      <th>D</th>\n",
              "    </tr>\n",
              "  </thead>\n",
              "  <tbody>\n",
              "    <tr>\n",
              "      <th>a1</th>\n",
              "      <td>1.1</td>\n",
              "      <td>2</td>\n",
              "      <td>3.3</td>\n",
              "      <td>4</td>\n",
              "    </tr>\n",
              "    <tr>\n",
              "      <th>a2</th>\n",
              "      <td>2.7</td>\n",
              "      <td>10</td>\n",
              "      <td>5.4</td>\n",
              "      <td>7</td>\n",
              "    </tr>\n",
              "    <tr>\n",
              "      <th>a3</th>\n",
              "      <td>5.3</td>\n",
              "      <td>9</td>\n",
              "      <td>1.5</td>\n",
              "      <td>15</td>\n",
              "    </tr>\n",
              "  </tbody>\n",
              "</table>\n",
              "</div>"
            ],
            "text/plain": [
              "      A   B    C   D\n",
              "a1  1.1   2  3.3   4\n",
              "a2  2.7  10  5.4   7\n",
              "a3  5.3   9  1.5  15"
            ]
          },
          "metadata": {
            "tags": []
          },
          "execution_count": 8
        }
      ]
    },
    {
      "cell_type": "code",
      "metadata": {
        "id": "7OhcmWKjhPUC",
        "colab_type": "code",
        "colab": {
          "base_uri": "https://localhost:8080/",
          "height": 102
        },
        "outputId": "58bb1317-57e4-4838-e037-00b68478d435"
      },
      "source": [
        "data.dtypes"
      ],
      "execution_count": null,
      "outputs": [
        {
          "output_type": "execute_result",
          "data": {
            "text/plain": [
              "A    float64\n",
              "B      int64\n",
              "C    float64\n",
              "D      int64\n",
              "dtype: object"
            ]
          },
          "metadata": {
            "tags": []
          },
          "execution_count": 9
        }
      ]
    },
    {
      "cell_type": "code",
      "metadata": {
        "id": "1e167-XZhkSx",
        "colab_type": "code",
        "colab": {
          "base_uri": "https://localhost:8080/",
          "height": 34
        },
        "outputId": "3bc6c93e-0f81-49d6-ee44-7be362a53aa5"
      },
      "source": [
        "data.shape"
      ],
      "execution_count": null,
      "outputs": [
        {
          "output_type": "execute_result",
          "data": {
            "text/plain": [
              "(3, 4)"
            ]
          },
          "metadata": {
            "tags": []
          },
          "execution_count": 10
        }
      ]
    },
    {
      "cell_type": "markdown",
      "metadata": {
        "id": "I8yIF6ySSYaX",
        "colab_type": "text"
      },
      "source": [
        "La position des éléments dans le dataframe sert d’index. Comme pour les séries, les valeur sont accessibles dans l’attribut values et l’index dans l’attribut index. Les colonnes sont également indexées :"
      ]
    },
    {
      "cell_type": "code",
      "metadata": {
        "id": "7YOEWDnBSZRh",
        "colab_type": "code",
        "colab": {
          "base_uri": "https://localhost:8080/",
          "height": 34
        },
        "outputId": "748e26fb-8613-470a-8479-5c0e23840363"
      },
      "source": [
        "print(df.columns)"
      ],
      "execution_count": null,
      "outputs": [
        {
          "output_type": "stream",
          "text": [
            "Index(['height', 'weight'], dtype='object')\n"
          ],
          "name": "stdout"
        }
      ]
    },
    {
      "cell_type": "markdown",
      "metadata": {
        "id": "zr_v3s9HSgYg",
        "colab_type": "text"
      },
      "source": [
        "La méthode head() permet d’afficher les premières lignes (les 5 premières, par défaut). On peut modifier son paramètre n pour indiquer le nombre de lignes à retourner :"
      ]
    },
    {
      "cell_type": "code",
      "metadata": {
        "id": "9U6TXQkhSjCg",
        "colab_type": "code",
        "colab": {
          "base_uri": "https://localhost:8080/",
          "height": 111
        },
        "outputId": "edfe75c7-c2ad-4b09-9a2d-6f944fb6d32c"
      },
      "source": [
        "df.head(2)"
      ],
      "execution_count": null,
      "outputs": [
        {
          "output_type": "execute_result",
          "data": {
            "text/html": [
              "<div>\n",
              "<style scoped>\n",
              "    .dataframe tbody tr th:only-of-type {\n",
              "        vertical-align: middle;\n",
              "    }\n",
              "\n",
              "    .dataframe tbody tr th {\n",
              "        vertical-align: top;\n",
              "    }\n",
              "\n",
              "    .dataframe thead th {\n",
              "        text-align: right;\n",
              "    }\n",
              "</style>\n",
              "<table border=\"1\" class=\"dataframe\">\n",
              "  <thead>\n",
              "    <tr style=\"text-align: right;\">\n",
              "      <th></th>\n",
              "      <th>height</th>\n",
              "      <th>weight</th>\n",
              "    </tr>\n",
              "  </thead>\n",
              "  <tbody>\n",
              "    <tr>\n",
              "      <th>0</th>\n",
              "      <td>58</td>\n",
              "      <td>115</td>\n",
              "    </tr>\n",
              "    <tr>\n",
              "      <th>1</th>\n",
              "      <td>59</td>\n",
              "      <td>117</td>\n",
              "    </tr>\n",
              "  </tbody>\n",
              "</table>\n",
              "</div>"
            ],
            "text/plain": [
              "   height  weight\n",
              "0      58     115\n",
              "1      59     117"
            ]
          },
          "metadata": {
            "tags": []
          },
          "execution_count": 13
        }
      ]
    },
    {
      "cell_type": "markdown",
      "metadata": {
        "id": "zguI-RBySmZo",
        "colab_type": "text"
      },
      "source": [
        "Lors de la création d’un dataframe à partir d’un dictionnaire, si on précise le nom des colonnes à importer par une liste de chaînes de caractères fournie au paramètree columns de la fonction DataFrame, on peut non seulement définir les colonnes à remplir mais également leur ordre d’apparition.\n",
        "\n",
        "Par exemple, pour n’importer que la colonne weight :"
      ]
    },
    {
      "cell_type": "code",
      "metadata": {
        "id": "1H48OjpkSsDI",
        "colab_type": "code",
        "colab": {}
      },
      "source": [
        "df = pd.DataFrame(dico, columns = [\"weight\"])\n",
        "print(df.head(2))"
      ],
      "execution_count": null,
      "outputs": []
    },
    {
      "cell_type": "markdown",
      "metadata": {
        "id": "l64SX4LZVTP_",
        "colab_type": "text"
      },
      "source": [
        "Et pour définir l’ordre dans lequel les colonnes apparaîtront :"
      ]
    },
    {
      "cell_type": "code",
      "metadata": {
        "id": "fGV2cXhbVUDX",
        "colab_type": "code",
        "colab": {}
      },
      "source": [
        "df = pd.DataFrame(dico, columns = [\"weight\", \"height\"])\n",
        "print(df.head(2))"
      ],
      "execution_count": null,
      "outputs": []
    },
    {
      "cell_type": "markdown",
      "metadata": {
        "id": "PgK50GoPVbMo",
        "colab_type": "text"
      },
      "source": [
        "Si on indique un nom de colonne absent parmi les clés du dictionnaires, le dataframe résultant contiendra une colonne portant ce nom mais remplie de valeurs NaN :"
      ]
    },
    {
      "cell_type": "code",
      "metadata": {
        "id": "PVKZQ2AnVcgZ",
        "colab_type": "code",
        "colab": {
          "base_uri": "https://localhost:8080/",
          "height": 68
        },
        "outputId": "47525474-f70f-4acc-d49e-f8cf8ff12ae7"
      },
      "source": [
        "df = pd.DataFrame(dico, columns = [\"weight\", \"height\", \"age\"])\n",
        "print(df.head(2))"
      ],
      "execution_count": null,
      "outputs": [
        {
          "output_type": "stream",
          "text": [
            "   weight  height  age\n",
            "0     115      58  NaN\n",
            "1     117      59  NaN\n"
          ],
          "name": "stdout"
        }
      ]
    },
    {
      "cell_type": "markdown",
      "metadata": {
        "id": "QUiXi1uqVmkO",
        "colab_type": "text"
      },
      "source": [
        "Un dataframe peut être créé à partir d’une série "
      ]
    },
    {
      "cell_type": "code",
      "metadata": {
        "id": "uGtkJd3kVouw",
        "colab_type": "code",
        "colab": {
          "base_uri": "https://localhost:8080/",
          "height": 102
        },
        "outputId": "956eebc0-6d80-4a40-9fbe-ea8776b5d002"
      },
      "source": [
        "s = pd.Series([1, 4, -1, np.nan], index = [\"o\", \"d\", \"i\", \"l\"])\n",
        "s.name = \"nom_variable\"\n",
        "df = pd.DataFrame(s, columns = [\"nom_variable\"])\n",
        "print(df)"
      ],
      "execution_count": null,
      "outputs": [
        {
          "output_type": "stream",
          "text": [
            "   nom_variable\n",
            "o           1.0\n",
            "d           4.0\n",
            "i          -1.0\n",
            "l           NaN\n"
          ],
          "name": "stdout"
        }
      ]
    },
    {
      "cell_type": "markdown",
      "metadata": {
        "id": "SiRjAXAEVtw7",
        "colab_type": "text"
      },
      "source": [
        "Si on n’attribue pas de nom à la série, il suffit de ne pas renseigner le paramètre columns de la fonction DataFrame. Mais dans ce cas, la colonne n’aura pas de non, juste un index numérique."
      ]
    },
    {
      "cell_type": "code",
      "metadata": {
        "id": "aLgkbRToV0vf",
        "colab_type": "code",
        "colab": {
          "base_uri": "https://localhost:8080/",
          "height": 102
        },
        "outputId": "fc9c1e08-964e-45fb-e424-d2696c9f20da"
      },
      "source": [
        "s = pd.Series([1, 4, -1, np.nan], index = [\"o\", \"d\", \"i\", \"l\"])\n",
        "df = pd.DataFrame(s)\n",
        "print(df)"
      ],
      "execution_count": null,
      "outputs": [
        {
          "output_type": "stream",
          "text": [
            "     0\n",
            "o  1.0\n",
            "d  4.0\n",
            "i -1.0\n",
            "l  NaN\n"
          ],
          "name": "stdout"
        }
      ]
    },
    {
      "cell_type": "markdown",
      "metadata": {
        "id": "YphEEuHXWADD",
        "colab_type": "text"
      },
      "source": [
        "On accède aux dimensions d’un dataframe avec l’attribut shape."
      ]
    },
    {
      "cell_type": "code",
      "metadata": {
        "id": "wAVpuFP_WBLV",
        "colab_type": "code",
        "colab": {
          "base_uri": "https://localhost:8080/",
          "height": 34
        },
        "outputId": "2689bacc-e0f7-41d0-b0e0-866cd7c8df92"
      },
      "source": [
        "print(\"shape : \", df.shape)"
      ],
      "execution_count": null,
      "outputs": [
        {
          "output_type": "stream",
          "text": [
            "shape :  (4, 1)\n"
          ],
          "name": "stdout"
        }
      ]
    },
    {
      "cell_type": "markdown",
      "metadata": {
        "id": "yIQhPp3XWHFe",
        "colab_type": "text"
      },
      "source": [
        "On peut aussi afficher le nombre de lignes comme suit :"
      ]
    },
    {
      "cell_type": "code",
      "metadata": {
        "id": "9-0z89ydWICM",
        "colab_type": "code",
        "colab": {
          "base_uri": "https://localhost:8080/",
          "height": 34
        },
        "outputId": "4ac18246-fd62-4011-a163-fbbe0141910e"
      },
      "source": [
        "print(\"shape : \", len(df))"
      ],
      "execution_count": null,
      "outputs": [
        {
          "output_type": "stream",
          "text": [
            "shape :  4\n"
          ],
          "name": "stdout"
        }
      ]
    },
    {
      "cell_type": "markdown",
      "metadata": {
        "id": "mPqfaJYNhe7L",
        "colab_type": "text"
      },
      "source": [
        "## 3) Selection\n",
        "3.1) Séries\n",
        "\n",
        "Dans un premier temps, regardons les manières d’extraire des valeurs contenues dans des séries. On peut utiliser l’index pour extraire les données :"
      ]
    },
    {
      "cell_type": "code",
      "metadata": {
        "id": "rsXjHbyrRB3N",
        "colab_type": "code",
        "colab": {
          "base_uri": "https://localhost:8080/",
          "height": 136
        },
        "outputId": "f627a165-275a-4e91-ff34-1f3388aee01b"
      },
      "source": [
        "s = pd.Series([1, 4, -1, np.nan, .5, 1])\n",
        "s"
      ],
      "execution_count": 3,
      "outputs": [
        {
          "output_type": "execute_result",
          "data": {
            "text/plain": [
              "0    1.0\n",
              "1    4.0\n",
              "2   -1.0\n",
              "3    NaN\n",
              "4    0.5\n",
              "5    1.0\n",
              "dtype: float64"
            ]
          },
          "metadata": {
            "tags": []
          },
          "execution_count": 3
        }
      ]
    },
    {
      "cell_type": "code",
      "metadata": {
        "id": "33nDZIYaRKAi",
        "colab_type": "code",
        "colab": {
          "base_uri": "https://localhost:8080/",
          "height": 68
        },
        "outputId": "3f2b77cf-2613-44ac-ed93-723b3fe12f9f"
      },
      "source": [
        "s[0] # 1er élément de s\n",
        "s[1:3] # du 2e élément (inclus) au 4e (non inclus)\n",
        "s[[0,4]] # 1er et 5e éléments"
      ],
      "execution_count": 4,
      "outputs": [
        {
          "output_type": "execute_result",
          "data": {
            "text/plain": [
              "0    1.0\n",
              "4    0.5\n",
              "dtype: float64"
            ]
          },
          "metadata": {
            "tags": []
          },
          "execution_count": 4
        }
      ]
    },
    {
      "cell_type": "markdown",
      "metadata": {
        "id": "8gY8bLEWRcDq",
        "colab_type": "text"
      },
      "source": [
        "Quand on veut changer une cellule d'un dataframe en utilisant à la fois un numéro de ligne et un nom de colonne \n",
        "\n",
        "```\n",
        "df.loc[df.index[3], 'A']\n",
        "```\n",
        "\n",
        "\n",
        "\n"
      ]
    },
    {
      "cell_type": "code",
      "metadata": {
        "id": "GxWNQBkgRe_P",
        "colab_type": "code",
        "colab": {
          "base_uri": "https://localhost:8080/",
          "height": 102
        },
        "outputId": "f39270d5-86a4-4af3-e1ab-74a8f078dad7"
      },
      "source": [
        "s_num = pd.Series([1, 4, -1, np.nan],\n",
        "             index = [5, 0, 4, 1])\n",
        "s_texte = pd.Series([1, 4, -1, np.nan],\n",
        "             index = [\"c\", \"a\", \"b\", \"d\"])\n",
        "s_texte"
      ],
      "execution_count": 6,
      "outputs": [
        {
          "output_type": "execute_result",
          "data": {
            "text/plain": [
              "c    1.0\n",
              "a    4.0\n",
              "b   -1.0\n",
              "d    NaN\n",
              "dtype: float64"
            ]
          },
          "metadata": {
            "tags": []
          },
          "execution_count": 6
        }
      ]
    },
    {
      "cell_type": "code",
      "metadata": {
        "id": "NJ7163UJSqyw",
        "colab_type": "code",
        "colab": {
          "base_uri": "https://localhost:8080/",
          "height": 102
        },
        "outputId": "c0859ecf-a083-45f5-e0fc-f83aa050dd7a"
      },
      "source": [
        "s_num"
      ],
      "execution_count": 7,
      "outputs": [
        {
          "output_type": "execute_result",
          "data": {
            "text/plain": [
              "5    1.0\n",
              "0    4.0\n",
              "4   -1.0\n",
              "1    NaN\n",
              "dtype: float64"
            ]
          },
          "metadata": {
            "tags": []
          },
          "execution_count": 7
        }
      ]
    },
    {
      "cell_type": "markdown",
      "metadata": {
        "id": "v7tIeTR0SyT9",
        "colab_type": "text"
      },
      "source": [
        "Pour extraire un objet avec loc, on utilise le nom de l’indice :"
      ]
    },
    {
      "cell_type": "code",
      "metadata": {
        "id": "iVCz7l-nSzjZ",
        "colab_type": "code",
        "colab": {
          "base_uri": "https://localhost:8080/",
          "height": 34
        },
        "outputId": "c72d643c-e877-42fa-ccc5-aa414a3b3929"
      },
      "source": [
        "print(s_num.loc[5], s_texte.loc[\"c\"])"
      ],
      "execution_count": 8,
      "outputs": [
        {
          "output_type": "stream",
          "text": [
            "1.0 1.0\n"
          ],
          "name": "stdout"
        }
      ]
    },
    {
      "cell_type": "markdown",
      "metadata": {
        "id": "7RchJWb_S_Vk",
        "colab_type": "text"
      },
      "source": [
        "Pour extraire un élément unique avec iloc, il suffit d’indiquer sa position :"
      ]
    },
    {
      "cell_type": "code",
      "metadata": {
        "id": "1sefkS2aTAar",
        "colab_type": "code",
        "colab": {
          "base_uri": "https://localhost:8080/",
          "height": 34
        },
        "outputId": "166079a6-2445-48a6-c30e-c396831d95a4"
      },
      "source": [
        "(s_num.iloc[1], s_texte.iloc[1])"
      ],
      "execution_count": 9,
      "outputs": [
        {
          "output_type": "execute_result",
          "data": {
            "text/plain": [
              "(4.0, 4.0)"
            ]
          },
          "metadata": {
            "tags": []
          },
          "execution_count": 9
        }
      ]
    },
    {
      "cell_type": "markdown",
      "metadata": {
        "id": "-2mj7lVQTFQq",
        "colab_type": "text"
      },
      "source": [
        "Pour extraire plusieurs éléments avec loc, on utilise les noms (labels) des indices, que l’on fournit dans une liste :\n"
      ]
    },
    {
      "cell_type": "code",
      "metadata": {
        "id": "hMxwK1sKTJWW",
        "colab_type": "code",
        "colab": {
          "base_uri": "https://localhost:8080/",
          "height": 85
        },
        "outputId": "d524b593-290e-4ce5-9eb3-cc9f45dd0150"
      },
      "source": [
        "print(\"éléments aux labels 5 et 4 :\\n\", s_num.loc[[5,4]])"
      ],
      "execution_count": 10,
      "outputs": [
        {
          "output_type": "stream",
          "text": [
            "éléments aux labels 5 et 4 :\n",
            " 5    1.0\n",
            "4   -1.0\n",
            "dtype: float64\n"
          ],
          "name": "stdout"
        }
      ]
    },
    {
      "cell_type": "markdown",
      "metadata": {
        "id": "YixCRpzATNyi",
        "colab_type": "text"
      },
      "source": [
        "Pour extraire plusieurs éléments avec iloc :"
      ]
    },
    {
      "cell_type": "code",
      "metadata": {
        "id": "quXGz1wZTO0B",
        "colab_type": "code",
        "colab": {
          "base_uri": "https://localhost:8080/",
          "height": 85
        },
        "outputId": "09726386-14cc-43a8-bb9e-b10de105931c"
      },
      "source": [
        "print(\"éléments aux positions 0 et 2 :\\n\", s_num.iloc[[0,2]])"
      ],
      "execution_count": 11,
      "outputs": [
        {
          "output_type": "stream",
          "text": [
            "éléments aux positions 0 et 2 :\n",
            " 5    1.0\n",
            "4   -1.0\n",
            "dtype: float64\n"
          ],
          "name": "stdout"
        }
      ]
    },
    {
      "cell_type": "markdown",
      "metadata": {
        "id": "Z7lWs7WZTWjN",
        "colab_type": "text"
      },
      "source": [
        "On peut effectuer des découpages de séries, pour récupérer des éléments consécutifs "
      ]
    },
    {
      "cell_type": "code",
      "metadata": {
        "id": "8ndrOAx2TXkm",
        "colab_type": "code",
        "colab": {
          "base_uri": "https://localhost:8080/",
          "height": 102
        },
        "outputId": "a251fc7e-23a6-4892-a940-0ca4c1be9763"
      },
      "source": [
        "print(\"éléments des labels 5 jusqu'à 4 :\\n\", s_num.loc[5:4])"
      ],
      "execution_count": 12,
      "outputs": [
        {
          "output_type": "stream",
          "text": [
            "éléments des labels 5 jusqu'à 4 :\n",
            " 5    1.0\n",
            "0    4.0\n",
            "4   -1.0\n",
            "dtype: float64\n"
          ],
          "name": "stdout"
        }
      ]
    },
    {
      "cell_type": "markdown",
      "metadata": {
        "id": "st7oVrSvTdze",
        "colab_type": "text"
      },
      "source": [
        "Pour extraire plusieurs éléments avec iloc :\n"
      ]
    },
    {
      "cell_type": "code",
      "metadata": {
        "id": "7ZpnFJ4QTe4D",
        "colab_type": "code",
        "colab": {
          "base_uri": "https://localhost:8080/",
          "height": 85
        },
        "outputId": "dc18d737-7bb5-432a-eb66-3a3a3bf7e1a7"
      },
      "source": [
        "print(\"éléments aux positions de 0 à 2 :\\n\", s_num.iloc[0:2])"
      ],
      "execution_count": 13,
      "outputs": [
        {
          "output_type": "stream",
          "text": [
            "éléments aux positions de 0 à 2 :\n",
            " 5    1.0\n",
            "0    4.0\n",
            "dtype: float64\n"
          ],
          "name": "stdout"
        }
      ]
    },
    {
      "cell_type": "markdown",
      "metadata": {
        "id": "wkD1dUaDTsH6",
        "colab_type": "text"
      },
      "source": [
        "3.2) Dataframe\n",
        "\n",
        "À présent, regardons différentes manières d’extraire des données depuis un dataframe. Créons deux dataframes en exemple, l’une avec un index numérique ; une autre avec un index textuel :"
      ]
    },
    {
      "cell_type": "code",
      "metadata": {
        "id": "glyJemIdYs90",
        "colab_type": "code",
        "colab": {
          "base_uri": "https://localhost:8080/",
          "height": 289
        },
        "outputId": "8e4d1663-35c1-4f1c-d7eb-ec9649ee0604"
      },
      "source": [
        "dico = {\"height\" : \n",
        "               [58, 59, 60, 61, 62,\n",
        "                63, 64, 65, 66, 67,\n",
        "                68, 69, 70, 71, 72],\n",
        "        \"weight\": \n",
        "               [115, 117, 120, 123, 126,\n",
        "                129, 132, 135, 139, 142,\n",
        "                146, 150, 154, 159, 164]\n",
        "       } \n",
        "df = pd.DataFrame(dico)\n",
        "print(df)"
      ],
      "execution_count": 21,
      "outputs": [
        {
          "output_type": "stream",
          "text": [
            "    height  weight\n",
            "0       58     115\n",
            "1       59     117\n",
            "2       60     120\n",
            "3       61     123\n",
            "4       62     126\n",
            "5       63     129\n",
            "6       64     132\n",
            "7       65     135\n",
            "8       66     139\n",
            "9       67     142\n",
            "10      68     146\n",
            "11      69     150\n",
            "12      70     154\n",
            "13      71     159\n",
            "14      72     164\n"
          ],
          "name": "stdout"
        }
      ]
    },
    {
      "cell_type": "code",
      "metadata": {
        "id": "Gu7bet6QT9Ee",
        "colab_type": "code",
        "colab": {
          "base_uri": "https://localhost:8080/",
          "height": 514
        },
        "outputId": "e597a110-6666-412a-b5eb-26646001140a"
      },
      "source": [
        "df"
      ],
      "execution_count": 15,
      "outputs": [
        {
          "output_type": "execute_result",
          "data": {
            "text/html": [
              "<div>\n",
              "<style scoped>\n",
              "    .dataframe tbody tr th:only-of-type {\n",
              "        vertical-align: middle;\n",
              "    }\n",
              "\n",
              "    .dataframe tbody tr th {\n",
              "        vertical-align: top;\n",
              "    }\n",
              "\n",
              "    .dataframe thead th {\n",
              "        text-align: right;\n",
              "    }\n",
              "</style>\n",
              "<table border=\"1\" class=\"dataframe\">\n",
              "  <thead>\n",
              "    <tr style=\"text-align: right;\">\n",
              "      <th></th>\n",
              "      <th>height</th>\n",
              "      <th>weight</th>\n",
              "    </tr>\n",
              "  </thead>\n",
              "  <tbody>\n",
              "    <tr>\n",
              "      <th>0</th>\n",
              "      <td>58</td>\n",
              "      <td>115</td>\n",
              "    </tr>\n",
              "    <tr>\n",
              "      <th>1</th>\n",
              "      <td>59</td>\n",
              "      <td>117</td>\n",
              "    </tr>\n",
              "    <tr>\n",
              "      <th>2</th>\n",
              "      <td>60</td>\n",
              "      <td>120</td>\n",
              "    </tr>\n",
              "    <tr>\n",
              "      <th>3</th>\n",
              "      <td>61</td>\n",
              "      <td>123</td>\n",
              "    </tr>\n",
              "    <tr>\n",
              "      <th>4</th>\n",
              "      <td>62</td>\n",
              "      <td>126</td>\n",
              "    </tr>\n",
              "    <tr>\n",
              "      <th>5</th>\n",
              "      <td>63</td>\n",
              "      <td>129</td>\n",
              "    </tr>\n",
              "    <tr>\n",
              "      <th>6</th>\n",
              "      <td>64</td>\n",
              "      <td>132</td>\n",
              "    </tr>\n",
              "    <tr>\n",
              "      <th>7</th>\n",
              "      <td>65</td>\n",
              "      <td>135</td>\n",
              "    </tr>\n",
              "    <tr>\n",
              "      <th>8</th>\n",
              "      <td>66</td>\n",
              "      <td>139</td>\n",
              "    </tr>\n",
              "    <tr>\n",
              "      <th>9</th>\n",
              "      <td>67</td>\n",
              "      <td>142</td>\n",
              "    </tr>\n",
              "    <tr>\n",
              "      <th>10</th>\n",
              "      <td>68</td>\n",
              "      <td>146</td>\n",
              "    </tr>\n",
              "    <tr>\n",
              "      <th>11</th>\n",
              "      <td>69</td>\n",
              "      <td>150</td>\n",
              "    </tr>\n",
              "    <tr>\n",
              "      <th>12</th>\n",
              "      <td>70</td>\n",
              "      <td>154</td>\n",
              "    </tr>\n",
              "    <tr>\n",
              "      <th>13</th>\n",
              "      <td>71</td>\n",
              "      <td>159</td>\n",
              "    </tr>\n",
              "    <tr>\n",
              "      <th>14</th>\n",
              "      <td>72</td>\n",
              "      <td>164</td>\n",
              "    </tr>\n",
              "  </tbody>\n",
              "</table>\n",
              "</div>"
            ],
            "text/plain": [
              "    height  weight\n",
              "0       58     115\n",
              "1       59     117\n",
              "2       60     120\n",
              "3       61     123\n",
              "4       62     126\n",
              "5       63     129\n",
              "6       64     132\n",
              "7       65     135\n",
              "8       66     139\n",
              "9       67     142\n",
              "10      68     146\n",
              "11      69     150\n",
              "12      70     154\n",
              "13      71     159\n",
              "14      72     164"
            ]
          },
          "metadata": {
            "tags": []
          },
          "execution_count": 15
        }
      ]
    },
    {
      "cell_type": "markdown",
      "metadata": {
        "id": "ZmMI6nSUT8Lv",
        "colab_type": "text"
      },
      "source": [
        "Pour faire simple, lorsqu’on veut effectuer une extraction avec les attributs iloc, la syntaxe est la suivante :\n",
        "\n",
        "```\n",
        "df.iloc[selection_lignes, selection_colonnes]\n",
        "```\n",
        "\n",
        "avec selection_lignes :\n",
        "\n",
        "* une valeur unique : 1 (seconde ligne) ;\n",
        "* une liste de valeurs : [2, 1, 3] (3e ligne, 2e ligne et 4e ligne) ;\n",
        "* un découpage : [2:4] (de la 3e ligne à la 4e ligne (non incluse)).\n",
        "\n",
        "pour selection_colonnes \n",
        "* une valeur unique : 1 (seconde colonne) ;\n",
        "* une liste de valeurs : [2, 1, 3] (3e colonne, 2e colonne et 4e colonne) ;\n",
        "* un découpage : [2:4] (de la 3e colonne à la 4e colonne (non incluse)).\n"
      ]
    },
    {
      "cell_type": "code",
      "metadata": {
        "id": "Cmr5GVKMXzZj",
        "colab_type": "code",
        "colab": {
          "base_uri": "https://localhost:8080/",
          "height": 68
        },
        "outputId": "d7bfddd7-6abe-4893-9b28-76be4a048513"
      },
      "source": [
        "print(\"Colonnes de la position 0 à 2 (non incluse) :\\n\", \n",
        "      df.iloc[:1])"
      ],
      "execution_count": 18,
      "outputs": [
        {
          "output_type": "stream",
          "text": [
            "Colonnes de la position 0 à 2 (non incluse) :\n",
            "    height  weight\n",
            "0      58     115\n"
          ],
          "name": "stdout"
        }
      ]
    },
    {
      "cell_type": "markdown",
      "metadata": {
        "id": "CGh1gWvbYIZk",
        "colab_type": "text"
      },
      "source": [
        "Pour renommer une colonne dans un dataframe, pandas propose la méthode rename()"
      ]
    },
    {
      "cell_type": "code",
      "metadata": {
        "id": "fui6IFXyYLUq",
        "colab_type": "code",
        "colab": {
          "base_uri": "https://localhost:8080/",
          "height": 289
        },
        "outputId": "74aeb24b-e7f2-4e4f-f399-f4c4b02f4955"
      },
      "source": [
        "df.rename(index=str, columns={\"height\": \"taille\", \"weight\": \"masse\"}, inplace=True)\n",
        "print(df)"
      ],
      "execution_count": 22,
      "outputs": [
        {
          "output_type": "stream",
          "text": [
            "    taille  masse\n",
            "0       58    115\n",
            "1       59    117\n",
            "2       60    120\n",
            "3       61    123\n",
            "4       62    126\n",
            "5       63    129\n",
            "6       64    132\n",
            "7       65    135\n",
            "8       66    139\n",
            "9       67    142\n",
            "10      68    146\n",
            "11      69    150\n",
            "12      70    154\n",
            "13      71    159\n",
            "14      72    164\n"
          ],
          "name": "stdout"
        }
      ]
    },
    {
      "cell_type": "code",
      "metadata": {
        "id": "05hLVm9OZYbo",
        "colab_type": "code",
        "colab": {
          "base_uri": "https://localhost:8080/",
          "height": 119
        },
        "outputId": "c24e5252-3285-4064-94eb-dfc165dce8e9"
      },
      "source": [
        "dc = {\"height\" : [58, 59, 60, 61, 62],\n",
        "        \"weight\": [115, 117, 120, 123, 126],\n",
        "        \"age\": [28, 33, 31, 31, 29],\n",
        "        \"taille\": [162, 156, 172, 160, 158],\n",
        "       } \n",
        "df = pd.DataFrame(dc)\n",
        "print(df)"
      ],
      "execution_count": 23,
      "outputs": [
        {
          "output_type": "stream",
          "text": [
            "   height  weight  age  taille\n",
            "0      58     115   28     162\n",
            "1      59     117   33     156\n",
            "2      60     120   31     172\n",
            "3      61     123   31     160\n",
            "4      62     126   29     158\n"
          ],
          "name": "stdout"
        }
      ]
    },
    {
      "cell_type": "markdown",
      "metadata": {
        "id": "GgODyJRoZft3",
        "colab_type": "text"
      },
      "source": [
        "L’idée consiste à créer un masque retournant une série contenant des valeurs booléennes, une par ligne. Lorsque la valeur de la ligne du masque vaut True, la ligne du dataframe sur lequel sera appliqué le masque sera retenue, tandis qu’elle ne le sera pas quand la valeur de la ligne du masque vaut False.\n",
        "\n",
        "Regardons un exemple simple, dans lequel nous souhaitons conserver les observations uniquement pour lesquelles la valeur de la variable age est inférieure à 30 :"
      ]
    },
    {
      "cell_type": "code",
      "metadata": {
        "id": "0-T_YkLCZhCl",
        "colab_type": "code",
        "colab": {
          "base_uri": "https://localhost:8080/",
          "height": 119
        },
        "outputId": "37e59c86-3b75-42ea-b425-d220424bb319"
      },
      "source": [
        "# Filtrage\n",
        "masque = df[\"age\"] < 30\n",
        "print(masque)"
      ],
      "execution_count": 24,
      "outputs": [
        {
          "output_type": "stream",
          "text": [
            "0     True\n",
            "1    False\n",
            "2    False\n",
            "3    False\n",
            "4     True\n",
            "Name: age, dtype: bool\n"
          ],
          "name": "stdout"
        }
      ]
    },
    {
      "cell_type": "markdown",
      "metadata": {
        "id": "IkDJTpe6ZrOy",
        "colab_type": "text"
      },
      "source": [
        "Il reste alors à appliquer ce masque, avec loc. On souhaite l’ensemble des colonnes, mais seulement quelques lignes :"
      ]
    },
    {
      "cell_type": "code",
      "metadata": {
        "id": "dTkBep1sZsHW",
        "colab_type": "code",
        "colab": {
          "base_uri": "https://localhost:8080/",
          "height": 68
        },
        "outputId": "8a6db8d4-2b91-4e9a-bf2b-97b74215800f"
      },
      "source": [
        "print(df.loc[masque])"
      ],
      "execution_count": 25,
      "outputs": [
        {
          "output_type": "stream",
          "text": [
            "   height  weight  age  taille\n",
            "0      58     115   28     162\n",
            "4      62     126   29     158\n"
          ],
          "name": "stdout"
        }
      ]
    },
    {
      "cell_type": "markdown",
      "metadata": {
        "id": "vZ24ZPYUZzDh",
        "colab_type": "text"
      },
      "source": [
        "Plus simplement, on peut utiliser la méthode query() de pandas. On fournit une expression booléenne à évaluer à cette méthode pour filtrer les données :"
      ]
    },
    {
      "cell_type": "code",
      "metadata": {
        "id": "XMuT6JRWZ0AM",
        "colab_type": "code",
        "colab": {
          "base_uri": "https://localhost:8080/",
          "height": 68
        },
        "outputId": "63e8e4d3-5af0-43a2-df0b-feea97df900d"
      },
      "source": [
        "print(df.query(\"age<30\"))"
      ],
      "execution_count": 26,
      "outputs": [
        {
          "output_type": "stream",
          "text": [
            "   height  weight  age  taille\n",
            "0      58     115   28     162\n",
            "4      62     126   29     158\n"
          ],
          "name": "stdout"
        }
      ]
    },
    {
      "cell_type": "code",
      "metadata": {
        "id": "dd1KSmIEZ6g5",
        "colab_type": "code",
        "colab": {
          "base_uri": "https://localhost:8080/",
          "height": 51
        },
        "outputId": "2aedd557-3c44-48ed-edaa-f2e5dfd5ccef"
      },
      "source": [
        "print(df.query(\"weight > 120 and height < 62\"))"
      ],
      "execution_count": 27,
      "outputs": [
        {
          "output_type": "stream",
          "text": [
            "   height  weight  age  taille\n",
            "3      61     123   31     160\n"
          ],
          "name": "stdout"
        }
      ]
    },
    {
      "cell_type": "markdown",
      "metadata": {
        "id": "wuLAsQhmaP4N",
        "colab_type": "text"
      },
      "source": [
        "Avec la méthode isnull(), un masque de booléens est retournée, indiquant True pour les observations dont la valeur est NaN ou None (valeurs manquantes) :"
      ]
    },
    {
      "cell_type": "code",
      "metadata": {
        "id": "ulVspBnaaaaJ",
        "colab_type": "code",
        "colab": {
          "base_uri": "https://localhost:8080/",
          "height": 119
        },
        "outputId": "2e72e6df-1424-4bc9-a42e-82c80440ab3c"
      },
      "source": [
        "print(df.isnull())"
      ],
      "execution_count": 28,
      "outputs": [
        {
          "output_type": "stream",
          "text": [
            "   height  weight    age  taille\n",
            "0   False   False  False   False\n",
            "1   False   False  False   False\n",
            "2   False   False  False   False\n",
            "3   False   False  False   False\n",
            "4   False   False  False   False\n"
          ],
          "name": "stdout"
        }
      ]
    },
    {
      "cell_type": "markdown",
      "metadata": {
        "id": "jmpBtbuZap3-",
        "colab_type": "text"
      },
      "source": [
        "Pour savoir si une valeur n’est pas nulle, on dispose de la méthode notnull() :"
      ]
    },
    {
      "cell_type": "code",
      "metadata": {
        "id": "jm1CZAL8aq2p",
        "colab_type": "code",
        "colab": {
          "base_uri": "https://localhost:8080/",
          "height": 136
        },
        "outputId": "b9f272dd-068c-474c-b60d-baf32a279691"
      },
      "source": [
        "print(s.notnull())"
      ],
      "execution_count": 29,
      "outputs": [
        {
          "output_type": "stream",
          "text": [
            "0     True\n",
            "1     True\n",
            "2     True\n",
            "3    False\n",
            "4     True\n",
            "5     True\n",
            "dtype: bool\n"
          ],
          "name": "stdout"
        }
      ]
    },
    {
      "cell_type": "markdown",
      "metadata": {
        "id": "ZRu0VI8DaxtG",
        "colab_type": "text"
      },
      "source": [
        "La méthode dropna() permet quant à elle de retirer les observations disposant de valeurs nulles :"
      ]
    },
    {
      "cell_type": "code",
      "metadata": {
        "id": "3hqtgK1Nay6C",
        "colab_type": "code",
        "colab": {
          "base_uri": "https://localhost:8080/",
          "height": 102
        },
        "outputId": "10df88a0-5136-489c-ab4a-8eb59d404088"
      },
      "source": [
        "s = pd.Series([1, None, -1, np.nan])\n",
        "print(s)"
      ],
      "execution_count": 30,
      "outputs": [
        {
          "output_type": "stream",
          "text": [
            "0    1.0\n",
            "1    NaN\n",
            "2   -1.0\n",
            "3    NaN\n",
            "dtype: float64\n"
          ],
          "name": "stdout"
        }
      ]
    },
    {
      "cell_type": "code",
      "metadata": {
        "id": "DQhrVvr5a26i",
        "colab_type": "code",
        "colab": {
          "base_uri": "https://localhost:8080/",
          "height": 68
        },
        "outputId": "8a5ac75e-4cd1-44c7-f77d-a3f9b529595e"
      },
      "source": [
        "print(s.dropna())"
      ],
      "execution_count": 31,
      "outputs": [
        {
          "output_type": "stream",
          "text": [
            "0    1.0\n",
            "2   -1.0\n",
            "dtype: float64\n"
          ],
          "name": "stdout"
        }
      ]
    },
    {
      "cell_type": "markdown",
      "metadata": {
        "id": "WRb8J-3_bqbP",
        "colab_type": "text"
      },
      "source": [
        "Pour supprimer une valeur sur un des axes d’une série ou d’un dataframe, NumPy propose la méthode drop()"
      ]
    },
    {
      "cell_type": "code",
      "metadata": {
        "id": "KOIELSzmbrTH",
        "colab_type": "code",
        "colab": {}
      },
      "source": [
        "s_num = pd.Series([1, 4, -1, np.nan],\n",
        "             index = [5, 0, 4, 1])\n",
        "s_texte = pd.Series([1, 4, -1, np.nan],\n",
        "             index = [\"c\", \"a\", \"b\", \"d\"])\n",
        "dico = {\"height\" : [58, 59, 60, 61, np.nan],\n",
        "        \"weight\": [115, 117, 120, 123, 126],\n",
        "        \"age\": [28, 33, 31, np.nan, 29],\n",
        "        \"taille\": [162, 156, 172, 160, 158],\n",
        "       } \n",
        "df = pd.DataFrame(dico)"
      ],
      "execution_count": 35,
      "outputs": []
    },
    {
      "cell_type": "code",
      "metadata": {
        "id": "y87vi0bub4Li",
        "colab_type": "code",
        "colab": {
          "base_uri": "https://localhost:8080/",
          "height": 119
        },
        "outputId": "1baa0062-7ee0-495d-e298-03c86128c9eb"
      },
      "source": [
        "print(\"Supprimer la première ligne :  \\n\", df.drop(0))"
      ],
      "execution_count": 36,
      "outputs": [
        {
          "output_type": "stream",
          "text": [
            "Supprimer la première ligne :  \n",
            "    height  weight   age  taille\n",
            "1    59.0     117  33.0     156\n",
            "2    60.0     120  31.0     172\n",
            "3    61.0     123   NaN     160\n",
            "4     NaN     126  29.0     158\n"
          ],
          "name": "stdout"
        }
      ]
    },
    {
      "cell_type": "markdown",
      "metadata": {
        "id": "m7oK8-2AcF51",
        "colab_type": "text"
      },
      "source": [
        "Pour supprimer plusieurs lignes, on donne le nom de ces lignes dans une liste à la méthode drop() :"
      ]
    },
    {
      "cell_type": "code",
      "metadata": {
        "id": "BoG16CiucHUm",
        "colab_type": "code",
        "colab": {
          "base_uri": "https://localhost:8080/",
          "height": 102
        },
        "outputId": "be208cfc-da1f-441f-f511-f3e1d511724d"
      },
      "source": [
        "print(\"Supprimer les 1ère et 4e lignes :  \\n\", df.drop([1,3]))"
      ],
      "execution_count": 37,
      "outputs": [
        {
          "output_type": "stream",
          "text": [
            "Supprimer les 1ère et 4e lignes :  \n",
            "    height  weight   age  taille\n",
            "0    58.0     115  28.0     162\n",
            "2    60.0     120  31.0     172\n",
            "4     NaN     126  29.0     158\n"
          ],
          "name": "stdout"
        }
      ]
    },
    {
      "cell_type": "markdown",
      "metadata": {
        "id": "IP_cl2EScQIz",
        "colab_type": "text"
      },
      "source": [
        "Pour supprimer une colonne d’un dataframe, on procède de la même manière que pour les lignes, mais en ajoutant le paramètre axis=1 à la méthode drop() pour préciser que l’on s’intéresse aux colonnes :"
      ]
    },
    {
      "cell_type": "code",
      "metadata": {
        "id": "h60TpvcCcRnj",
        "colab_type": "code",
        "colab": {
          "base_uri": "https://localhost:8080/",
          "height": 136
        },
        "outputId": "319a77a1-6fa2-4a85-e656-0c7b4cf19877"
      },
      "source": [
        "print(\"Supprimer la première colonne :  \\n\", df.drop(\"height\", axis=1))"
      ],
      "execution_count": 39,
      "outputs": [
        {
          "output_type": "stream",
          "text": [
            "Supprimer la première colonne :  \n",
            "    weight   age  taille\n",
            "0     115  28.0     162\n",
            "1     117  33.0     156\n",
            "2     120  31.0     172\n",
            "3     123   NaN     160\n",
            "4     126  29.0     158\n"
          ],
          "name": "stdout"
        }
      ]
    },
    {
      "cell_type": "markdown",
      "metadata": {
        "id": "KFa0XcPAcqbo",
        "colab_type": "text"
      },
      "source": [
        "Pour modifier une valeur particulière dans une série ou dans un dataframe, on peut utiliser le symbole égale (=) en ayant au préalable ciblé l’emplacement de la valeur à modifier"
      ]
    },
    {
      "cell_type": "code",
      "metadata": {
        "id": "zCKjNru3ctvr",
        "colab_type": "code",
        "colab": {
          "base_uri": "https://localhost:8080/",
          "height": 153
        },
        "outputId": "5ffde13f-e4fd-4fd5-f7a7-6f39485af146"
      },
      "source": [
        "dico = {\"ville\" : [\"Marseille\", \"Aix\",\n",
        "                   \"Marseille\", \"Aix\", \"Paris\", \"Paris\"],\n",
        "        \"annee\": [2019, 2019, 2018, 2018,2019, 2019],\n",
        "        \"x\": [1, 2, 2, 2, 0, 0],\n",
        "        \"y\": [3, 3, 2, 1, 4, 4],\n",
        "       } \n",
        "df = pd.DataFrame(dico)\n",
        "print(\"df : \\n\", df)"
      ],
      "execution_count": 40,
      "outputs": [
        {
          "output_type": "stream",
          "text": [
            "df : \n",
            "        ville  annee  x  y\n",
            "0  Marseille   2019  1  3\n",
            "1        Aix   2019  2  3\n",
            "2  Marseille   2018  2  2\n",
            "3        Aix   2018  2  1\n",
            "4      Paris   2019  0  4\n",
            "5      Paris   2019  0  4\n"
          ],
          "name": "stdout"
        }
      ]
    },
    {
      "cell_type": "markdown",
      "metadata": {
        "id": "XJK7gAX9cz5n",
        "colab_type": "text"
      },
      "source": [
        "odifions la valeur de la première ligne de df pour la colonne annee, pour que celle-ci vaille 2020. Dans un premier temps, récupérons la position de la colonne annee dans le dataframe, à l’aide de la méthode get_loc() appliquée à l’attribut colnames du dataframe :"
      ]
    },
    {
      "cell_type": "code",
      "metadata": {
        "id": "_2apf4fqc0yD",
        "colab_type": "code",
        "colab": {
          "base_uri": "https://localhost:8080/",
          "height": 34
        },
        "outputId": "ee327926-6e80-4ae4-98f4-6a4d75dc96db"
      },
      "source": [
        "pos_annee = df.columns.get_loc(\"annee\")\n",
        "print(\"pos_annee : \", pos_annee)"
      ],
      "execution_count": 41,
      "outputs": [
        {
          "output_type": "stream",
          "text": [
            "pos_annee :  1\n"
          ],
          "name": "stdout"
        }
      ]
    },
    {
      "cell_type": "code",
      "metadata": {
        "id": "VsscB1AGc4D4",
        "colab_type": "code",
        "colab": {
          "base_uri": "https://localhost:8080/",
          "height": 153
        },
        "outputId": "6664c6ee-d4d5-4d01-dcc7-d030d681745f"
      },
      "source": [
        "# Ensuite, effectuons la modification :\n",
        "df.iloc[0,pos_annee] = 2020\n",
        "print(\"df : \\n\", df)"
      ],
      "execution_count": 42,
      "outputs": [
        {
          "output_type": "stream",
          "text": [
            "df : \n",
            "        ville  annee  x  y\n",
            "0  Marseille   2020  1  3\n",
            "1        Aix   2019  2  3\n",
            "2  Marseille   2018  2  2\n",
            "3        Aix   2018  2  1\n",
            "4      Paris   2019  0  4\n",
            "5      Paris   2019  0  4\n"
          ],
          "name": "stdout"
        }
      ]
    },
    {
      "cell_type": "markdown",
      "metadata": {
        "id": "oQbmf42BdPsr",
        "colab_type": "text"
      },
      "source": [
        "Pour modifier toutes les valeurs d’une colonne pour y placer une valeur particulière, par exemple un 2 dans la colonne x de df :\n",
        "\n"
      ]
    },
    {
      "cell_type": "code",
      "metadata": {
        "id": "r-TbjLUxdQeh",
        "colab_type": "code",
        "colab": {
          "base_uri": "https://localhost:8080/",
          "height": 153
        },
        "outputId": "37f87897-98e0-4b9d-f9d5-7c286837afb8"
      },
      "source": [
        "df.x = 2\n",
        "print(\"df : \\n\", df)"
      ],
      "execution_count": 43,
      "outputs": [
        {
          "output_type": "stream",
          "text": [
            "df : \n",
            "        ville  annee  x  y\n",
            "0  Marseille   2020  2  3\n",
            "1        Aix   2019  2  3\n",
            "2  Marseille   2018  2  2\n",
            "3        Aix   2018  2  1\n",
            "4      Paris   2019  2  4\n",
            "5      Paris   2019  2  4\n"
          ],
          "name": "stdout"
        }
      ]
    },
    {
      "cell_type": "markdown",
      "metadata": {
        "id": "ssUsKUVydZhN",
        "colab_type": "text"
      },
      "source": [
        "Pour remplacer plusieurs colonnes en même temps :"
      ]
    },
    {
      "cell_type": "code",
      "metadata": {
        "id": "22KjnFnFda1m",
        "colab_type": "code",
        "colab": {
          "base_uri": "https://localhost:8080/",
          "height": 153
        },
        "outputId": "2ae6adf7-ffa5-4917-ade4-b42c0aaa96d8"
      },
      "source": [
        "df[[\"x\", \"y\"]] = [[2, 3, 4, 2, 1, 0], 1]\n",
        "print(\"df : \\n\", df)"
      ],
      "execution_count": 44,
      "outputs": [
        {
          "output_type": "stream",
          "text": [
            "df : \n",
            "        ville  annee  x  y\n",
            "0  Marseille   2020  2  1\n",
            "1        Aix   2019  3  1\n",
            "2  Marseille   2018  4  1\n",
            "3        Aix   2018  2  1\n",
            "4      Paris   2019  1  1\n",
            "5      Paris   2019  0  1\n"
          ],
          "name": "stdout"
        }
      ]
    },
    {
      "cell_type": "markdown",
      "metadata": {
        "id": "bhY7oNGOdpYT",
        "colab_type": "text"
      },
      "source": [
        "Pour retirer les valeurs dupliquées dans un dataframe, NumPy propose la méthode drop_duplicates(), qui prend plusieurs paramètres optionnels :\n",
        "\n",
        "* subset : en indiquant un ou plusieurs noms de colonnes, la recherche de doublons se fait uniquement sur ces colonnes ;\n",
        "keep : permet d’indiquer quelle observation garder en cas de doublons identifies :\n",
        "\n",
        "* si keep='first', tous les doublons sont retirés sauf la première occurrence,\n",
        "si keep='last', tous les doublons sont retirés sauf la dernière occurrence, -si keep='False', tous les doublons sont retirés ;\n",
        "\n",
        "* inplace : booléen (défaut : False) pour indiquer si le retrait des doublons doit s’effectuer sur le dataframe ou bien si une copie doit être retournée (par défaut)."
      ]
    },
    {
      "cell_type": "code",
      "metadata": {
        "id": "Tu2RPgnTdroI",
        "colab_type": "code",
        "colab": {
          "base_uri": "https://localhost:8080/",
          "height": 136
        },
        "outputId": "179723ed-39cf-44ca-cf16-d2a1784b1917"
      },
      "source": [
        "dico = {\"ville\" : [\"Marseille\", \"Aix\",\n",
        "                   \"Marseille\", \"Aix\", \"Paris\", \"Paris\"],\n",
        "        \"annee\": [2019, 2019, 2018, 2018,2019, 2019],\n",
        "        \"x\": [1, 2, 2, 2, 0, 0],\n",
        "        \"y\": [3, 3, 2, 1, 4, 4],\n",
        "       } \n",
        "df = pd.DataFrame(dico)\n",
        "print(df)"
      ],
      "execution_count": 45,
      "outputs": [
        {
          "output_type": "stream",
          "text": [
            "       ville  annee  x  y\n",
            "0  Marseille   2019  1  3\n",
            "1        Aix   2019  2  3\n",
            "2  Marseille   2018  2  2\n",
            "3        Aix   2018  2  1\n",
            "4      Paris   2019  0  4\n",
            "5      Paris   2019  0  4\n"
          ],
          "name": "stdout"
        }
      ]
    },
    {
      "cell_type": "code",
      "metadata": {
        "id": "RxIcgwN0d7Sg",
        "colab_type": "code",
        "colab": {
          "base_uri": "https://localhost:8080/",
          "height": 119
        },
        "outputId": "40240d7d-1769-43be-b556-99735fe6e87b"
      },
      "source": [
        "# Pour retirer les doublons :\n",
        "print(df.drop_duplicates())"
      ],
      "execution_count": 46,
      "outputs": [
        {
          "output_type": "stream",
          "text": [
            "       ville  annee  x  y\n",
            "0  Marseille   2019  1  3\n",
            "1        Aix   2019  2  3\n",
            "2  Marseille   2018  2  2\n",
            "3        Aix   2018  2  1\n",
            "4      Paris   2019  0  4\n"
          ],
          "name": "stdout"
        }
      ]
    },
    {
      "cell_type": "markdown",
      "metadata": {
        "id": "gqM7MdnjeES-",
        "colab_type": "text"
      },
      "source": [
        "Pour retirer les doublons identifiés quand on se concentre sur le nom des villes, et en conservant uniquement la première valeur :"
      ]
    },
    {
      "cell_type": "code",
      "metadata": {
        "id": "3tYvRf4YeFm6",
        "colab_type": "code",
        "colab": {
          "base_uri": "https://localhost:8080/",
          "height": 85
        },
        "outputId": "d1be7250-fd05-4017-aaf5-45ec7da12fbe"
      },
      "source": [
        "print(df.drop_duplicates(subset = [\"ville\"], keep = 'first'))"
      ],
      "execution_count": 47,
      "outputs": [
        {
          "output_type": "stream",
          "text": [
            "       ville  annee  x  y\n",
            "0  Marseille   2019  1  3\n",
            "1        Aix   2019  2  3\n",
            "4      Paris   2019  0  4\n"
          ],
          "name": "stdout"
        }
      ]
    },
    {
      "cell_type": "markdown",
      "metadata": {
        "id": "xvuV8X1xeWGE",
        "colab_type": "text"
      },
      "source": [
        "Il est aisé de trier un dataframe par ordre croissant ou décroissant d’une ou plusieurs de ses colonnes. Pour ce faire, on utilise la méthode sort_values(). La syntaxe est la suivante :\n",
        "\n",
        "\n",
        "\n",
        "```\n",
        "DataFrame.sort_values(by, axis=0, ascending=True,\n",
        "                      inplace=False, kind=\"quicksort\",\n",
        "                      na_position=\"last\")\n",
        "```\n",
        "* by : nom ou liste de nom de la ou les colonnes utilisées pour effectuer le tri ;\n",
        "* axis : 0 pour l’index (par défaut), 1 pour les colonnes\n",
        "* ascending : booléen ou liste de booléens, quand True le tri est fait par valeurs croissantes (par défaut), quand False il est effectué par valeurs décroissantes\n",
        "* inplace : si True, le tri affecte le dataframe, sinon il retourne une vue ;\n",
        "kind : choix de l’algorithme de tri (quicksort (par défaut), mergesort, heapsort) ;\n",
        "* na_position : si first, les valeurs manquantes sont placées au début ; si last (par défaut), à la fin.\n"
      ]
    },
    {
      "cell_type": "code",
      "metadata": {
        "id": "gQUAn2nied3M",
        "colab_type": "code",
        "colab": {}
      },
      "source": [
        "dico = {\"height\" : [58, 59, 60, 61, 62],\n",
        "        \"weight\": [115, np.nan, 120, 123, 126],\n",
        "        \"age\": [28, 33, 31, 31, 29],\n",
        "        \"taille\": [162, 156, 172, 160, 158],\n",
        "        \"married\": [True, True, np.nan, False, True],\n",
        "        \"city\": [\"A\", \"B\", \"B\", \"B\", \"A\"]\n",
        "       } \n",
        "df = pd.DataFrame(dico)"
      ],
      "execution_count": 48,
      "outputs": []
    },
    {
      "cell_type": "code",
      "metadata": {
        "id": "LuGQBXYBeubl",
        "colab_type": "code",
        "colab": {
          "base_uri": "https://localhost:8080/",
          "height": 204
        },
        "outputId": "646fd8b9-d447-4c0b-e098-501a820416aa"
      },
      "source": [
        "# Si on trie les valeurs par ordre décroissant des valeurs de la colonne height :\n",
        "df.sort_values(by=\"height\", ascending=False)"
      ],
      "execution_count": 49,
      "outputs": [
        {
          "output_type": "execute_result",
          "data": {
            "text/html": [
              "<div>\n",
              "<style scoped>\n",
              "    .dataframe tbody tr th:only-of-type {\n",
              "        vertical-align: middle;\n",
              "    }\n",
              "\n",
              "    .dataframe tbody tr th {\n",
              "        vertical-align: top;\n",
              "    }\n",
              "\n",
              "    .dataframe thead th {\n",
              "        text-align: right;\n",
              "    }\n",
              "</style>\n",
              "<table border=\"1\" class=\"dataframe\">\n",
              "  <thead>\n",
              "    <tr style=\"text-align: right;\">\n",
              "      <th></th>\n",
              "      <th>height</th>\n",
              "      <th>weight</th>\n",
              "      <th>age</th>\n",
              "      <th>taille</th>\n",
              "      <th>married</th>\n",
              "      <th>city</th>\n",
              "    </tr>\n",
              "  </thead>\n",
              "  <tbody>\n",
              "    <tr>\n",
              "      <th>4</th>\n",
              "      <td>62</td>\n",
              "      <td>126.0</td>\n",
              "      <td>29</td>\n",
              "      <td>158</td>\n",
              "      <td>True</td>\n",
              "      <td>A</td>\n",
              "    </tr>\n",
              "    <tr>\n",
              "      <th>3</th>\n",
              "      <td>61</td>\n",
              "      <td>123.0</td>\n",
              "      <td>31</td>\n",
              "      <td>160</td>\n",
              "      <td>False</td>\n",
              "      <td>B</td>\n",
              "    </tr>\n",
              "    <tr>\n",
              "      <th>2</th>\n",
              "      <td>60</td>\n",
              "      <td>120.0</td>\n",
              "      <td>31</td>\n",
              "      <td>172</td>\n",
              "      <td>NaN</td>\n",
              "      <td>B</td>\n",
              "    </tr>\n",
              "    <tr>\n",
              "      <th>1</th>\n",
              "      <td>59</td>\n",
              "      <td>NaN</td>\n",
              "      <td>33</td>\n",
              "      <td>156</td>\n",
              "      <td>True</td>\n",
              "      <td>B</td>\n",
              "    </tr>\n",
              "    <tr>\n",
              "      <th>0</th>\n",
              "      <td>58</td>\n",
              "      <td>115.0</td>\n",
              "      <td>28</td>\n",
              "      <td>162</td>\n",
              "      <td>True</td>\n",
              "      <td>A</td>\n",
              "    </tr>\n",
              "  </tbody>\n",
              "</table>\n",
              "</div>"
            ],
            "text/plain": [
              "   height  weight  age  taille married city\n",
              "4      62   126.0   29     158    True    A\n",
              "3      61   123.0   31     160   False    B\n",
              "2      60   120.0   31     172     NaN    B\n",
              "1      59     NaN   33     156    True    B\n",
              "0      58   115.0   28     162    True    A"
            ]
          },
          "metadata": {
            "tags": []
          },
          "execution_count": 49
        }
      ]
    },
    {
      "cell_type": "markdown",
      "metadata": {
        "id": "wR5sj6rsfN2T",
        "colab_type": "text"
      },
      "source": [
        "Il est fréquent d’avoir des données en provenance de plusieurs sources lorsque l’on réalise une analyse. Il est alors nécessaire de pouvoir combiner les différentes sources dans une seule (concatenation)"
      ]
    },
    {
      "cell_type": "code",
      "metadata": {
        "id": "yvLgDNbgfP24",
        "colab_type": "code",
        "colab": {
          "base_uri": "https://localhost:8080/",
          "height": 136
        },
        "outputId": "4d960e73-55bf-42a9-c88b-e5eba837e2f1"
      },
      "source": [
        "x_1 = pd.DataFrame(np.random.randn(5, 4),\n",
        "                   columns=[\"a\", \"b\", \"c\", \"d\"])\n",
        "x_2 = pd.DataFrame(np.random.randn(5, 2),\n",
        "                   columns = [\"e\", \"f\"])\n",
        "print(\"x_1 : \\n\", x_1)"
      ],
      "execution_count": 50,
      "outputs": [
        {
          "output_type": "stream",
          "text": [
            "x_1 : \n",
            "           a         b         c         d\n",
            "0  0.494418  1.312459  0.361296  0.515049\n",
            "1  0.557884 -1.405821  1.523818  0.778057\n",
            "2  1.422562 -0.537636 -1.028232 -1.203495\n",
            "3 -1.041744  0.856157  1.055042  0.338324\n",
            "4 -0.036040 -2.020056 -1.657221  0.448863\n"
          ],
          "name": "stdout"
        }
      ]
    },
    {
      "cell_type": "code",
      "metadata": {
        "id": "s7OHhX_FfVk6",
        "colab_type": "code",
        "colab": {
          "base_uri": "https://localhost:8080/",
          "height": 153
        },
        "outputId": "29acfa60-6861-426b-efe6-141516d14191"
      },
      "source": [
        "print(\"\\nx_2 : \\n\", x_2)"
      ],
      "execution_count": 51,
      "outputs": [
        {
          "output_type": "stream",
          "text": [
            "\n",
            "x_2 : \n",
            "           e         f\n",
            "0  1.181133  0.096114\n",
            "1 -0.537664 -1.698687\n",
            "2  0.164414  0.863455\n",
            "3  0.076421 -0.735140\n",
            "4 -0.866361  0.145512\n"
          ],
          "name": "stdout"
        }
      ]
    },
    {
      "cell_type": "markdown",
      "metadata": {
        "id": "_MgYqaHvfbat",
        "colab_type": "text"
      },
      "source": [
        "Pour “coller” le dataframe x_2 à droite de x_1, on peut utiliser la méthode concat() de pandas. Pour indiquer que la concaténation s’effectue sur les colonnes, on précise la valeur 1 pour le paramètre axix comme suit :"
      ]
    },
    {
      "cell_type": "code",
      "metadata": {
        "id": "uPNoyqdZffgO",
        "colab_type": "code",
        "colab": {
          "base_uri": "https://localhost:8080/",
          "height": 119
        },
        "outputId": "ad0a59a9-67b2-44cd-d814-dbb9e6f97fae"
      },
      "source": [
        "print(pd.concat([x_1, x_2], axis = 1))"
      ],
      "execution_count": 52,
      "outputs": [
        {
          "output_type": "stream",
          "text": [
            "          a         b         c         d         e         f\n",
            "0  0.494418  1.312459  0.361296  0.515049  1.181133  0.096114\n",
            "1  0.557884 -1.405821  1.523818  0.778057 -0.537664 -1.698687\n",
            "2  1.422562 -0.537636 -1.028232 -1.203495  0.164414  0.863455\n",
            "3 -1.041744  0.856157  1.055042  0.338324  0.076421 -0.735140\n",
            "4 -0.036040 -2.020056 -1.657221  0.448863 -0.866361  0.145512\n"
          ],
          "name": "stdout"
        }
      ]
    },
    {
      "cell_type": "markdown",
      "metadata": {
        "id": "U_1SePJPfmlc",
        "colab_type": "text"
      },
      "source": [
        "Pour coller les dataframes les uns en-dessous des autres, on peut utiliser la méthode append()"
      ]
    },
    {
      "cell_type": "code",
      "metadata": {
        "id": "ywjmbKlbfnku",
        "colab_type": "code",
        "colab": {
          "base_uri": "https://localhost:8080/",
          "height": 136
        },
        "outputId": "498b4f7d-abbb-4097-9db1-b7ad9b00cda4"
      },
      "source": [
        "x_3 = pd.DataFrame(np.random.randn(5, 2),\n",
        "                   columns = [\"e\", \"f\"])\n",
        "print(\"x_3 : \\n\", x_3)"
      ],
      "execution_count": 53,
      "outputs": [
        {
          "output_type": "stream",
          "text": [
            "x_3 : \n",
            "           e         f\n",
            "0 -0.708666 -0.910068\n",
            "1 -1.079794 -0.295148\n",
            "2 -0.357332  1.471755\n",
            "3 -0.710064  0.530040\n",
            "4 -0.789306 -3.041356\n"
          ],
          "name": "stdout"
        }
      ]
    },
    {
      "cell_type": "code",
      "metadata": {
        "id": "invcCwfiftya",
        "colab_type": "code",
        "colab": {
          "base_uri": "https://localhost:8080/",
          "height": 204
        },
        "outputId": "d0d3235d-7ff1-4f39-c764-4bee8fdade7b"
      },
      "source": [
        "print(pd.concat([x_2, x_3], axis = 0))"
      ],
      "execution_count": 54,
      "outputs": [
        {
          "output_type": "stream",
          "text": [
            "          e         f\n",
            "0  1.181133  0.096114\n",
            "1 -0.537664 -1.698687\n",
            "2  0.164414  0.863455\n",
            "3  0.076421 -0.735140\n",
            "4 -0.866361  0.145512\n",
            "0 -0.708666 -0.910068\n",
            "1 -1.079794 -0.295148\n",
            "2 -0.357332  1.471755\n",
            "3 -0.710064  0.530040\n",
            "4 -0.789306 -3.041356\n"
          ],
          "name": "stdout"
        }
      ]
    },
    {
      "cell_type": "markdown",
      "metadata": {
        "id": "Jd_APjl9W9Vj",
        "colab_type": "text"
      },
      "source": [
        "##4 Importation des données\n",
        "\n",
        "Pour importer des données depuis un fichier CSV, pandas propose la fonction read_csv() :\n",
        "\n",
        "Parmi les paramètres que l’on utilise fréquemment :\n",
        "\n",
        "* sep, delimiter : séparateur de champs ;\n",
        "* decimal : séparateur de décimales ;\n",
        "* header : numéro(s) de ligne(s) à utiliser comme en-tête des données ;\n",
        "* skiprows : numéro(s) de ligne(s) à sauter au début ;\n",
        "* skipfooter : numéro(s) de ligne(s) à sauter à la fin ;\n",
        "* nrows : nombre de ligne à lire ;\n",
        "* na_values : chaînes de caractères supplémentaires à considérer comme valeurs manquantes (en plus de #N/A, #N/A N/A, #NA, -1.#IND, -1.#QNAN, -NaN, -nan, 1.#IND, 1.#QNAN, N/A, NA, NULL, NaN, n/a, nan, null) ;\n",
        "* quotechar : caractère de quote ;\n",
        "* encoding : encodage des caractères (défaut utf-8). "
      ]
    },
    {
      "cell_type": "code",
      "metadata": {
        "id": "I7jQEz62XrqY",
        "colab_type": "code",
        "colab": {
          "base_uri": "https://localhost:8080/",
          "height": 122
        },
        "outputId": "aefb21fa-9c27-418d-cc96-e9b0c1a6f2ae"
      },
      "source": [
        "# connecter google colab avec google drive\n",
        "from google.colab import drive\n",
        "drive.mount('/content/drive')"
      ],
      "execution_count": null,
      "outputs": [
        {
          "output_type": "stream",
          "text": [
            "Go to this URL in a browser: https://accounts.google.com/o/oauth2/auth?client_id=947318989803-6bn6qk8qdgf4n4g3pfee6491hc0brc4i.apps.googleusercontent.com&redirect_uri=urn%3aietf%3awg%3aoauth%3a2.0%3aoob&scope=email%20https%3a%2f%2fwww.googleapis.com%2fauth%2fdocs.test%20https%3a%2f%2fwww.googleapis.com%2fauth%2fdrive%20https%3a%2f%2fwww.googleapis.com%2fauth%2fdrive.photos.readonly%20https%3a%2f%2fwww.googleapis.com%2fauth%2fpeopleapi.readonly&response_type=code\n",
            "\n",
            "Enter your authorization code:\n",
            "··········\n",
            "Mounted at /content/drive\n"
          ],
          "name": "stdout"
        }
      ]
    },
    {
      "cell_type": "code",
      "metadata": {
        "id": "pBKXDd6RahWR",
        "colab_type": "code",
        "colab": {
          "base_uri": "https://localhost:8080/",
          "height": 1000
        },
        "outputId": "2ac3e86a-90bf-4178-b0f8-561678dfc03d"
      },
      "source": [
        "!ls drive/My\\ Drive"
      ],
      "execution_count": null,
      "outputs": [
        {
          "output_type": "stream",
          "text": [
            "'Aula 01'\n",
            "'Aula 02'\n",
            " AutoML\n",
            " Bicicletas.csv\n",
            " Bikes_aula3.ipynb\n",
            " Bikes_aula4.ipynb\n",
            " Bikes_aula5.ipynb\n",
            " Camada-Linear-aula3.2.ipynb\n",
            " census.csv\n",
            "'Classificação-Linear-aula 31.ipynb'\n",
            "'Colab Notebooks'\n",
            "'Copie de Modèle de compte-rendu de réunion [gestiondeprojet.pm] Modèle public.gdoc'\n",
            " CORD-19-research-challenge.zip\n",
            "'Cours python-estiam'\n",
            " credit-card-clients.csv\n",
            " credit-data.csv\n",
            "'cronograma de estudos (1).gsheet'\n",
            "'cronograma de estudos (1).xlsx'\n",
            "'cronograma de estudos DS (1).xlsx'\n",
            "'curso deep learning-udemy'\n",
            "'curso pandas'\n",
            "'curso pytorch'\n",
            "'Cursos de machine learning'\n",
            "'curso series temporais (udemy)'\n",
            " dadosImagem\n",
            " data-science-e-saude-aula3\n",
            " DSA\n",
            "'estatistica python : Alura'\n",
            " fifa.csv\n",
            "'forum cv video.pptx'\n",
            " gender_submission.csv\n",
            "'Geopandas - dados'\n",
            "'Getting started.pdf'\n",
            "'house-prices (1).csv'\n",
            " imagens\n",
            "'Imóveis Residenciais(aula pandas).ipynb'\n",
            " libras.avi\n",
            " mercado.csv\n",
            " ml-latest-small\n",
            " modulos\n",
            " NLP\n",
            "'Para julho - estudar : .gdoc'\n",
            " petr4_1_2010_11_2017.csv\n",
            " petr4.csv\n",
            " petr4_treinamento.csv\n",
            " plano-saude2.csv\n",
            " plano-saude.csv\n",
            " pln-deep-learning-aula-03.zip\n",
            " polichinelo.avi\n",
            " pose\n",
            "'Projet Memoire.ipynb'\n",
            " Projetocovid.ipynb\n",
            " Projeto.ipynb\n",
            " Python_Data_Science\n",
            "'Quand shrek rencontra La fleur de lotus-Descriptif Personnages.gdoc'\n",
            " risco-credito.csv\n",
            " rose.webp\n",
            " test.csv\n",
            " train.csv\n",
            " V6.ipynb\n",
            "'videos prontos'\n",
            "'Visão Computacional'\n",
            " wine_data.csv\n"
          ],
          "name": "stdout"
        }
      ]
    },
    {
      "cell_type": "code",
      "metadata": {
        "id": "aWiqQOXmXzcN",
        "colab_type": "code",
        "colab": {}
      },
      "source": [
        "ad = '/content/drive/My Drive/Cours python-estiam/Social_Network_Ads.csv'"
      ],
      "execution_count": null,
      "outputs": []
    },
    {
      "cell_type": "code",
      "metadata": {
        "id": "P9mATjxuZH_o",
        "colab_type": "code",
        "colab": {
          "base_uri": "https://localhost:8080/",
          "height": 204
        },
        "outputId": "f2a4a700-f420-4770-c780-1a7f99816768"
      },
      "source": [
        "ads= pd.read_csv(ad)\n",
        "ads.head()"
      ],
      "execution_count": null,
      "outputs": [
        {
          "output_type": "execute_result",
          "data": {
            "text/html": [
              "<div>\n",
              "<style scoped>\n",
              "    .dataframe tbody tr th:only-of-type {\n",
              "        vertical-align: middle;\n",
              "    }\n",
              "\n",
              "    .dataframe tbody tr th {\n",
              "        vertical-align: top;\n",
              "    }\n",
              "\n",
              "    .dataframe thead th {\n",
              "        text-align: right;\n",
              "    }\n",
              "</style>\n",
              "<table border=\"1\" class=\"dataframe\">\n",
              "  <thead>\n",
              "    <tr style=\"text-align: right;\">\n",
              "      <th></th>\n",
              "      <th>User ID</th>\n",
              "      <th>Gender</th>\n",
              "      <th>Age</th>\n",
              "      <th>EstimatedSalary</th>\n",
              "      <th>Purchased</th>\n",
              "    </tr>\n",
              "  </thead>\n",
              "  <tbody>\n",
              "    <tr>\n",
              "      <th>0</th>\n",
              "      <td>15624510</td>\n",
              "      <td>Male</td>\n",
              "      <td>19.0</td>\n",
              "      <td>19000.0</td>\n",
              "      <td>0</td>\n",
              "    </tr>\n",
              "    <tr>\n",
              "      <th>1</th>\n",
              "      <td>15810944</td>\n",
              "      <td>Male</td>\n",
              "      <td>35.0</td>\n",
              "      <td>20000.0</td>\n",
              "      <td>0</td>\n",
              "    </tr>\n",
              "    <tr>\n",
              "      <th>2</th>\n",
              "      <td>15668575</td>\n",
              "      <td>Female</td>\n",
              "      <td>26.0</td>\n",
              "      <td>43000.0</td>\n",
              "      <td>0</td>\n",
              "    </tr>\n",
              "    <tr>\n",
              "      <th>3</th>\n",
              "      <td>15603246</td>\n",
              "      <td>Female</td>\n",
              "      <td>27.0</td>\n",
              "      <td>57000.0</td>\n",
              "      <td>0</td>\n",
              "    </tr>\n",
              "    <tr>\n",
              "      <th>4</th>\n",
              "      <td>15804002</td>\n",
              "      <td>Male</td>\n",
              "      <td>19.0</td>\n",
              "      <td>76000.0</td>\n",
              "      <td>0</td>\n",
              "    </tr>\n",
              "  </tbody>\n",
              "</table>\n",
              "</div>"
            ],
            "text/plain": [
              "    User ID  Gender   Age  EstimatedSalary  Purchased\n",
              "0  15624510    Male  19.0          19000.0          0\n",
              "1  15810944    Male  35.0          20000.0          0\n",
              "2  15668575  Female  26.0          43000.0          0\n",
              "3  15603246  Female  27.0          57000.0          0\n",
              "4  15804002    Male  19.0          76000.0          0"
            ]
          },
          "metadata": {
            "tags": []
          },
          "execution_count": 23
        }
      ]
    },
    {
      "cell_type": "code",
      "metadata": {
        "id": "xWzKDgJNZNV0",
        "colab_type": "code",
        "colab": {
          "base_uri": "https://localhost:8080/",
          "height": 204
        },
        "outputId": "cf63826c-10cf-4bc7-8ea1-c9df2cf4c8f2"
      },
      "source": [
        "ads.tail()"
      ],
      "execution_count": null,
      "outputs": [
        {
          "output_type": "execute_result",
          "data": {
            "text/html": [
              "<div>\n",
              "<style scoped>\n",
              "    .dataframe tbody tr th:only-of-type {\n",
              "        vertical-align: middle;\n",
              "    }\n",
              "\n",
              "    .dataframe tbody tr th {\n",
              "        vertical-align: top;\n",
              "    }\n",
              "\n",
              "    .dataframe thead th {\n",
              "        text-align: right;\n",
              "    }\n",
              "</style>\n",
              "<table border=\"1\" class=\"dataframe\">\n",
              "  <thead>\n",
              "    <tr style=\"text-align: right;\">\n",
              "      <th></th>\n",
              "      <th>User ID</th>\n",
              "      <th>Gender</th>\n",
              "      <th>Age</th>\n",
              "      <th>EstimatedSalary</th>\n",
              "      <th>Purchased</th>\n",
              "    </tr>\n",
              "  </thead>\n",
              "  <tbody>\n",
              "    <tr>\n",
              "      <th>395</th>\n",
              "      <td>15691863</td>\n",
              "      <td>Female</td>\n",
              "      <td>46.0</td>\n",
              "      <td>41000.0</td>\n",
              "      <td>1</td>\n",
              "    </tr>\n",
              "    <tr>\n",
              "      <th>396</th>\n",
              "      <td>15706071</td>\n",
              "      <td>Male</td>\n",
              "      <td>51.0</td>\n",
              "      <td>23000.0</td>\n",
              "      <td>1</td>\n",
              "    </tr>\n",
              "    <tr>\n",
              "      <th>397</th>\n",
              "      <td>15654296</td>\n",
              "      <td>Female</td>\n",
              "      <td>50.0</td>\n",
              "      <td>20000.0</td>\n",
              "      <td>1</td>\n",
              "    </tr>\n",
              "    <tr>\n",
              "      <th>398</th>\n",
              "      <td>15755018</td>\n",
              "      <td>Male</td>\n",
              "      <td>36.0</td>\n",
              "      <td>33000.0</td>\n",
              "      <td>0</td>\n",
              "    </tr>\n",
              "    <tr>\n",
              "      <th>399</th>\n",
              "      <td>15594041</td>\n",
              "      <td>Female</td>\n",
              "      <td>49.0</td>\n",
              "      <td>36000.0</td>\n",
              "      <td>1</td>\n",
              "    </tr>\n",
              "  </tbody>\n",
              "</table>\n",
              "</div>"
            ],
            "text/plain": [
              "      User ID  Gender   Age  EstimatedSalary  Purchased\n",
              "395  15691863  Female  46.0          41000.0          1\n",
              "396  15706071    Male  51.0          23000.0          1\n",
              "397  15654296  Female  50.0          20000.0          1\n",
              "398  15755018    Male  36.0          33000.0          0\n",
              "399  15594041  Female  49.0          36000.0          1"
            ]
          },
          "metadata": {
            "tags": []
          },
          "execution_count": 24
        }
      ]
    },
    {
      "cell_type": "code",
      "metadata": {
        "id": "IEy7F2pAbLSG",
        "colab_type": "code",
        "colab": {
          "base_uri": "https://localhost:8080/",
          "height": 34
        },
        "outputId": "64e52559-1f1a-4261-b8c4-641c4e022d6b"
      },
      "source": [
        "ads.shape"
      ],
      "execution_count": null,
      "outputs": [
        {
          "output_type": "execute_result",
          "data": {
            "text/plain": [
              "(400, 5)"
            ]
          },
          "metadata": {
            "tags": []
          },
          "execution_count": 30
        }
      ]
    },
    {
      "cell_type": "code",
      "metadata": {
        "id": "Ee-Z4SOHbOAT",
        "colab_type": "code",
        "colab": {
          "base_uri": "https://localhost:8080/",
          "height": 221
        },
        "outputId": "4a214046-757a-48cc-d26e-9417abe3f433"
      },
      "source": [
        "ads.info()"
      ],
      "execution_count": null,
      "outputs": [
        {
          "output_type": "stream",
          "text": [
            "<class 'pandas.core.frame.DataFrame'>\n",
            "RangeIndex: 400 entries, 0 to 399\n",
            "Data columns (total 5 columns):\n",
            " #   Column           Non-Null Count  Dtype  \n",
            "---  ------           --------------  -----  \n",
            " 0   User ID          400 non-null    int64  \n",
            " 1   Gender           400 non-null    object \n",
            " 2   Age              400 non-null    float64\n",
            " 3   EstimatedSalary  400 non-null    float64\n",
            " 4   Purchased        400 non-null    int64  \n",
            "dtypes: float64(2), int64(2), object(1)\n",
            "memory usage: 15.8+ KB\n"
          ],
          "name": "stdout"
        }
      ]
    },
    {
      "cell_type": "code",
      "metadata": {
        "id": "o58puesRbaki",
        "colab_type": "code",
        "colab": {
          "base_uri": "https://localhost:8080/",
          "height": 34
        },
        "outputId": "1b43636f-7d18-4962-d37a-27cd3344c2a9"
      },
      "source": [
        "ads.columns"
      ],
      "execution_count": null,
      "outputs": [
        {
          "output_type": "execute_result",
          "data": {
            "text/plain": [
              "Index(['User ID', 'Gender', 'Age', 'EstimatedSalary', 'Purchased'], dtype='object')"
            ]
          },
          "metadata": {
            "tags": []
          },
          "execution_count": 33
        }
      ]
    },
    {
      "cell_type": "code",
      "metadata": {
        "id": "zf16CaQJbjsx",
        "colab_type": "code",
        "colab": {
          "base_uri": "https://localhost:8080/",
          "height": 297
        },
        "outputId": "ccd50184-0198-49a4-b766-598c48a847ab"
      },
      "source": [
        "# describe retourne un résumé statistique des données\n",
        "ads.describe()"
      ],
      "execution_count": null,
      "outputs": [
        {
          "output_type": "execute_result",
          "data": {
            "text/html": [
              "<div>\n",
              "<style scoped>\n",
              "    .dataframe tbody tr th:only-of-type {\n",
              "        vertical-align: middle;\n",
              "    }\n",
              "\n",
              "    .dataframe tbody tr th {\n",
              "        vertical-align: top;\n",
              "    }\n",
              "\n",
              "    .dataframe thead th {\n",
              "        text-align: right;\n",
              "    }\n",
              "</style>\n",
              "<table border=\"1\" class=\"dataframe\">\n",
              "  <thead>\n",
              "    <tr style=\"text-align: right;\">\n",
              "      <th></th>\n",
              "      <th>User ID</th>\n",
              "      <th>Age</th>\n",
              "      <th>EstimatedSalary</th>\n",
              "      <th>Purchased</th>\n",
              "    </tr>\n",
              "  </thead>\n",
              "  <tbody>\n",
              "    <tr>\n",
              "      <th>count</th>\n",
              "      <td>4.000000e+02</td>\n",
              "      <td>400.000000</td>\n",
              "      <td>400.000000</td>\n",
              "      <td>400.000000</td>\n",
              "    </tr>\n",
              "    <tr>\n",
              "      <th>mean</th>\n",
              "      <td>1.569154e+07</td>\n",
              "      <td>37.655000</td>\n",
              "      <td>69742.500000</td>\n",
              "      <td>0.357500</td>\n",
              "    </tr>\n",
              "    <tr>\n",
              "      <th>std</th>\n",
              "      <td>7.165832e+04</td>\n",
              "      <td>10.482877</td>\n",
              "      <td>34096.960282</td>\n",
              "      <td>0.479864</td>\n",
              "    </tr>\n",
              "    <tr>\n",
              "      <th>min</th>\n",
              "      <td>1.556669e+07</td>\n",
              "      <td>18.000000</td>\n",
              "      <td>15000.000000</td>\n",
              "      <td>0.000000</td>\n",
              "    </tr>\n",
              "    <tr>\n",
              "      <th>25%</th>\n",
              "      <td>1.562676e+07</td>\n",
              "      <td>29.750000</td>\n",
              "      <td>43000.000000</td>\n",
              "      <td>0.000000</td>\n",
              "    </tr>\n",
              "    <tr>\n",
              "      <th>50%</th>\n",
              "      <td>1.569434e+07</td>\n",
              "      <td>37.000000</td>\n",
              "      <td>70000.000000</td>\n",
              "      <td>0.000000</td>\n",
              "    </tr>\n",
              "    <tr>\n",
              "      <th>75%</th>\n",
              "      <td>1.575036e+07</td>\n",
              "      <td>46.000000</td>\n",
              "      <td>88000.000000</td>\n",
              "      <td>1.000000</td>\n",
              "    </tr>\n",
              "    <tr>\n",
              "      <th>max</th>\n",
              "      <td>1.581524e+07</td>\n",
              "      <td>60.000000</td>\n",
              "      <td>150000.000000</td>\n",
              "      <td>1.000000</td>\n",
              "    </tr>\n",
              "  </tbody>\n",
              "</table>\n",
              "</div>"
            ],
            "text/plain": [
              "            User ID         Age  EstimatedSalary   Purchased\n",
              "count  4.000000e+02  400.000000       400.000000  400.000000\n",
              "mean   1.569154e+07   37.655000     69742.500000    0.357500\n",
              "std    7.165832e+04   10.482877     34096.960282    0.479864\n",
              "min    1.556669e+07   18.000000     15000.000000    0.000000\n",
              "25%    1.562676e+07   29.750000     43000.000000    0.000000\n",
              "50%    1.569434e+07   37.000000     70000.000000    0.000000\n",
              "75%    1.575036e+07   46.000000     88000.000000    1.000000\n",
              "max    1.581524e+07   60.000000    150000.000000    1.000000"
            ]
          },
          "metadata": {
            "tags": []
          },
          "execution_count": 34
        }
      ]
    },
    {
      "cell_type": "code",
      "metadata": {
        "id": "NdmDca3Gb0J1",
        "colab_type": "code",
        "colab": {
          "base_uri": "https://localhost:8080/",
          "height": 419
        },
        "outputId": "e7218474-42fa-4810-feac-0af62abe2e54"
      },
      "source": [
        "# changer les noms de colonnes \n",
        "ads.rename (columns={'EstimatedSalary':'Salaire'})"
      ],
      "execution_count": null,
      "outputs": [
        {
          "output_type": "execute_result",
          "data": {
            "text/html": [
              "<div>\n",
              "<style scoped>\n",
              "    .dataframe tbody tr th:only-of-type {\n",
              "        vertical-align: middle;\n",
              "    }\n",
              "\n",
              "    .dataframe tbody tr th {\n",
              "        vertical-align: top;\n",
              "    }\n",
              "\n",
              "    .dataframe thead th {\n",
              "        text-align: right;\n",
              "    }\n",
              "</style>\n",
              "<table border=\"1\" class=\"dataframe\">\n",
              "  <thead>\n",
              "    <tr style=\"text-align: right;\">\n",
              "      <th></th>\n",
              "      <th>User ID</th>\n",
              "      <th>Gender</th>\n",
              "      <th>Age</th>\n",
              "      <th>Salaire</th>\n",
              "      <th>Purchased</th>\n",
              "    </tr>\n",
              "  </thead>\n",
              "  <tbody>\n",
              "    <tr>\n",
              "      <th>0</th>\n",
              "      <td>15624510</td>\n",
              "      <td>Male</td>\n",
              "      <td>19.0</td>\n",
              "      <td>19000.0</td>\n",
              "      <td>0</td>\n",
              "    </tr>\n",
              "    <tr>\n",
              "      <th>1</th>\n",
              "      <td>15810944</td>\n",
              "      <td>Male</td>\n",
              "      <td>35.0</td>\n",
              "      <td>20000.0</td>\n",
              "      <td>0</td>\n",
              "    </tr>\n",
              "    <tr>\n",
              "      <th>2</th>\n",
              "      <td>15668575</td>\n",
              "      <td>Female</td>\n",
              "      <td>26.0</td>\n",
              "      <td>43000.0</td>\n",
              "      <td>0</td>\n",
              "    </tr>\n",
              "    <tr>\n",
              "      <th>3</th>\n",
              "      <td>15603246</td>\n",
              "      <td>Female</td>\n",
              "      <td>27.0</td>\n",
              "      <td>57000.0</td>\n",
              "      <td>0</td>\n",
              "    </tr>\n",
              "    <tr>\n",
              "      <th>4</th>\n",
              "      <td>15804002</td>\n",
              "      <td>Male</td>\n",
              "      <td>19.0</td>\n",
              "      <td>76000.0</td>\n",
              "      <td>0</td>\n",
              "    </tr>\n",
              "    <tr>\n",
              "      <th>...</th>\n",
              "      <td>...</td>\n",
              "      <td>...</td>\n",
              "      <td>...</td>\n",
              "      <td>...</td>\n",
              "      <td>...</td>\n",
              "    </tr>\n",
              "    <tr>\n",
              "      <th>395</th>\n",
              "      <td>15691863</td>\n",
              "      <td>Female</td>\n",
              "      <td>46.0</td>\n",
              "      <td>41000.0</td>\n",
              "      <td>1</td>\n",
              "    </tr>\n",
              "    <tr>\n",
              "      <th>396</th>\n",
              "      <td>15706071</td>\n",
              "      <td>Male</td>\n",
              "      <td>51.0</td>\n",
              "      <td>23000.0</td>\n",
              "      <td>1</td>\n",
              "    </tr>\n",
              "    <tr>\n",
              "      <th>397</th>\n",
              "      <td>15654296</td>\n",
              "      <td>Female</td>\n",
              "      <td>50.0</td>\n",
              "      <td>20000.0</td>\n",
              "      <td>1</td>\n",
              "    </tr>\n",
              "    <tr>\n",
              "      <th>398</th>\n",
              "      <td>15755018</td>\n",
              "      <td>Male</td>\n",
              "      <td>36.0</td>\n",
              "      <td>33000.0</td>\n",
              "      <td>0</td>\n",
              "    </tr>\n",
              "    <tr>\n",
              "      <th>399</th>\n",
              "      <td>15594041</td>\n",
              "      <td>Female</td>\n",
              "      <td>49.0</td>\n",
              "      <td>36000.0</td>\n",
              "      <td>1</td>\n",
              "    </tr>\n",
              "  </tbody>\n",
              "</table>\n",
              "<p>400 rows × 5 columns</p>\n",
              "</div>"
            ],
            "text/plain": [
              "      User ID  Gender   Age  Salaire  Purchased\n",
              "0    15624510    Male  19.0  19000.0          0\n",
              "1    15810944    Male  35.0  20000.0          0\n",
              "2    15668575  Female  26.0  43000.0          0\n",
              "3    15603246  Female  27.0  57000.0          0\n",
              "4    15804002    Male  19.0  76000.0          0\n",
              "..        ...     ...   ...      ...        ...\n",
              "395  15691863  Female  46.0  41000.0          1\n",
              "396  15706071    Male  51.0  23000.0          1\n",
              "397  15654296  Female  50.0  20000.0          1\n",
              "398  15755018    Male  36.0  33000.0          0\n",
              "399  15594041  Female  49.0  36000.0          1\n",
              "\n",
              "[400 rows x 5 columns]"
            ]
          },
          "metadata": {
            "tags": []
          },
          "execution_count": 35
        }
      ]
    }
  ]
}