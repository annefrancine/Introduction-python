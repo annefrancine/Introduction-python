{
  "nbformat": 4,
  "nbformat_minor": 0,
  "metadata": {
    "colab": {
      "name": "Les opérateurs .ipynb",
      "provenance": [],
      "collapsed_sections": [],
      "authorship_tag": "ABX9TyP+XoRU60zijWEMfufc82To",
      "include_colab_link": true
    },
    "kernelspec": {
      "name": "python3",
      "display_name": "Python 3"
    }
  },
  "cells": [
    {
      "cell_type": "markdown",
      "metadata": {
        "id": "view-in-github",
        "colab_type": "text"
      },
      "source": [
        "<a href=\"https://colab.research.google.com/github/annefrancine/Introduction-python/blob/master/Les_op%C3%A9rateurs_.ipynb\" target=\"_parent\"><img src=\"https://colab.research.google.com/assets/colab-badge.svg\" alt=\"Open In Colab\"/></a>"
      ]
    },
    {
      "cell_type": "markdown",
      "metadata": {
        "id": "bpkagzhAXJ-a",
        "colab_type": "text"
      },
      "source": [
        "## Les opérateurs \n",
        "\n",
        "Les opérateurs sont des symboles spéciaux en Python qui effectuent des calculs arithmétiques ou logiques. La valeur sur laquelle l'opérateur opère s'appelle l'opérande. En Python, les opérateurs peuvent être classés dans les catégories suivantes:\n",
        "\n",
        "\n",
        "- Opérateurs arithmétiques (+, -, *, /,%, //)\n",
        "- Opérateurs relationnels (==,!=,>, < ,>= et <=) \n",
        "- Opérateurs logiques (and, or et not)\n",
        "- Opérateurs binaires (&, |, ^, ~, >> et <<)\n",
        "- Opérateurs d'affectation (=, +=, -=, *=, etc)\n",
        "- Opérateurs spéciaux (is, is not, in, not in)"
      ]
    },
    {
      "cell_type": "markdown",
      "metadata": {
        "id": "2euWlzOQXstF",
        "colab_type": "text"
      },
      "source": [
        "# Opérateurs arithmétiques\n",
        "\n",
        "Ils sont utilisés pour effectuer des opérations arithmétiques/mathématiques sur les opérandes. Les opérateurs binaires appartenant à cette catégorie sont:\n",
        "\n",
        "- Addition : L'opérateur ‘+’ ajoute deux opérandes. Par exemple, x+y.\n",
        "- Soustraction: l'opérateur ‘ - ' soustrait deux opérandes. Par exemple, x-y.\n",
        "- Multiplication: l'opérateur ’ * ' multiplie deux opérandes. Par exemple, x*y.\n",
        "- Division: l'opérateur '/' divise le premier opérande par le second. Par exemple, x/y.\n",
        "- Module: l'opérateur ' % ' renvoie le reste lorsque le premier opérande est divisé par le second. Par exemple, x%y).\n",
        "- Division entière (//): Lorsque nous divisons des entiers avec //, le quotient est également un entier.\n",
        "- Exposant (**) : l'opérande gauche élevé à la puissance de droite. Par exemple, x**2"
      ]
    },
    {
      "cell_type": "code",
      "metadata": {
        "id": "gyMOcqwmX5lu",
        "colab_type": "code",
        "colab": {
          "base_uri": "https://localhost:8080/",
          "height": 34
        },
        "outputId": "37af90d2-1db6-4d53-fdc9-b02e4da092b9"
      },
      "source": [
        "a = 10\n",
        "b = 4\n",
        "res = a + b; # addition\n",
        "print(\"a+b : \", res)"
      ],
      "execution_count": 1,
      "outputs": [
        {
          "output_type": "stream",
          "text": [
            "a+b :  14\n"
          ],
          "name": "stdout"
        }
      ]
    },
    {
      "cell_type": "code",
      "metadata": {
        "id": "je7qW4KlZm0D",
        "colab_type": "code",
        "colab": {
          "base_uri": "https://localhost:8080/",
          "height": 34
        },
        "outputId": "ddc610fc-5fa5-4215-cb15-21ea6bf53152"
      },
      "source": [
        "res = a - b; # soustraction\n",
        "print(\"a-b :\", res)"
      ],
      "execution_count": 2,
      "outputs": [
        {
          "output_type": "stream",
          "text": [
            "a-b : 6\n"
          ],
          "name": "stdout"
        }
      ]
    },
    {
      "cell_type": "code",
      "metadata": {
        "id": "agqDPvOIZsu3",
        "colab_type": "code",
        "colab": {
          "base_uri": "https://localhost:8080/",
          "height": 34
        },
        "outputId": "735c390c-766b-45fd-c1bd-2f09779815b9"
      },
      "source": [
        "res = a * b; # multiplication\n",
        "print(\"a*b :\", res)"
      ],
      "execution_count": 3,
      "outputs": [
        {
          "output_type": "stream",
          "text": [
            "a*b : 40\n"
          ],
          "name": "stdout"
        }
      ]
    },
    {
      "cell_type": "code",
      "metadata": {
        "id": "-g-AIZLLZw5n",
        "colab_type": "code",
        "colab": {
          "base_uri": "https://localhost:8080/",
          "height": 34
        },
        "outputId": "c3c63922-7567-421f-f291-e24be453b24c"
      },
      "source": [
        "res = a / b; # division\n",
        "print(\"a/b : \", res)"
      ],
      "execution_count": 4,
      "outputs": [
        {
          "output_type": "stream",
          "text": [
            "a/b :  2.5\n"
          ],
          "name": "stdout"
        }
      ]
    },
    {
      "cell_type": "code",
      "metadata": {
        "id": "AegICnprZ0bf",
        "colab_type": "code",
        "colab": {
          "base_uri": "https://localhost:8080/",
          "height": 34
        },
        "outputId": "1f1c707a-1b27-47e9-c7a2-ffcd3e05267d"
      },
      "source": [
        "res = a % b; # Module\n",
        "print(\"a mod b :\", res)"
      ],
      "execution_count": 5,
      "outputs": [
        {
          "output_type": "stream",
          "text": [
            "a mod b : 2\n"
          ],
          "name": "stdout"
        }
      ]
    },
    {
      "cell_type": "code",
      "metadata": {
        "id": "SI6QtgKbZ14t",
        "colab_type": "code",
        "colab": {
          "base_uri": "https://localhost:8080/",
          "height": 34
        },
        "outputId": "716bb8a7-ef36-4a69-83e8-0b952b41be31"
      },
      "source": [
        "res = a // b; # division entière\n",
        "print(\"a // b :\", res)"
      ],
      "execution_count": 6,
      "outputs": [
        {
          "output_type": "stream",
          "text": [
            "a // b : 2\n"
          ],
          "name": "stdout"
        }
      ]
    },
    {
      "cell_type": "markdown",
      "metadata": {
        "id": "rm77B7vPcI7P",
        "colab_type": "text"
      },
      "source": [
        "![image.png](data:image/png;base64,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)"
      ]
    },
    {
      "cell_type": "markdown",
      "metadata": {
        "id": "RuNjqI2hZ-nP",
        "colab_type": "text"
      },
      "source": [
        "# Opérateurs relationnels\n",
        "\n",
        "Les opérateurs relationnels sont utilisés pour comparer deux valeurs.\n",
        "\n",
        "- l'opérateur ‘==’ vérifie si les deux opérandes sont égales ou non. Si oui, il renvoie la valeur true. Sinon, il retourne false. Par exemple, 5==5 retournera true.\n",
        "\n",
        "- ‘!=’ opérateur vérifie si les deux opérandes sont égaux ou non. elle renvoie la valeur true si les deux opérandes ne sont pas égaux, Sinon, il retourne false. C'est le complément booléen exact de l'opérateur‘==’. Par exemple, 5!=5 retournera false.\n",
        "\n",
        "- L’opérateur ‘>’ vérifie si le premier opérande est supérieur au deuxième opérande. Si c'est le cas, cela retourne true. Sinon, il retourne false. Par exemple, 6> 5 retournera true.\n",
        "\n",
        "- L’opérateur ‘<‘ vérifie si le premier opérande est inférieur au deuxième opérande. Si c'est le cas, cela retourne true. Sinon, il retourne false. Par exemple, 6 < 5 renverra false. <\n",
        "\n",
        "- L’opérateur ‘> =’ vérifie si le premier opérande est supérieur ou égal au deuxième opérande. Si c'est le cas, cela retourne true. Sinon, il retourne false. Par exemple, 5> = 5 retournera true.\n",
        "\n",
        "- L’opérateur ‘<=’ vérifie si le premier opérande est inférieur ou égal au deuxième opérande. Si c'est le cas, cela retourne true. Sinon, il retourne false. Par exemple, 5 <=5 retournera également true."
      ]
    },
    {
      "cell_type": "code",
      "metadata": {
        "id": "rZoJQi3NaWt4",
        "colab_type": "code",
        "colab": {
          "base_uri": "https://localhost:8080/",
          "height": 34
        },
        "outputId": "7790f769-4d43-477e-e96e-2ee6ccffa295"
      },
      "source": [
        "3 == 4"
      ],
      "execution_count": 18,
      "outputs": [
        {
          "output_type": "execute_result",
          "data": {
            "text/plain": [
              "False"
            ]
          },
          "metadata": {
            "tags": []
          },
          "execution_count": 18
        }
      ]
    },
    {
      "cell_type": "code",
      "metadata": {
        "id": "bB3H8r53fN25",
        "colab_type": "code",
        "colab": {
          "base_uri": "https://localhost:8080/",
          "height": 34
        },
        "outputId": "af2f209b-a9de-49aa-ce73-fd127b62e473"
      },
      "source": [
        "a = 5\n",
        "a == 5"
      ],
      "execution_count": 19,
      "outputs": [
        {
          "output_type": "execute_result",
          "data": {
            "text/plain": [
              "True"
            ]
          },
          "metadata": {
            "tags": []
          },
          "execution_count": 19
        }
      ]
    },
    {
      "cell_type": "code",
      "metadata": {
        "id": "25Yb3a7KgODK",
        "colab_type": "code",
        "colab": {
          "base_uri": "https://localhost:8080/",
          "height": 34
        },
        "outputId": "74fcf31e-d1e1-4a5e-9138-572de2223510"
      },
      "source": [
        "# Il est également possible de chainer les comparateurs:\n",
        "a, b, c = 1, 10, 100\n",
        "a < b < c"
      ],
      "execution_count": 23,
      "outputs": [
        {
          "output_type": "execute_result",
          "data": {
            "text/plain": [
              "True"
            ]
          },
          "metadata": {
            "tags": []
          },
          "execution_count": 23
        }
      ]
    },
    {
      "cell_type": "code",
      "metadata": {
        "id": "Qvm5jKSIgTT5",
        "colab_type": "code",
        "colab": {
          "base_uri": "https://localhost:8080/",
          "height": 34
        },
        "outputId": "6ff322f9-1e1d-4c97-f7aa-ee07d48620de"
      },
      "source": [
        "a > b < c"
      ],
      "execution_count": 24,
      "outputs": [
        {
          "output_type": "execute_result",
          "data": {
            "text/plain": [
              "False"
            ]
          },
          "metadata": {
            "tags": []
          },
          "execution_count": 24
        }
      ]
    },
    {
      "cell_type": "markdown",
      "metadata": {
        "id": "qnVd1QD8au8b",
        "colab_type": "text"
      },
      "source": [
        "# Opérateurs logiques\n",
        " \n",
        "Il est possible d'affiner une condition avec les mots clé AND qui signifie \" ET \" et OR qui signifie \" OU \".\n",
        "\n",
        "On veut par exemple savoir si une valeur est plus grande que 5 mais aussi plus petite que 10:"
      ]
    },
    {
      "cell_type": "code",
      "metadata": {
        "id": "oxO69rOGfmaB",
        "colab_type": "code",
        "colab": {
          "base_uri": "https://localhost:8080/",
          "height": 34
        },
        "outputId": "59299726-8b06-48a1-da36-66ec41380487"
      },
      "source": [
        "v = 15\n",
        "v > 5 and v < 10"
      ],
      "execution_count": 20,
      "outputs": [
        {
          "output_type": "execute_result",
          "data": {
            "text/plain": [
              "False"
            ]
          },
          "metadata": {
            "tags": []
          },
          "execution_count": 20
        }
      ]
    },
    {
      "cell_type": "code",
      "metadata": {
        "id": "NOVNMZrYfutP",
        "colab_type": "code",
        "colab": {
          "base_uri": "https://localhost:8080/",
          "height": 34
        },
        "outputId": "da449c0e-1fb4-42de-a14a-b3f59145467c"
      },
      "source": [
        "# Essayons avec la valeur 7 \n",
        "v > 5 and v < 10"
      ],
      "execution_count": 21,
      "outputs": [
        {
          "output_type": "execute_result",
          "data": {
            "text/plain": [
              "False"
            ]
          },
          "metadata": {
            "tags": []
          },
          "execution_count": 21
        }
      ]
    },
    {
      "cell_type": "code",
      "metadata": {
        "id": "jxMNo0omf6aT",
        "colab_type": "code",
        "colab": {
          "base_uri": "https://localhost:8080/",
          "height": 34
        },
        "outputId": "5298c7cd-a5c8-4c92-afea-06aa2f6b9430"
      },
      "source": [
        "#Pour que le résultat soit TRUE , il faut que les deux conditions soient remplies .\n",
        "# Testons maintenant la condition OR\n",
        "v = 11\n",
        "v > 5 or v > 100"
      ],
      "execution_count": 22,
      "outputs": [
        {
          "output_type": "execute_result",
          "data": {
            "text/plain": [
              "True"
            ]
          },
          "metadata": {
            "tags": []
          },
          "execution_count": 22
        }
      ]
    },
    {
      "cell_type": "markdown",
      "metadata": {
        "id": "TG2LuWuLeOCl",
        "colab_type": "text"
      },
      "source": [
        "# Conditions\n",
        "\n",
        "Cette notion est l'une des plus importante en programmation. L'idée est de dire que si telle variable a telle valeur alors faire cela sinon cela\n",
        "\n",
        "- if condition: (exécuté si condition est vraie)\n",
        "\n",
        "- elif condition2: (exécuté si condition est fausse et condition2 est vraie)\n",
        "\n",
        "- else: (exécuté si condition et condition2 sont fausses)"
      ]
    },
    {
      "cell_type": "markdown",
      "metadata": {
        "id": "Yf3EMk36gh0w",
        "colab_type": "text"
      },
      "source": [
        "# Indentation\n",
        "Python s'appuie sur l'indentation, en utilisant des espaces blancs, pour définir la portée dans le code. D'autres langages de programmation utilisent souvent des crochets bouclés à cet effet."
      ]
    },
    {
      "cell_type": "code",
      "metadata": {
        "id": "pNz8Qh_3hPX0",
        "colab_type": "code",
        "colab": {
          "base_uri": "https://localhost:8080/",
          "height": 34
        },
        "outputId": "ee33248e-df9f-4153-b3fb-c6cf2359d68f"
      },
      "source": [
        "if 5 > 2:\n",
        "    print(\"ça marche!\")"
      ],
      "execution_count": 25,
      "outputs": [
        {
          "output_type": "stream",
          "text": [
            "ça marche!\n"
          ],
          "name": "stdout"
        }
      ]
    },
    {
      "cell_type": "code",
      "metadata": {
        "id": "TfGHLPvwhYrT",
        "colab_type": "code",
        "colab": {
          "base_uri": "https://localhost:8080/",
          "height": 35
        },
        "outputId": "110022c9-4808-468a-8ecd-dc3881e9dd53"
      },
      "source": [
        "if 5 < 2:\n",
        "   print(\"ça marche\")\n",
        "else:\n",
        "   print(\"c'est un probleme!\")"
      ],
      "execution_count": 26,
      "outputs": [
        {
          "output_type": "stream",
          "text": [
            "c'est un probleme!\n"
          ],
          "name": "stdout"
        }
      ]
    },
    {
      "cell_type": "code",
      "metadata": {
        "id": "0_fECUuvhnDx",
        "colab_type": "code",
        "colab": {
          "base_uri": "https://localhost:8080/",
          "height": 34
        },
        "outputId": "65298aa2-6de2-49f7-d716-dee8c7afd222"
      },
      "source": [
        "if 5 == 5:\n",
        "  print(\"ok\")"
      ],
      "execution_count": 27,
      "outputs": [
        {
          "output_type": "stream",
          "text": [
            "ok\n"
          ],
          "name": "stdout"
        }
      ]
    },
    {
      "cell_type": "code",
      "metadata": {
        "id": "sJSjBMGPibUa",
        "colab_type": "code",
        "colab": {
          "base_uri": "https://localhost:8080/",
          "height": 34
        },
        "outputId": "6f2f8e34-8348-464c-e467-ec18e8481480"
      },
      "source": [
        "if True:\n",
        "    print('ça marche')"
      ],
      "execution_count": 28,
      "outputs": [
        {
          "output_type": "stream",
          "text": [
            "ça marche\n"
          ],
          "name": "stdout"
        }
      ]
    },
    {
      "cell_type": "code",
      "metadata": {
        "id": "Buc8dSZtisPc",
        "colab_type": "code",
        "colab": {
          "base_uri": "https://localhost:8080/",
          "height": 129
        },
        "outputId": "5261eb14-2d9e-4909-bff3-c3b03b5eb83a"
      },
      "source": [
        "#Attention !\n",
        "# Atenção com a sintaxe\n",
        "if 4 > 3\n",
        "  print(\"ça marche\")\n"
      ],
      "execution_count": 29,
      "outputs": [
        {
          "output_type": "error",
          "ename": "SyntaxError",
          "evalue": "ignored",
          "traceback": [
            "\u001b[0;36m  File \u001b[0;32m\"<ipython-input-29-51e436e6e46c>\"\u001b[0;36m, line \u001b[0;32m3\u001b[0m\n\u001b[0;31m    if 4 > 3\u001b[0m\n\u001b[0m            ^\u001b[0m\n\u001b[0;31mSyntaxError\u001b[0m\u001b[0;31m:\u001b[0m invalid syntax\n"
          ]
        }
      ]
    },
    {
      "cell_type": "code",
      "metadata": {
        "id": "SlV-xLDpi4UZ",
        "colab_type": "code",
        "colab": {
          "base_uri": "https://localhost:8080/",
          "height": 129
        },
        "outputId": "69e35f18-fc82-4b9a-af0e-163e1638dc01"
      },
      "source": [
        "if 4 > 3:\n",
        "print(\"ça marche\")"
      ],
      "execution_count": 30,
      "outputs": [
        {
          "output_type": "error",
          "ename": "IndentationError",
          "evalue": "ignored",
          "traceback": [
            "\u001b[0;36m  File \u001b[0;32m\"<ipython-input-30-1da447cc81fd>\"\u001b[0;36m, line \u001b[0;32m2\u001b[0m\n\u001b[0;31m    print(\"ça marche\")\u001b[0m\n\u001b[0m        ^\u001b[0m\n\u001b[0;31mIndentationError\u001b[0m\u001b[0;31m:\u001b[0m expected an indented block\n"
          ]
        }
      ]
    },
    {
      "cell_type": "markdown",
      "metadata": {
        "id": "WQ10hROkjFC1",
        "colab_type": "text"
      },
      "source": [
        "# Conditionnelles imbriquées"
      ]
    },
    {
      "cell_type": "code",
      "metadata": {
        "id": "aZrVVQ3tjQ7X",
        "colab_type": "code",
        "colab": {
          "base_uri": "https://localhost:8080/",
          "height": 34
        },
        "outputId": "35906b34-556d-468c-cb2c-d5f0dd74d3b5"
      },
      "source": [
        "a = 115\n",
        "b = 115\n",
        "if b > a:\n",
        "  print(\"b est plus grand que a\")\n",
        "elif a == b:\n",
        "  print(\"a et b sont égaux\")"
      ],
      "execution_count": 31,
      "outputs": [
        {
          "output_type": "stream",
          "text": [
            "a et b sont égaux\n"
          ],
          "name": "stdout"
        }
      ]
    },
    {
      "cell_type": "code",
      "metadata": {
        "id": "WdptxVkOjX7v",
        "colab_type": "code",
        "colab": {
          "base_uri": "https://localhost:8080/",
          "height": 34
        },
        "outputId": "a26f9c58-6cde-4176-c82e-5cf665eb433b"
      },
      "source": [
        "a = 100\n",
        "b = 33\n",
        "if b > a:\n",
        "  print(\"b est plus grand que a\")\n",
        "elif a == b:\n",
        "  print(\"a et b sont égaux\")\n",
        "else:\n",
        "  print(\"a est plus grand que b\")"
      ],
      "execution_count": 32,
      "outputs": [
        {
          "output_type": "stream",
          "text": [
            "a est plus grand que b\n"
          ],
          "name": "stdout"
        }
      ]
    },
    {
      "cell_type": "code",
      "metadata": {
        "id": "vnOaNE1fjoUj",
        "colab_type": "code",
        "colab": {
          "base_uri": "https://localhost:8080/",
          "height": 34
        },
        "outputId": "f0388d58-9679-47d7-bab6-4168280d9698"
      },
      "source": [
        "age = 18\n",
        "prenom = \"Bob\"\n",
        "if age > 13:\n",
        " if prenom == \"Bob\":\n",
        "   print(\"Ok Bob, vous pouvez entrer !\")\n",
        " else:\n",
        "   print(\"Sorry , vous ne pouvez pas entrer!\")"
      ],
      "execution_count": 35,
      "outputs": [
        {
          "output_type": "stream",
          "text": [
            "Ok Bob, vous pouvez entrer !\n"
          ],
          "name": "stdout"
        }
      ]
    },
    {
      "cell_type": "code",
      "metadata": {
        "id": "7hA6z43skED9",
        "colab_type": "code",
        "colab": {
          "base_uri": "https://localhost:8080/",
          "height": 34
        },
        "outputId": "be72be5a-744b-442a-db22-b8e0bfffef63"
      },
      "source": [
        "age = 12\n",
        "prenom = \"Bob\"\n",
        "if (age >= 13) or (prenom == \"Bob\"):\n",
        "    print(\"Ok Bob, vous pouvez entrer!\")"
      ],
      "execution_count": 36,
      "outputs": [
        {
          "output_type": "stream",
          "text": [
            "Ok Bob, vous pouvez entrer!\n"
          ],
          "name": "stdout"
        }
      ]
    },
    {
      "cell_type": "markdown",
      "metadata": {
        "id": "Q-_bq8a7krC6",
        "colab_type": "text"
      },
      "source": [
        "Vous pouvez aussi utiliser Else sans Elif"
      ]
    },
    {
      "cell_type": "code",
      "metadata": {
        "id": "mIkydhuiksHY",
        "colab_type": "code",
        "colab": {
          "base_uri": "https://localhost:8080/",
          "height": 34
        },
        "outputId": "03fcba85-4e34-4778-9110-ac089b91b499"
      },
      "source": [
        "a = 112\n",
        "b = 37\n",
        "if b > a:\n",
        "  print(\"b est plus grand que a\")\n",
        "else:\n",
        "  print(\"b est inférieur à a\")"
      ],
      "execution_count": 37,
      "outputs": [
        {
          "output_type": "stream",
          "text": [
            "b est inférieur à a\n"
          ],
          "name": "stdout"
        }
      ]
    },
    {
      "cell_type": "markdown",
      "metadata": {
        "id": "q5xOzZJek41C",
        "colab_type": "text"
      },
      "source": [
        "If : syntaxe rapide\n",
        "\n",
        "Si vous n'avez qu'une seule instruction à exécuter, vous pouvez la placer sur la même ligne que l'instruction if."
      ]
    },
    {
      "cell_type": "code",
      "metadata": {
        "id": "OWMqSLmwk9Fd",
        "colab_type": "code",
        "colab": {
          "base_uri": "https://localhost:8080/",
          "height": 34
        },
        "outputId": "755eca58-af6a-479a-954e-2efaadfdafe2"
      },
      "source": [
        "if a > b: print(\"a est plus grand que b\")"
      ],
      "execution_count": 38,
      "outputs": [
        {
          "output_type": "stream",
          "text": [
            "a est plus grand que b\n"
          ],
          "name": "stdout"
        }
      ]
    },
    {
      "cell_type": "markdown",
      "metadata": {
        "id": "53IKxBLWlCAd",
        "colab_type": "text"
      },
      "source": [
        "If Else : syntaxe rapide\n",
        "\n",
        "Si vous n'avez qu'une seule instruction à exécuter, une pour If, et une autre pour else, vous pouvez tout mettre sur la même ligne :"
      ]
    },
    {
      "cell_type": "code",
      "metadata": {
        "id": "K9llos56lD-k",
        "colab_type": "code",
        "colab": {
          "base_uri": "https://localhost:8080/",
          "height": 34
        },
        "outputId": "41fc7ca5-6f0d-4453-fe6a-93ce7b3b1035"
      },
      "source": [
        "print(\"A\") if a > b else print(\"B\")"
      ],
      "execution_count": 39,
      "outputs": [
        {
          "output_type": "stream",
          "text": [
            "A\n"
          ],
          "name": "stdout"
        }
      ]
    },
    {
      "cell_type": "markdown",
      "metadata": {
        "id": "n99nLeEZlZqi",
        "colab_type": "text"
      },
      "source": [
        "# Les boucles (for et while)\n",
        "\n",
        "La boucle while : \n",
        "\n",
        "Les boucles permettent de répéter une suite d'instructions. Il existe deux structures pour les boucles.\n",
        "La première, while (tant que [...] alors [...] ), qui suit la syntaxe suivante.\n",
        "\n",
        "\n",
        "\n",
        "```\n",
        "while condition:\n",
        "\n",
        "    instruction1\n",
        "```\n",
        "\n"
      ]
    },
    {
      "cell_type": "code",
      "metadata": {
        "id": "txLhF7aBmDBa",
        "colab_type": "code",
        "colab": {
          "base_uri": "https://localhost:8080/",
          "height": 187
        },
        "outputId": "3257f725-a38d-4222-8caf-11f4c99f7147"
      },
      "source": [
        "# afficher valeurs entre 0 et 9\n",
        "\n",
        "counter = 0\n",
        "while counter < 10:\n",
        "    print(counter)\n",
        "    counter = counter + 1"
      ],
      "execution_count": 40,
      "outputs": [
        {
          "output_type": "stream",
          "text": [
            "0\n",
            "1\n",
            "2\n",
            "3\n",
            "4\n",
            "5\n",
            "6\n",
            "7\n",
            "8\n",
            "9\n"
          ],
          "name": "stdout"
        }
      ]
    },
    {
      "cell_type": "code",
      "metadata": {
        "id": "XUuxkUoxmI9E",
        "colab_type": "code",
        "colab": {
          "base_uri": "https://localhost:8080/",
          "height": 374
        },
        "outputId": "2015b4c8-30ae-445c-da0c-0f5405ccb5c3"
      },
      "source": [
        "x = 0\n",
        "\n",
        "while x < 10:\n",
        "    print ('Le valeur de  est: ', x)\n",
        "    print (' x inferieur à 10 , ajouter 1 à 10')\n",
        "    x += 1\n",
        "    \n",
        "else:\n",
        "    print ('arreter!')"
      ],
      "execution_count": 41,
      "outputs": [
        {
          "output_type": "stream",
          "text": [
            "Le valeur de  est:  0\n",
            " x inferieur à 10 , ajouter 1 à 10\n",
            "Le valeur de  est:  1\n",
            " x inferieur à 10 , ajouter 1 à 10\n",
            "Le valeur de  est:  2\n",
            " x inferieur à 10 , ajouter 1 à 10\n",
            "Le valeur de  est:  3\n",
            " x inferieur à 10 , ajouter 1 à 10\n",
            "Le valeur de  est:  4\n",
            " x inferieur à 10 , ajouter 1 à 10\n",
            "Le valeur de  est:  5\n",
            " x inferieur à 10 , ajouter 1 à 10\n",
            "Le valeur de  est:  6\n",
            " x inferieur à 10 , ajouter 1 à 10\n",
            "Le valeur de  est:  7\n",
            " x inferieur à 10 , ajouter 1 à 10\n",
            "Le valeur de  est:  8\n",
            " x inferieur à 10 , ajouter 1 à 10\n",
            "Le valeur de  est:  9\n",
            " x inferieur à 10 , ajouter 1 à 10\n",
            "arreter!\n"
          ],
          "name": "stdout"
        }
      ]
    },
    {
      "cell_type": "code",
      "metadata": {
        "id": "YFi20yZDmtPq",
        "colab_type": "code",
        "colab": {
          "base_uri": "https://localhost:8080/",
          "height": 85
        },
        "outputId": "91511b70-02ce-4806-dcde-1d2d22a12eb1"
      },
      "source": [
        "# Pass, Break, Continue\n",
        "\n",
        "counter = 0\n",
        "while counter < 100:\n",
        "    if counter == 4:\n",
        "        break\n",
        "    else:\n",
        "        pass\n",
        "    print(counter)\n",
        "    counter = counter + 1"
      ],
      "execution_count": 42,
      "outputs": [
        {
          "output_type": "stream",
          "text": [
            "0\n",
            "1\n",
            "2\n",
            "3\n"
          ],
          "name": "stdout"
        }
      ]
    },
    {
      "cell_type": "code",
      "metadata": {
        "id": "jOW8nV8Qm1Qd",
        "colab_type": "code",
        "colab": {
          "base_uri": "https://localhost:8080/",
          "height": 102
        },
        "outputId": "4d48c953-640d-435c-f357-b9e39cefa6a4"
      },
      "source": [
        "for verifier in \"Python\":\n",
        "    if verifier == \"h\":\n",
        "        continue\n",
        "    print(verifier)"
      ],
      "execution_count": 43,
      "outputs": [
        {
          "output_type": "stream",
          "text": [
            "P\n",
            "y\n",
            "t\n",
            "o\n",
            "n\n"
          ],
          "name": "stdout"
        }
      ]
    },
    {
      "cell_type": "code",
      "metadata": {
        "id": "NtaO0PDMnAeT",
        "colab_type": "code",
        "colab": {
          "base_uri": "https://localhost:8080/",
          "height": 187
        },
        "outputId": "d61af7c6-cb05-4224-c46d-661ed9e6fc40"
      },
      "source": [
        "# While e For juntos\n",
        "for i in range(2,30):\n",
        "    j = 2\n",
        "    counter = 0\n",
        "    while j < i:\n",
        "        if i % j == 0:\n",
        "            counter = 1\n",
        "            j = j + 1\n",
        "        else:\n",
        "            j = j + 1\n",
        "    \n",
        "    if counter == 0:\n",
        "        print(str(i) + \" c'est un nombre premier\")\n",
        "        counter = 0\n",
        "    else:\n",
        "        counter = 0\n"
      ],
      "execution_count": 44,
      "outputs": [
        {
          "output_type": "stream",
          "text": [
            "2 c'est un nombre premier\n",
            "3 c'est un nombre premier\n",
            "5 c'est un nombre premier\n",
            "7 c'est un nombre premier\n",
            "11 c'est un nombre premier\n",
            "13 c'est un nombre premier\n",
            "17 c'est un nombre premier\n",
            "19 c'est un nombre premier\n",
            "23 c'est un nombre premier\n",
            "29 c'est un nombre premier\n"
          ],
          "name": "stdout"
        }
      ]
    },
    {
      "cell_type": "markdown",
      "metadata": {
        "id": "mmjOD5ndnWHl",
        "colab_type": "text"
      },
      "source": [
        "# La boucle for : \n",
        "\n",
        "La boucle for permet aussi de répéter un bloc d'instructions. Elle est généralement utilisée lorsque l'on souhaite itérer sur une séquence prédéfinie de valeurs."
      ]
    },
    {
      "cell_type": "code",
      "metadata": {
        "id": "edVFj5kpnZH9",
        "colab_type": "code",
        "colab": {
          "base_uri": "https://localhost:8080/",
          "height": 68
        },
        "outputId": "0744d8ed-4fe2-47e1-b81b-d54ed27eacfa"
      },
      "source": [
        "# créer un tuple et afficher les valeurs\n",
        "tp = (2,3,4)\n",
        "for i in tp:\n",
        "    print(i)"
      ],
      "execution_count": 45,
      "outputs": [
        {
          "output_type": "stream",
          "text": [
            "2\n",
            "3\n",
            "4\n"
          ],
          "name": "stdout"
        }
      ]
    },
    {
      "cell_type": "code",
      "metadata": {
        "id": "Nv0xFGuvoSWI",
        "colab_type": "code",
        "colab": {
          "base_uri": "https://localhost:8080/",
          "height": 68
        },
        "outputId": "afbe8e40-a86d-4ebd-f051-a70d2410484d"
      },
      "source": [
        "supermarche = [\"Lait\", \"Fromage\", \"Viande\"]\n",
        "for i in supermarche:\n",
        "    print(i)"
      ],
      "execution_count": 46,
      "outputs": [
        {
          "output_type": "stream",
          "text": [
            "Lait\n",
            "Fromage\n",
            "Viande\n"
          ],
          "name": "stdout"
        }
      ]
    },
    {
      "cell_type": "code",
      "metadata": {
        "id": "XRQH1UEzofG2",
        "colab_type": "code",
        "colab": {
          "base_uri": "https://localhost:8080/",
          "height": 102
        },
        "outputId": "9b129a5f-612e-4e91-93c8-28646b55d20f"
      },
      "source": [
        "for compteur in range(0,5):\n",
        "    print(compteur)"
      ],
      "execution_count": 47,
      "outputs": [
        {
          "output_type": "stream",
          "text": [
            "0\n",
            "1\n",
            "2\n",
            "3\n",
            "4\n"
          ],
          "name": "stdout"
        }
      ]
    },
    {
      "cell_type": "code",
      "metadata": {
        "id": "7AkIMLLVopxs",
        "colab_type": "code",
        "colab": {
          "base_uri": "https://localhost:8080/",
          "height": 102
        },
        "outputId": "d408dd8f-9354-45db-abbf-f75f63019fb3"
      },
      "source": [
        "# afficher les valeurs pairs\n",
        "var = [1,2,3,4,5,6,7,8,9,10]\n",
        "for num in var:\n",
        "    if num % 2 == 0:\n",
        "        print (num)"
      ],
      "execution_count": 48,
      "outputs": [
        {
          "output_type": "stream",
          "text": [
            "2\n",
            "4\n",
            "6\n",
            "8\n",
            "10\n"
          ],
          "name": "stdout"
        }
      ]
    },
    {
      "cell_type": "code",
      "metadata": {
        "id": "Fmjx6MYgozlx",
        "colab_type": "code",
        "colab": {
          "base_uri": "https://localhost:8080/",
          "height": 884
        },
        "outputId": "ccd847ce-4859-4e88-9ffc-e2dd09fe4d31"
      },
      "source": [
        "for i in range(0,101,2):  \n",
        "    print(i)"
      ],
      "execution_count": 49,
      "outputs": [
        {
          "output_type": "stream",
          "text": [
            "0\n",
            "2\n",
            "4\n",
            "6\n",
            "8\n",
            "10\n",
            "12\n",
            "14\n",
            "16\n",
            "18\n",
            "20\n",
            "22\n",
            "24\n",
            "26\n",
            "28\n",
            "30\n",
            "32\n",
            "34\n",
            "36\n",
            "38\n",
            "40\n",
            "42\n",
            "44\n",
            "46\n",
            "48\n",
            "50\n",
            "52\n",
            "54\n",
            "56\n",
            "58\n",
            "60\n",
            "62\n",
            "64\n",
            "66\n",
            "68\n",
            "70\n",
            "72\n",
            "74\n",
            "76\n",
            "78\n",
            "80\n",
            "82\n",
            "84\n",
            "86\n",
            "88\n",
            "90\n",
            "92\n",
            "94\n",
            "96\n",
            "98\n",
            "100\n"
          ],
          "name": "stdout"
        }
      ]
    },
    {
      "cell_type": "code",
      "metadata": {
        "id": "sZT0r79mptsd",
        "colab_type": "code",
        "colab": {
          "base_uri": "https://localhost:8080/",
          "height": 102
        },
        "outputId": "54580717-bfd1-47d3-a3b9-a0863cfa4364"
      },
      "source": [
        "for i in range(5):\n",
        " print(i)"
      ],
      "execution_count": 52,
      "outputs": [
        {
          "output_type": "stream",
          "text": [
            "0\n",
            "1\n",
            "2\n",
            "3\n",
            "4\n"
          ],
          "name": "stdout"
        }
      ]
    },
    {
      "cell_type": "code",
      "metadata": {
        "id": "Z5MAxQdMp3ZB",
        "colab_type": "code",
        "colab": {
          "base_uri": "https://localhost:8080/",
          "height": 272
        },
        "outputId": "d0994166-07d9-4b2e-d256-a3d2b224d231"
      },
      "source": [
        "for caracter in 'Python est bien':\n",
        "    print (caracter)"
      ],
      "execution_count": 53,
      "outputs": [
        {
          "output_type": "stream",
          "text": [
            "P\n",
            "y\n",
            "t\n",
            "h\n",
            "o\n",
            "n\n",
            " \n",
            "e\n",
            "s\n",
            "t\n",
            " \n",
            "b\n",
            "i\n",
            "e\n",
            "n\n"
          ],
          "name": "stdout"
        }
      ]
    },
    {
      "cell_type": "code",
      "metadata": {
        "id": "EXU1bpb4p_yp",
        "colab_type": "code",
        "colab": {
          "base_uri": "https://localhost:8080/",
          "height": 442
        },
        "outputId": "da943ce3-7c61-4743-c51b-6ecf47a94870"
      },
      "source": [
        "# loops imbriqués\n",
        "for i in range(0,5):\n",
        "    for a in range(0,5):\n",
        "        print(a)"
      ],
      "execution_count": 54,
      "outputs": [
        {
          "output_type": "stream",
          "text": [
            "0\n",
            "1\n",
            "2\n",
            "3\n",
            "4\n",
            "0\n",
            "1\n",
            "2\n",
            "3\n",
            "4\n",
            "0\n",
            "1\n",
            "2\n",
            "3\n",
            "4\n",
            "0\n",
            "1\n",
            "2\n",
            "3\n",
            "4\n",
            "0\n",
            "1\n",
            "2\n",
            "3\n",
            "4\n"
          ],
          "name": "stdout"
        }
      ]
    },
    {
      "cell_type": "code",
      "metadata": {
        "id": "MCegixeEqJtm",
        "colab_type": "code",
        "colab": {
          "base_uri": "https://localhost:8080/",
          "height": 68
        },
        "outputId": "c618dd6a-b8a6-4734-d1de-b429ab776633"
      },
      "source": [
        "dict = {'k1':'Python','k2':'R','k3':'Scala'}\n",
        "for element in dict:\n",
        "    print(element)"
      ],
      "execution_count": 55,
      "outputs": [
        {
          "output_type": "stream",
          "text": [
            "k1\n",
            "k2\n",
            "k3\n"
          ],
          "name": "stdout"
        }
      ]
    },
    {
      "cell_type": "code",
      "metadata": {
        "id": "CcCWs9PSqOYY",
        "colab_type": "code",
        "colab": {
          "base_uri": "https://localhost:8080/",
          "height": 34
        },
        "outputId": "40629394-9c12-45aa-d560-1557b694c01c"
      },
      "source": [
        "listeC = [5, 6, 7, 10, 50]\n",
        "\n",
        "for element in listeC:\n",
        "    if element == 5:\n",
        "        print(\"J'ai trouvé\")"
      ],
      "execution_count": 56,
      "outputs": [
        {
          "output_type": "stream",
          "text": [
            "J'ai trouvé\n"
          ],
          "name": "stdout"
        }
      ]
    },
    {
      "cell_type": "markdown",
      "metadata": {
        "id": "CIM3SCubrDV5",
        "colab_type": "text"
      },
      "source": [
        "# Range \n",
        "\n",
        "Si vous devez itérer sur une suite de nombres, la fonction native range() est faite pour cela. Elle génère des suites arithmétiques"
      ]
    },
    {
      "cell_type": "code",
      "metadata": {
        "id": "moko39hIrJFg",
        "colab_type": "code",
        "colab": {
          "base_uri": "https://localhost:8080/",
          "height": 68
        },
        "outputId": "0f11ff45-f1e8-4240-8e3c-90890f0dc6f2"
      },
      "source": [
        "for i in range(3, 6):\n",
        "    print (i)"
      ],
      "execution_count": 59,
      "outputs": [
        {
          "output_type": "stream",
          "text": [
            "3\n",
            "4\n",
            "5\n"
          ],
          "name": "stdout"
        }
      ]
    },
    {
      "cell_type": "code",
      "metadata": {
        "id": "kUN-XpcVrOzo",
        "colab_type": "code",
        "colab": {
          "base_uri": "https://localhost:8080/",
          "height": 187
        },
        "outputId": "9c2ea8a1-35b8-4126-964c-0b627c4240af"
      },
      "source": [
        "for i in range(0, -20, -2):\n",
        "    print(i)"
      ],
      "execution_count": 60,
      "outputs": [
        {
          "output_type": "stream",
          "text": [
            "0\n",
            "-2\n",
            "-4\n",
            "-6\n",
            "-8\n",
            "-10\n",
            "-12\n",
            "-14\n",
            "-16\n",
            "-18\n"
          ],
          "name": "stdout"
        }
      ]
    },
    {
      "cell_type": "code",
      "metadata": {
        "id": "G5WrXndgrSVq",
        "colab_type": "code",
        "colab": {
          "base_uri": "https://localhost:8080/",
          "height": 85
        },
        "outputId": "3fc37269-1501-4530-ca0a-c00158e98f0c"
      },
      "source": [
        "supermarche = ['Fraise', 'Pain,', 'Eau', 'yaourt']\n",
        "supermarche_taille = len(supermarche)\n",
        "for i in range(0, supermarche_taille):\n",
        "    print(supermarche[i])"
      ],
      "execution_count": 61,
      "outputs": [
        {
          "output_type": "stream",
          "text": [
            "Fraise\n",
            "Pain,\n",
            "Eau\n",
            "yaourt\n"
          ],
          "name": "stdout"
        }
      ]
    },
    {
      "cell_type": "code",
      "metadata": {
        "id": "xyr-JrM2ryEL",
        "colab_type": "code",
        "colab": {
          "base_uri": "https://localhost:8080/",
          "height": 34
        },
        "outputId": "19d6dcc8-98ab-476d-88bf-d9458f56a5b7"
      },
      "source": [
        "type(range(0,3))"
      ],
      "execution_count": 62,
      "outputs": [
        {
          "output_type": "execute_result",
          "data": {
            "text/plain": [
              "range"
            ]
          },
          "metadata": {
            "tags": []
          },
          "execution_count": 62
        }
      ]
    }
  ]
}