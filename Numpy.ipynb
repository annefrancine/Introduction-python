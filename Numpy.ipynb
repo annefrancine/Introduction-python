{
  "nbformat": 4,
  "nbformat_minor": 0,
  "metadata": {
    "colab": {
      "name": "Numpy.ipynb",
      "provenance": [],
      "collapsed_sections": [],
      "authorship_tag": "ABX9TyODTwQRmf1/i7sLXMpp0cEy",
      "include_colab_link": true
    },
    "kernelspec": {
      "name": "python3",
      "display_name": "Python 3"
    }
  },
  "cells": [
    {
      "cell_type": "markdown",
      "metadata": {
        "id": "view-in-github",
        "colab_type": "text"
      },
      "source": [
        "<a href=\"https://colab.research.google.com/github/annefrancine/Introduction-python/blob/master/Numpy.ipynb\" target=\"_parent\"><img src=\"https://colab.research.google.com/assets/colab-badge.svg\" alt=\"Open In Colab\"/></a>"
      ]
    },
    {
      "cell_type": "markdown",
      "metadata": {
        "id": "5QVsHni6HIgN",
        "colab_type": "text"
      },
      "source": [
        "NumPy  est une bibliothèque numérique apportant un support efficace pour la création et la manipulation de larges tableaux multidimensionnels, et de routines mathématiques de haut niveau (algèbre linéaire, statistiques, fonctions mathématiques complexes etc.…). \n",
        "\n",
        "https://numpy.org/doc/"
      ]
    },
    {
      "cell_type": "code",
      "metadata": {
        "id": "h7I78Q_tNdjh",
        "colab_type": "code",
        "colab": {}
      },
      "source": [
        "# La première étape pour l'utiliser est d'importer le module Numpy. Très souvent, \n",
        "# on l'importe en lui donnant l'abréviation np avec l\"instruction suivante :\n",
        "\n",
        "import numpy as np"
      ],
      "execution_count": 1,
      "outputs": []
    },
    {
      "cell_type": "markdown",
      "metadata": {
        "id": "KbTU0veIHXs7",
        "colab_type": "text"
      },
      "source": [
        "De nombreuses fonctions mathématiques sont accessibles grâce à Numpy, comme les fonctions trigonométriques (np.sin(), np.arctan()...), les fonctions de mathématiques basiques, la fonction racine carrée (np.sqrt()), les fonctions exponentielles et logarithmes (np.exp(), np.log()...). Toutes les fonctions sont listées ici (https://docs.scipy.org/doc/numpy-1.13.0/reference/routines.math.html)"
      ]
    },
    {
      "cell_type": "code",
      "metadata": {
        "id": "s1Y7grPSIl5P",
        "colab_type": "code",
        "colab": {
          "base_uri": "https://localhost:8080/",
          "height": 35
        },
        "outputId": "1fef4871-64c3-41a0-85ea-f2d3eac5a004"
      },
      "source": [
        "# NumPy définit par défaut la valeur de pi\n",
        "np.pi"
      ],
      "execution_count": 2,
      "outputs": [
        {
          "output_type": "execute_result",
          "data": {
            "text/plain": [
              "3.141592653589793"
            ]
          },
          "metadata": {
            "tags": []
          },
          "execution_count": 2
        }
      ]
    },
    {
      "cell_type": "markdown",
      "metadata": {
        "id": "0pWxUdXpMqno",
        "colab_type": "text"
      },
      "source": [
        "## 1)\tCréation d’un Numpy array"
      ]
    },
    {
      "cell_type": "markdown",
      "metadata": {
        "id": "B1BSe1DIIzdU",
        "colab_type": "text"
      },
      "source": [
        "1.1) Array\n",
        "\n",
        "L'efficacité du module Numpy réside essentiellement dans l'utilisation d'un type optimisé : le type ndarray. Les objets de type ndarray se manipulent comme des listes, à la différence qu'ils ne contiennent que des éléments de même type.\n",
        "\n",
        "Il convient de noter que toutes les opérations effectuées à partir de arrays peuvent être faites sur des objets de type list ordinaire, mais cette alternative serait plus longue à écrire, plus lente, et prendrait beaucoup de mémoire supplémentaire.\n",
        "On peut construire un ndarray à partir de n’importe quel autre type d'objets itérable, comme une liste ou un tuple, grâce à la fonction np.array() .\n",
        "\n",
        "La méthode array transforme les listes de listes en tableaux bidimensionnels, les listes de listes de listes en tableaux tridimensionnels, etc. Le type du tableau obtenu est déduit du type des éléments de la liste/du tuple.\n"
      ]
    },
    {
      "cell_type": "code",
      "metadata": {
        "id": "jlHNi8PdNpZX",
        "colab_type": "code",
        "colab": {
          "base_uri": "https://localhost:8080/",
          "height": 35
        },
        "outputId": "689f63c8-09ca-4584-e4b2-5520b0c8a671"
      },
      "source": [
        "a = np.array([4,7,9])# tableau 1D\n",
        "a"
      ],
      "execution_count": 19,
      "outputs": [
        {
          "output_type": "execute_result",
          "data": {
            "text/plain": [
              "array([4, 7, 9])"
            ]
          },
          "metadata": {
            "tags": []
          },
          "execution_count": 19
        }
      ]
    },
    {
      "cell_type": "code",
      "metadata": {
        "id": "_TMKokquI4QV",
        "colab_type": "code",
        "colab": {
          "base_uri": "https://localhost:8080/",
          "height": 52
        },
        "outputId": "9e2a65f5-ef01-4fdc-b9f6-0f3fc7aed5da"
      },
      "source": [
        "b = np.array([[1, 2, 3], [4, 5, 6]])# tableau 2D\n",
        "b"
      ],
      "execution_count": 20,
      "outputs": [
        {
          "output_type": "execute_result",
          "data": {
            "text/plain": [
              "array([[1, 2, 3],\n",
              "       [4, 5, 6]])"
            ]
          },
          "metadata": {
            "tags": []
          },
          "execution_count": 20
        }
      ]
    },
    {
      "cell_type": "code",
      "metadata": {
        "id": "NudXeqwGI5U7",
        "colab_type": "code",
        "colab": {
          "base_uri": "https://localhost:8080/",
          "height": 35
        },
        "outputId": "0429822c-a116-4419-c241-175abb6b0972"
      },
      "source": [
        "type(a)"
      ],
      "execution_count": 4,
      "outputs": [
        {
          "output_type": "execute_result",
          "data": {
            "text/plain": [
              "numpy.ndarray"
            ]
          },
          "metadata": {
            "tags": []
          },
          "execution_count": 4
        }
      ]
    },
    {
      "cell_type": "code",
      "metadata": {
        "id": "SrgFYxtNJDoI",
        "colab_type": "code",
        "colab": {
          "base_uri": "https://localhost:8080/",
          "height": 35
        },
        "outputId": "3dd99fc3-4e30-4200-90b1-13185e896751"
      },
      "source": [
        "# Comme pour les listes, les indices des éléments commencent à zéro.\n",
        "a[0,1]# ligne zero, cologne 1\n"
      ],
      "execution_count": 5,
      "outputs": [
        {
          "output_type": "execute_result",
          "data": {
            "text/plain": [
              "2"
            ]
          },
          "metadata": {
            "tags": []
          },
          "execution_count": 5
        }
      ]
    },
    {
      "cell_type": "markdown",
      "metadata": {
        "id": "uyz9twkRN12Y",
        "colab_type": "text"
      },
      "source": [
        "La fonction numpy.size() renvoie le nombre d’éléments du tableau."
      ]
    },
    {
      "cell_type": "code",
      "metadata": {
        "id": "jaZJxgtyN3Gv",
        "colab_type": "code",
        "colab": {
          "base_uri": "https://localhost:8080/",
          "height": 35
        },
        "outputId": "4ba1d016-a028-4064-ff8a-cc78c691751b"
      },
      "source": [
        "np.size(a), np.size(b)"
      ],
      "execution_count": 22,
      "outputs": [
        {
          "output_type": "execute_result",
          "data": {
            "text/plain": [
              "(3, 6)"
            ]
          },
          "metadata": {
            "tags": []
          },
          "execution_count": 22
        }
      ]
    },
    {
      "cell_type": "markdown",
      "metadata": {
        "id": "awuKVnO5N_3x",
        "colab_type": "text"
      },
      "source": [
        "La fonction numpy.shape() (forme, en anglais) renvoie la taille du tableau."
      ]
    },
    {
      "cell_type": "code",
      "metadata": {
        "id": "Mc9ZNhMHODoJ",
        "colab_type": "code",
        "colab": {
          "base_uri": "https://localhost:8080/",
          "height": 52
        },
        "outputId": "14d1e797-4fda-43b8-d8e4-d6517fee6b53"
      },
      "source": [
        "c = np.array([[1, 2, 3],[4, 5, 6]])\n",
        "c"
      ],
      "execution_count": 26,
      "outputs": [
        {
          "output_type": "execute_result",
          "data": {
            "text/plain": [
              "array([[1, 2, 3],\n",
              "       [4, 5, 6]])"
            ]
          },
          "metadata": {
            "tags": []
          },
          "execution_count": 26
        }
      ]
    },
    {
      "cell_type": "code",
      "metadata": {
        "id": "gjDzBvLsRRK1",
        "colab_type": "code",
        "colab": {
          "base_uri": "https://localhost:8080/",
          "height": 35
        },
        "outputId": "bed46300-e628-4cf9-d594-b856b2e5cd77"
      },
      "source": [
        "np.shape(c)"
      ],
      "execution_count": 27,
      "outputs": [
        {
          "output_type": "execute_result",
          "data": {
            "text/plain": [
              "(2, 3)"
            ]
          },
          "metadata": {
            "tags": []
          },
          "execution_count": 27
        }
      ]
    },
    {
      "cell_type": "markdown",
      "metadata": {
        "id": "1mdMSLBPXPeg",
        "colab_type": "text"
      },
      "source": [
        "Il est possible de changer la taille d’un tableau en utilisant l’attribut shape de ce tableau."
      ]
    },
    {
      "cell_type": "code",
      "metadata": {
        "id": "omAmKZN1XTOs",
        "colab_type": "code",
        "colab": {
          "base_uri": "https://localhost:8080/",
          "height": 35
        },
        "outputId": "33cd0899-cd4a-40d4-c82f-944256efbfd2"
      },
      "source": [
        "u = np.arange(1, 16)\n",
        "u"
      ],
      "execution_count": 47,
      "outputs": [
        {
          "output_type": "execute_result",
          "data": {
            "text/plain": [
              "array([ 1,  2,  3,  4,  5,  6,  7,  8,  9, 10, 11, 12, 13, 14, 15])"
            ]
          },
          "metadata": {
            "tags": []
          },
          "execution_count": 47
        }
      ]
    },
    {
      "cell_type": "code",
      "metadata": {
        "id": "T2WG9gEnXXuf",
        "colab_type": "code",
        "colab": {
          "base_uri": "https://localhost:8080/",
          "height": 69
        },
        "outputId": "bc6a1c93-7846-4d67-b8b9-0eb272e70517"
      },
      "source": [
        "u.shape = (3, 5)\n",
        "u"
      ],
      "execution_count": 49,
      "outputs": [
        {
          "output_type": "execute_result",
          "data": {
            "text/plain": [
              "array([[ 1,  2,  3,  4,  5],\n",
              "       [ 6,  7,  8,  9, 10],\n",
              "       [11, 12, 13, 14, 15]])"
            ]
          },
          "metadata": {
            "tags": []
          },
          "execution_count": 49
        }
      ]
    },
    {
      "cell_type": "code",
      "metadata": {
        "id": "DaebTlxmXvEX",
        "colab_type": "code",
        "colab": {
          "base_uri": "https://localhost:8080/",
          "height": 35
        },
        "outputId": "4f76bcc9-774d-4e8a-f8b4-0ec09bd0780d"
      },
      "source": [
        "np.shape(u)"
      ],
      "execution_count": 50,
      "outputs": [
        {
          "output_type": "execute_result",
          "data": {
            "text/plain": [
              "(3, 5)"
            ]
          },
          "metadata": {
            "tags": []
          },
          "execution_count": 50
        }
      ]
    },
    {
      "cell_type": "markdown",
      "metadata": {
        "id": "RSwky4VeRYco",
        "colab_type": "text"
      },
      "source": [
        "Il est possible de réaliser un produit terme à terme grâce à l’opérateur *. Il faut dans ce cas que les deux tableaux aient la même taille."
      ]
    },
    {
      "cell_type": "code",
      "metadata": {
        "id": "hwaaWF0-RZ22",
        "colab_type": "code",
        "colab": {
          "base_uri": "https://localhost:8080/",
          "height": 52
        },
        "outputId": "0fb0142a-03df-4d11-f073-6dc35d860d9f"
      },
      "source": [
        "e = np.array([[1, 2, 3], [4, 5, 6]])\n",
        "f = np.array([[2, 1, 3],[3, 2, 1]])\n",
        "\n",
        "e*f"
      ],
      "execution_count": 29,
      "outputs": [
        {
          "output_type": "execute_result",
          "data": {
            "text/plain": [
              "array([[ 2,  2,  9],\n",
              "       [12, 10,  6]])"
            ]
          },
          "metadata": {
            "tags": []
          },
          "execution_count": 29
        }
      ]
    },
    {
      "cell_type": "markdown",
      "metadata": {
        "id": "GVh56abSRsEv",
        "colab_type": "text"
      },
      "source": [
        "Un tableau peut jouer le rôle d’une matrice si on lui applique une opération de calcul matriciel. Par exemple, la fonction numpy.dot() permet de réaliser le produit matriciel."
      ]
    },
    {
      "cell_type": "code",
      "metadata": {
        "id": "ZJkt7bJ1R-FQ",
        "colab_type": "code",
        "colab": {}
      },
      "source": [
        "g = np.array([[4],\n",
        "                  [2],\n",
        "                  [1]])"
      ],
      "execution_count": 31,
      "outputs": []
    },
    {
      "cell_type": "code",
      "metadata": {
        "id": "ddqxqsLQRuAJ",
        "colab_type": "code",
        "colab": {
          "base_uri": "https://localhost:8080/",
          "height": 52
        },
        "outputId": "cf398d02-c578-4128-ad27-2073a832daa8"
      },
      "source": [
        "np.dot(e,g)\n",
        "# Le produit d’une matrice de taille n x m par une matrice m x p donne une matrice n x p."
      ],
      "execution_count": 32,
      "outputs": [
        {
          "output_type": "execute_result",
          "data": {
            "text/plain": [
              "array([[11],\n",
              "       [32]])"
            ]
          },
          "metadata": {
            "tags": []
          },
          "execution_count": 32
        }
      ]
    },
    {
      "cell_type": "code",
      "metadata": {
        "id": "rmyvvX3_SckH",
        "colab_type": "code",
        "colab": {
          "base_uri": "https://localhost:8080/",
          "height": 69
        },
        "outputId": "7bb51411-62f7-4d63-d14e-90319f69c6b0"
      },
      "source": [
        "#matrice transposé\n",
        "e.T"
      ],
      "execution_count": 33,
      "outputs": [
        {
          "output_type": "execute_result",
          "data": {
            "text/plain": [
              "array([[1, 4],\n",
              "       [2, 5],\n",
              "       [3, 6]])"
            ]
          },
          "metadata": {
            "tags": []
          },
          "execution_count": 33
        }
      ]
    },
    {
      "cell_type": "markdown",
      "metadata": {
        "id": "1xBSjjbDJgZM",
        "colab_type": "text"
      },
      "source": [
        "1.2) Fonction arange()\n",
        "\n",
        "La fonction arange() de Numpy permet de générer une séquence de nombres séparés par un interval fixe, le tout stocké dans un tableau. La syntaxe est la suivante :\n",
        "\n",
        "```\n",
        "np.arange( start, stop, step, dtype )\n",
        "```\n"
      ]
    },
    {
      "cell_type": "code",
      "metadata": {
        "id": "4DMtnI-_Jl-J",
        "colab_type": "code",
        "colab": {
          "base_uri": "https://localhost:8080/",
          "height": 35
        },
        "outputId": "ab21483e-3bd9-4a09-904e-027d5a5342b5"
      },
      "source": [
        "m = np.arange(3, 15, 2)\n",
        "m"
      ],
      "execution_count": 8,
      "outputs": [
        {
          "output_type": "execute_result",
          "data": {
            "text/plain": [
              "array([ 3,  5,  7,  9, 11, 13])"
            ]
          },
          "metadata": {
            "tags": []
          },
          "execution_count": 8
        }
      ]
    },
    {
      "cell_type": "markdown",
      "metadata": {
        "id": "YYMbPynfJuf_",
        "colab_type": "text"
      },
      "source": [
        "Noter la différence entre numpy.arange() et range() :\n",
        "\n",
        "* numpy.arange() retourne un objet de type numpy.ndarray.\n",
        "\n",
        "* range() retourne un objet de type range."
      ]
    },
    {
      "cell_type": "code",
      "metadata": {
        "id": "Kd1nFCfUJ3EG",
        "colab_type": "code",
        "colab": {
          "base_uri": "https://localhost:8080/",
          "height": 69
        },
        "outputId": "4bffb702-e694-45a1-8948-d1ab1b66a665"
      },
      "source": [
        "# numpy.arange() accepte des arguments qui ne sont pas entiers\n",
        "np.arange(0, 11*np.pi, np.pi)"
      ],
      "execution_count": 9,
      "outputs": [
        {
          "output_type": "execute_result",
          "data": {
            "text/plain": [
              "array([ 0.        ,  3.14159265,  6.28318531,  9.42477796, 12.56637061,\n",
              "       15.70796327, 18.84955592, 21.99114858, 25.13274123, 28.27433388,\n",
              "       31.41592654])"
            ]
          },
          "metadata": {
            "tags": []
          },
          "execution_count": 9
        }
      ]
    },
    {
      "cell_type": "markdown",
      "metadata": {
        "id": "pOVaCNntRF5i",
        "colab_type": "text"
      },
      "source": [
        "1.3) Linspace"
      ]
    },
    {
      "cell_type": "markdown",
      "metadata": {
        "id": "SUSB5SOKKi1D",
        "colab_type": "text"
      },
      "source": [
        "Lorsque la fonction arange() est utilisée avec des arguments réels (floats), il est généralement difficile de prédire le nombre d'éléments obtenus. Souvent, dans ce cas, il est préferable d'utiliser la fonction linspace(), qui reçoit en argument le nombre n d'éléments souhaité plutôt que le pas, et retourne un array de n nombre de valeurs uniformément réparties entre deux bornes (incluses).\n"
      ]
    },
    {
      "cell_type": "code",
      "metadata": {
        "id": "zw8x_r8XKoLP",
        "colab_type": "code",
        "colab": {
          "base_uri": "https://localhost:8080/",
          "height": 35
        },
        "outputId": "2b8bb193-30f7-43bb-ee02-67d37fdef461"
      },
      "source": [
        "np.linspace( 0,2,9) # 9 valeurs entre 0 et 2"
      ],
      "execution_count": 10,
      "outputs": [
        {
          "output_type": "execute_result",
          "data": {
            "text/plain": [
              "array([0.  , 0.25, 0.5 , 0.75, 1.  , 1.25, 1.5 , 1.75, 2.  ])"
            ]
          },
          "metadata": {
            "tags": []
          },
          "execution_count": 10
        }
      ]
    },
    {
      "cell_type": "code",
      "metadata": {
        "id": "rscbI_gLK5mc",
        "colab_type": "code",
        "colab": {
          "base_uri": "https://localhost:8080/",
          "height": 52
        },
        "outputId": "a97c692e-6b91-4711-efc1-0bf7bdb924ec"
      },
      "source": [
        "np.linspace(3, 9, 10)"
      ],
      "execution_count": 11,
      "outputs": [
        {
          "output_type": "execute_result",
          "data": {
            "text/plain": [
              "array([3.        , 3.66666667, 4.33333333, 5.        , 5.66666667,\n",
              "       6.33333333, 7.        , 7.66666667, 8.33333333, 9.        ])"
            ]
          },
          "metadata": {
            "tags": []
          },
          "execution_count": 11
        }
      ]
    },
    {
      "cell_type": "markdown",
      "metadata": {
        "id": "PikSZKhtK_lU",
        "colab_type": "text"
      },
      "source": [
        "NumPy dispose d’un grand nombre de fonctions mathématiques qui peuvent être appliquées directement à un tableau. Dans ce cas, la fonction est appliquée à chacun des éléments du tableau."
      ]
    },
    {
      "cell_type": "code",
      "metadata": {
        "id": "ri2UesatLB32",
        "colab_type": "code",
        "colab": {
          "base_uri": "https://localhost:8080/",
          "height": 35
        },
        "outputId": "e6251a7c-95d5-4611-8c1a-d36ddf71a4be"
      },
      "source": [
        "x = np.linspace(-np.pi/2, np.pi/2, 3)\n",
        "x"
      ],
      "execution_count": 12,
      "outputs": [
        {
          "output_type": "execute_result",
          "data": {
            "text/plain": [
              "array([-1.57079633,  0.        ,  1.57079633])"
            ]
          },
          "metadata": {
            "tags": []
          },
          "execution_count": 12
        }
      ]
    },
    {
      "cell_type": "code",
      "metadata": {
        "id": "WYQDxtJfLGaB",
        "colab_type": "code",
        "colab": {
          "base_uri": "https://localhost:8080/",
          "height": 35
        },
        "outputId": "e8464fa6-dc00-4c73-ea1d-6db52e057cbb"
      },
      "source": [
        "y = np.sin(x)\n",
        "y"
      ],
      "execution_count": 13,
      "outputs": [
        {
          "output_type": "execute_result",
          "data": {
            "text/plain": [
              "array([-1.,  0.,  1.])"
            ]
          },
          "metadata": {
            "tags": []
          },
          "execution_count": 13
        }
      ]
    },
    {
      "cell_type": "markdown",
      "metadata": {
        "id": "Sidn20K0LPfo",
        "colab_type": "text"
      },
      "source": [
        "De nombreuses autres fonctions existent dans Numpy pour générer des arrays: Pour n'en citer que quelques-unes:"
      ]
    },
    {
      "cell_type": "code",
      "metadata": {
        "id": "RsiKp6JVL2_O",
        "colab_type": "code",
        "colab": {
          "base_uri": "https://localhost:8080/",
          "height": 35
        },
        "outputId": "442592b9-a970-4ea4-e64e-c53eed32adba"
      },
      "source": [
        "# np.ones((n,p)) crée un array de dimension n×pn×p rempli de 1\n",
        "np.ones(5)"
      ],
      "execution_count": 14,
      "outputs": [
        {
          "output_type": "execute_result",
          "data": {
            "text/plain": [
              "array([1., 1., 1., 1., 1.])"
            ]
          },
          "metadata": {
            "tags": []
          },
          "execution_count": 14
        }
      ]
    },
    {
      "cell_type": "code",
      "metadata": {
        "id": "kirZlPGTMJmp",
        "colab_type": "code",
        "colab": {
          "base_uri": "https://localhost:8080/",
          "height": 35
        },
        "outputId": "7877648a-50ae-4f0d-dcc4-c9ea3afe016d"
      },
      "source": [
        "# np.zeros((n,p,l)) crée un array de dimension n×p×ln×p×l rempli de 0.\n",
        "np.zeros(5)"
      ],
      "execution_count": 16,
      "outputs": [
        {
          "output_type": "execute_result",
          "data": {
            "text/plain": [
              "array([0., 0., 0., 0., 0.])"
            ]
          },
          "metadata": {
            "tags": []
          },
          "execution_count": 16
        }
      ]
    },
    {
      "cell_type": "code",
      "metadata": {
        "id": "AQJt8901MWgd",
        "colab_type": "code",
        "colab": {
          "base_uri": "https://localhost:8080/",
          "height": 69
        },
        "outputId": "6c559007-d317-44f9-deaf-4f4ccf9d6dce"
      },
      "source": [
        "# np.random.random((n,p)) crée un array avec des valeurs aléatoires.\n",
        "np.random.random_sample((3, 5))"
      ],
      "execution_count": 18,
      "outputs": [
        {
          "output_type": "execute_result",
          "data": {
            "text/plain": [
              "array([[0.4087476 , 0.07965095, 0.67170481, 0.10068686, 0.20331654],\n",
              "       [0.14582301, 0.9309324 , 0.26248557, 0.96097905, 0.92388795],\n",
              "       [0.92888908, 0.93666396, 0.86850479, 0.92870436, 0.59759376]])"
            ]
          },
          "metadata": {
            "tags": []
          },
          "execution_count": 18
        }
      ]
    },
    {
      "cell_type": "code",
      "metadata": {
        "id": "4Zk_wrkPMWyn",
        "colab_type": "code",
        "colab": {
          "base_uri": "https://localhost:8080/",
          "height": 69
        },
        "outputId": "38abb7cc-4101-41d8-cfbf-321625ef2f01"
      },
      "source": [
        "# np.eye(n) crée un array de la forme d'une matrice identité de dimension n×nn×n, c'est à dire un tableau où toutes \n",
        "# les valeurs sont nulles sauf sur la diagonale, où elles valent 1.\n",
        "\n",
        "np.eye(3)"
      ],
      "execution_count": 34,
      "outputs": [
        {
          "output_type": "execute_result",
          "data": {
            "text/plain": [
              "array([[1., 0., 0.],\n",
              "       [0., 1., 0.],\n",
              "       [0., 0., 1.]])"
            ]
          },
          "metadata": {
            "tags": []
          },
          "execution_count": 34
        }
      ]
    },
    {
      "cell_type": "code",
      "metadata": {
        "id": "43eXVfn-MWPs",
        "colab_type": "code",
        "colab": {}
      },
      "source": [
        "# np.diag(a, i) crée un array à partir d'une séquence a (liste, tuple, array unidimensionnel...) en place a sur la i-ème diagonale de la matrice \n",
        "# (0 étant la diagonale principale, -1 celle en dessous, 1 celle au-dessus etc..)"
      ],
      "execution_count": null,
      "outputs": []
    },
    {
      "cell_type": "code",
      "metadata": {
        "id": "kX8eb6htTi6d",
        "colab_type": "code",
        "colab": {
          "base_uri": "https://localhost:8080/",
          "height": 69
        },
        "outputId": "4e7cb437-8d76-45a5-e405-54aad743ec23"
      },
      "source": [
        "x = np.arange(9).reshape((3,3))\n",
        "x"
      ],
      "execution_count": 35,
      "outputs": [
        {
          "output_type": "execute_result",
          "data": {
            "text/plain": [
              "array([[0, 1, 2],\n",
              "       [3, 4, 5],\n",
              "       [6, 7, 8]])"
            ]
          },
          "metadata": {
            "tags": []
          },
          "execution_count": 35
        }
      ]
    },
    {
      "cell_type": "code",
      "metadata": {
        "id": "DiE_p1nBTlUV",
        "colab_type": "code",
        "colab": {
          "base_uri": "https://localhost:8080/",
          "height": 35
        },
        "outputId": "09068aad-24e3-4c6d-e949-0571be65a341"
      },
      "source": [
        "np.diag(x)"
      ],
      "execution_count": 36,
      "outputs": [
        {
          "output_type": "execute_result",
          "data": {
            "text/plain": [
              "array([0, 4, 8])"
            ]
          },
          "metadata": {
            "tags": []
          },
          "execution_count": 36
        }
      ]
    },
    {
      "cell_type": "markdown",
      "metadata": {
        "id": "kDaY5VGOTX8Q",
        "colab_type": "text"
      },
      "source": [
        "## 2) Tableaux et slicing\n",
        "\n",
        "Lors de la manipulation des tableaux, on a souvent besoin de récupérer une partie d’un tableau. Pour cela, Python permet d’extraire des tranches d’un tableau grâce une technique appelée slicing (tranchage, en français). Elle consiste à indiquer entre crochets des indices pour définir le début et la fin de la tranche et à les séparer par deux-points :"
      ]
    },
    {
      "cell_type": "code",
      "metadata": {
        "id": "EZCtrEqmTzGI",
        "colab_type": "code",
        "colab": {
          "base_uri": "https://localhost:8080/",
          "height": 35
        },
        "outputId": "75cc82a1-b1fe-41a2-b362-1fc9dab2048b"
      },
      "source": [
        "a = np.array([12, 25, 34, 56, 87])\n",
        "a[1:3]"
      ],
      "execution_count": 37,
      "outputs": [
        {
          "output_type": "execute_result",
          "data": {
            "text/plain": [
              "array([25, 34])"
            ]
          },
          "metadata": {
            "tags": []
          },
          "execution_count": 37
        }
      ]
    },
    {
      "cell_type": "markdown",
      "metadata": {
        "id": "ZPFrKeQvT7KC",
        "colab_type": "text"
      },
      "source": [
        "Dans la tranche [n:m], l’élément d’indice n est inclus, mais pas celui d’indice m. Un moyen pour mémoriser ce mécanisme consiste à considérer que les limites de la tranche sont définies par les numéros des positions situées entre les éléments, comme dans le schéma ci-dessous :\n",
        "\n",
        "![array_slicing.png](data:image/png;base64,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)"
      ]
    },
    {
      "cell_type": "code",
      "metadata": {
        "id": "Gcd-AH6EUF5B",
        "colab_type": "code",
        "colab": {
          "base_uri": "https://localhost:8080/",
          "height": 35
        },
        "outputId": "d9f6b76f-4849-4333-e01c-e723b32dc81c"
      },
      "source": [
        "a= np.array([[1 ,2,3],[4,5,6]])\n",
        "np.shape(a)# permet d’avoir la dimension de l’array, ici (2,3)"
      ],
      "execution_count": 38,
      "outputs": [
        {
          "output_type": "execute_result",
          "data": {
            "text/plain": [
              "(2, 3)"
            ]
          },
          "metadata": {
            "tags": []
          },
          "execution_count": 38
        }
      ]
    },
    {
      "cell_type": "markdown",
      "metadata": {
        "id": "Vy5ypYdjUeK0",
        "colab_type": "text"
      },
      "source": [
        "* a[0,1] : donne l'élément sur la ligne 0 et la colonne 1, donc ici 2.\n",
        "* a[0][1] : marche aussi, mais est moins efficace car crée d'abord la sous array a[0] !\n",
        "*\ta[-1,-1] : dernier élément, donc ici 6.\n",
        "*\ta[0] : première ligne, donc ici array([1, 2, 3]).\n",
        "*\ta[:,0] : première colonne, donc ici array([1, 4]).   \n",
        "*\tpour changer toutes les valeurs d'une array (qui peut être 2d) : a[:] = 2\n",
        "* compter le nombre d'éléments d'une array satisfaisant une condition : (a > 2).sum()\n"
      ]
    },
    {
      "cell_type": "markdown",
      "metadata": {
        "id": "jJiEtcUzVZHM",
        "colab_type": "text"
      },
      "source": [
        "## 3) Statistiques avec Numpy"
      ]
    },
    {
      "cell_type": "code",
      "metadata": {
        "id": "nuxpX6HTWGXI",
        "colab_type": "code",
        "colab": {
          "base_uri": "https://localhost:8080/",
          "height": 52
        },
        "outputId": "3426892a-3a86-4fe4-ae12-284afc618dfe"
      },
      "source": [
        "a= np.array([[1 ,2,3],[4,5,6]])\n",
        "a"
      ],
      "execution_count": 40,
      "outputs": [
        {
          "output_type": "execute_result",
          "data": {
            "text/plain": [
              "array([[1, 2, 3],\n",
              "       [4, 5, 6]])"
            ]
          },
          "metadata": {
            "tags": []
          },
          "execution_count": 40
        }
      ]
    },
    {
      "cell_type": "markdown",
      "metadata": {
        "id": "Wvbx6mTBVlQS",
        "colab_type": "text"
      },
      "source": [
        "3.1) Minimum et maximum\n",
        "* np.amin(a) ou np.min(a) ou aussi a.min() : renvoie la valeur minimum de l'array (sur toute l'array si à plusieurs dimensions).\n",
        "* np.amin(a, 0) : la ligne des minima par colonne, donc renvoie array([1, 2, 3]).\n",
        "* np.amin(a, 1) : la ligne des minima par ligne, donc renvoie array([1, 4]).\n",
        "* np.amax : pareil pour le maximum.\n",
        "* nanmin et nanmax : pareil en ignorant les valeurs non définies.\n"
      ]
    },
    {
      "cell_type": "markdown",
      "metadata": {
        "id": "E8_h4j1vV8CG",
        "colab_type": "text"
      },
      "source": [
        "3.2) Valeurs statistiques de base : \n",
        "\n",
        "* a.mean() : renvoie la moyenne sur toute l'array.\n",
        "* np.mean(a, 0) : la ligne des moyennes, c'est à dire array([ 2.5, 3.5, 4.5]).\n",
        "* np.median(a, 0) : la ligne des médianes, c'est à dire aussi ici array([ 2.5, 3.5, 4.5]) (cas particulier).\n",
        "* np.std(a, 0) : la ligne des déviations standard par colonne au sens mathématique, c'est à dire divisé par racine de n, ici array([ 1.5, 1.5, 1.5]).\n",
        "* np.std(a, 0, ddof = 1) : la ligne des déviations standard par colonne au sens statistique, c'est à dire divisé par racine de n - 1 (ddof : degrés of freedom), ici array([ 2.12132034, 2.12132034, 2.12132034]).\n",
        "* np.var(a, 0) : la lignes des variances par colonne, donc ici : array([ 1.5, 1.5, 1.5]).\n",
        "* np.percentile(a, 10) : valeur du premier décile.\n"
      ]
    }
  ]
}