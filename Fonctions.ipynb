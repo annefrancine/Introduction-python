{
  "nbformat": 4,
  "nbformat_minor": 0,
  "metadata": {
    "colab": {
      "name": "Fonctions.ipynb",
      "provenance": [],
      "collapsed_sections": [],
      "authorship_tag": "ABX9TyMEKna938zE72shuBa8EEgw",
      "include_colab_link": true
    },
    "kernelspec": {
      "name": "python3",
      "display_name": "Python 3"
    }
  },
  "cells": [
    {
      "cell_type": "markdown",
      "metadata": {
        "id": "view-in-github",
        "colab_type": "text"
      },
      "source": [
        "<a href=\"https://colab.research.google.com/github/annefrancine/Introduction-python/blob/master/Fonctions.ipynb\" target=\"_parent\"><img src=\"https://colab.research.google.com/assets/colab-badge.svg\" alt=\"Open In Colab\"/></a>"
      ]
    },
    {
      "cell_type": "markdown",
      "metadata": {
        "id": "-7pphcXHDLnE",
        "colab_type": "text"
      },
      "source": [
        "Comme en mathématiques les fonctions ou sous-programmes permettent de rassembler une suite d'instructions en un objet réutilisable, ce qui permet de ne pas recopier plusieurs fois le même code dans un programme.Une fonction est déclarée à l’aide du mot clé keyword. Ce qu’elle renvoie est retourné à l’aide du mot clé return.\n",
        "\n",
        "La syntaxe est la suivante :\n"
      ]
    },
    {
      "cell_type": "code",
      "metadata": {
        "id": "iWiTRJSxE1T9",
        "colab_type": "code",
        "colab": {}
      },
      "source": [
        "def nom_fonction(liste de paramètres):\n",
        "      bloc d'instructions"
      ],
      "execution_count": null,
      "outputs": []
    },
    {
      "cell_type": "markdown",
      "metadata": {
        "id": "pcerJN7BDgio",
        "colab_type": "text"
      },
      "source": [
        "Les fonctions Python n'ont pas de begin ou end explicites, ni d'accolades qui pourraient marquer là ou commence et ou se termine le code de la fonction. Le seul délimiteur est les deux points («:») et l'indentation du code lui-même\n",
        "\n",
        "Les blocs de code (fonctions, instructions if, boucles for ou while etc.) sont définis par leur indentation. L'indentation démarre le bloc et la désindendation le termine. Il n'y a pas d'accolades, de crochets ou de mots clés spécifiques. Cela signifie que les espaces blancs sont significatifs et qu'ils doivent être cohérents. Dans cet exemple, le code de la fonction (y compris sa doc string) sont indentés de 4 espaces. Cela ne doit pas être forcément 4 espaces, mais il faut que ce soit cohérent. La première ligne non indentée est en dehors de la fonction."
      ]
    },
    {
      "cell_type": "code",
      "metadata": {
        "id": "sgJSClyEDuzX",
        "colab_type": "code",
        "colab": {}
      },
      "source": [
        "def indique_mon_age():\n",
        "  return 30"
      ],
      "execution_count": 4,
      "outputs": []
    },
    {
      "cell_type": "code",
      "metadata": {
        "id": "1EHnk7mxEDrR",
        "colab_type": "code",
        "colab": {
          "base_uri": "https://localhost:8080/",
          "height": 35
        },
        "outputId": "796f0049-e1eb-45c3-bfdb-92948ba04edf"
      },
      "source": [
        "indique_mon_age()"
      ],
      "execution_count": 5,
      "outputs": [
        {
          "output_type": "execute_result",
          "data": {
            "text/plain": [
              "30"
            ]
          },
          "metadata": {
            "tags": []
          },
          "execution_count": 5
        }
      ]
    },
    {
      "cell_type": "code",
      "metadata": {
        "id": "1gaaQzw-Fjp8",
        "colab_type": "code",
        "colab": {}
      },
      "source": [
        "def compteur3():\n",
        "    i = 0\n",
        "    while i < 3:\n",
        "        print(i)\n",
        "        i = i + 1"
      ],
      "execution_count": 10,
      "outputs": []
    },
    {
      "cell_type": "code",
      "metadata": {
        "id": "lEfT8toRFlQ3",
        "colab_type": "code",
        "colab": {
          "base_uri": "https://localhost:8080/",
          "height": 139
        },
        "outputId": "c4598ffa-da15-4b2c-ee54-559bd2dd5cc7"
      },
      "source": [
        "print(\"bonjour\")\n",
        "compteur3()\n",
        "compteur3()"
      ],
      "execution_count": 11,
      "outputs": [
        {
          "output_type": "stream",
          "text": [
            "bonjour\n",
            "0\n",
            "1\n",
            "2\n",
            "0\n",
            "1\n",
            "2\n"
          ],
          "name": "stdout"
        }
      ]
    },
    {
      "cell_type": "code",
      "metadata": {
        "id": "rLrz_9w0F06j",
        "colab_type": "code",
        "colab": {
          "base_uri": "https://localhost:8080/",
          "height": 139
        },
        "outputId": "d50ba0d2-ad0d-4679-b367-01945e109323"
      },
      "source": [
        "# Exemple de fonction qui appelle une autre fonction\n",
        "\n",
        "def compteur3():\n",
        "    i = 0\n",
        "    while i < 3:\n",
        "        print(i)\n",
        "        i = i + 1\n",
        "\n",
        "def double_compteur3():\n",
        "    compteur3()\n",
        "    compteur3()\n",
        "\n",
        "print(\"bonjour\")\n",
        "double_compteur3()"
      ],
      "execution_count": 12,
      "outputs": [
        {
          "output_type": "stream",
          "text": [
            "bonjour\n",
            "0\n",
            "1\n",
            "2\n",
            "0\n",
            "1\n",
            "2\n"
          ],
          "name": "stdout"
        }
      ]
    }
  ]
}