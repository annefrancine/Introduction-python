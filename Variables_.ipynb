{
  "nbformat": 4,
  "nbformat_minor": 0,
  "metadata": {
    "colab": {
      "name": "Variables .ipynb",
      "provenance": [],
      "collapsed_sections": [],
      "authorship_tag": "ABX9TyPu+TIlFD4ISlIleQmQCb3t",
      "include_colab_link": true
    },
    "kernelspec": {
      "name": "python3",
      "display_name": "Python 3"
    }
  },
  "cells": [
    {
      "cell_type": "markdown",
      "metadata": {
        "id": "view-in-github",
        "colab_type": "text"
      },
      "source": [
        "<a href=\"https://colab.research.google.com/github/annefrancine/Introduction-python/blob/master/Variables_.ipynb\" target=\"_parent\"><img src=\"https://colab.research.google.com/assets/colab-badge.svg\" alt=\"Open In Colab\"/></a>"
      ]
    },
    {
      "cell_type": "markdown",
      "metadata": {
        "id": "Qln3njF0YdkZ",
        "colab_type": "text"
      },
      "source": [
        "## Variables et listes \n",
        "\n",
        "\n"
      ]
    },
    {
      "cell_type": "code",
      "metadata": {
        "id": "P6u8ojrlYQ66",
        "colab_type": "code",
        "colab": {
          "base_uri": "https://localhost:8080/",
          "height": 34
        },
        "outputId": "2d0fde40-b68b-4f55-e7e9-3e48f0d5d617"
      },
      "source": [
        "# version python\n",
        "from platform import python_version\n",
        "print('Version python:', python_version())"
      ],
      "execution_count": 50,
      "outputs": [
        {
          "output_type": "stream",
          "text": [
            "Version python: 3.6.9\n"
          ],
          "name": "stdout"
        }
      ]
    },
    {
      "cell_type": "markdown",
      "metadata": {
        "id": "ubCqAXhHZilh",
        "colab_type": "text"
      },
      "source": [
        "Variables\n",
        "\n",
        "Une variable est une zone de mémoire de l'ordinateur dans lequel une valeur est stockée \n",
        "\n",
        "*   ne doit pas commencer par un chiffre \n",
        "*   ne doit pas contenir d'espace\n",
        "*   ne doit pas contenir des caractères spéciaux \n",
        "\n",
        "\n",
        "\n",
        "\n"
      ]
    },
    {
      "cell_type": "code",
      "metadata": {
        "id": "jvLd8_NnZDT_",
        "colab_type": "code",
        "colab": {}
      },
      "source": [
        "ma_variable_1 = \"hello world\"\n",
        "ma_variable_2 = 2\n",
        "ma_variable_3 = 2.5"
      ],
      "execution_count": 51,
      "outputs": []
    },
    {
      "cell_type": "code",
      "metadata": {
        "id": "5JzDa-vCa-Rp",
        "colab_type": "code",
        "colab": {
          "base_uri": "https://localhost:8080/",
          "height": 35
        },
        "outputId": "59459e0a-3817-45a7-85a4-836ec57a1ce3"
      },
      "source": [
        "ma_variable_1"
      ],
      "execution_count": 52,
      "outputs": [
        {
          "output_type": "execute_result",
          "data": {
            "application/vnd.google.colaboratory.intrinsic": {
              "type": "string"
            },
            "text/plain": [
              "'hello world'"
            ]
          },
          "metadata": {
            "tags": []
          },
          "execution_count": 52
        }
      ]
    },
    {
      "cell_type": "code",
      "metadata": {
        "id": "R_NO662MdReY",
        "colab_type": "code",
        "colab": {
          "base_uri": "https://localhost:8080/",
          "height": 129
        },
        "outputId": "4ebcbad1-2c5f-455a-b9c0-4652e96c9ade"
      },
      "source": [
        "1x=50"
      ],
      "execution_count": 53,
      "outputs": [
        {
          "output_type": "error",
          "ename": "SyntaxError",
          "evalue": "ignored",
          "traceback": [
            "\u001b[0;36m  File \u001b[0;32m\"<ipython-input-53-ea2c1bcb5ed7>\"\u001b[0;36m, line \u001b[0;32m1\u001b[0m\n\u001b[0;31m    1x=50\u001b[0m\n\u001b[0m     ^\u001b[0m\n\u001b[0;31mSyntaxError\u001b[0m\u001b[0;31m:\u001b[0m invalid syntax\n"
          ]
        }
      ]
    },
    {
      "cell_type": "code",
      "metadata": {
        "id": "t_pyJkonbSeC",
        "colab_type": "code",
        "colab": {
          "base_uri": "https://localhost:8080/",
          "height": 34
        },
        "outputId": "4da7c46e-8f16-4517-fde8-61faf4a9333b"
      },
      "source": [
        "# la fonction print affiche l'argument \n",
        "print(ma_variable_1)"
      ],
      "execution_count": 54,
      "outputs": [
        {
          "output_type": "stream",
          "text": [
            "hello world\n"
          ],
          "name": "stdout"
        }
      ]
    },
    {
      "cell_type": "markdown",
      "metadata": {
        "id": "CFJSoHdkkbiZ",
        "colab_type": "text"
      },
      "source": [
        "Python est un langage que l'on appelle non typé. L'interpréteur devine le type de la variable en regardant sa valeur : c'est ce que l'on appelle le duck typing. Cela permet de donner beaucoup de flexibilité au langage. Cela évite également d'imposer la déclaration du type au moment de la création de la variable, lorsque souvent, il sera transparent dans son utilisation.\n",
        "\n",
        "La fonction type permet d'obtenir la classe de l'objet considéré. Les variables construites dans la question précédente ont pour classe des types de bases, que nous allons explorer par la suite.\n",
        "\n",
        "Utiliser les fonctions type et print pour afficher les types des différentes variables définies à l'étape précédente"
      ]
    },
    {
      "cell_type": "code",
      "metadata": {
        "id": "0VNDu8Shkehp",
        "colab_type": "code",
        "colab": {
          "base_uri": "https://localhost:8080/",
          "height": 34
        },
        "outputId": "ec5cd4f8-eac4-419e-faf7-c7fb72982f8f"
      },
      "source": [
        "print(type(ma_variable_1))"
      ],
      "execution_count": 55,
      "outputs": [
        {
          "output_type": "stream",
          "text": [
            "<class 'str'>\n"
          ],
          "name": "stdout"
        }
      ]
    },
    {
      "cell_type": "code",
      "metadata": {
        "id": "rmHqIJCTkngT",
        "colab_type": "code",
        "colab": {
          "base_uri": "https://localhost:8080/",
          "height": 34
        },
        "outputId": "26db3ea5-7ec9-4769-8361-f5570eea5e7c"
      },
      "source": [
        "print(type(ma_variable_2))"
      ],
      "execution_count": 56,
      "outputs": [
        {
          "output_type": "stream",
          "text": [
            "<class 'int'>\n"
          ],
          "name": "stdout"
        }
      ]
    },
    {
      "cell_type": "code",
      "metadata": {
        "id": "LJV3J8hGknTL",
        "colab_type": "code",
        "colab": {
          "base_uri": "https://localhost:8080/",
          "height": 34
        },
        "outputId": "86ffc626-aaa8-4443-de8e-9e65351098a7"
      },
      "source": [
        "print(type(ma_variable_3))"
      ],
      "execution_count": 57,
      "outputs": [
        {
          "output_type": "stream",
          "text": [
            "<class 'float'>\n"
          ],
          "name": "stdout"
        }
      ]
    },
    {
      "cell_type": "code",
      "metadata": {
        "id": "alHo-_YQaiQp",
        "colab_type": "code",
        "colab": {
          "base_uri": "https://localhost:8080/",
          "height": 34
        },
        "outputId": "39f18088-36fd-4407-e999-0c39a2bf6e50"
      },
      "source": [
        "type(ma_variable_2)"
      ],
      "execution_count": 58,
      "outputs": [
        {
          "output_type": "execute_result",
          "data": {
            "text/plain": [
              "int"
            ]
          },
          "metadata": {
            "tags": []
          },
          "execution_count": 58
        }
      ]
    },
    {
      "cell_type": "code",
      "metadata": {
        "id": "-GqZPuB7mAaT",
        "colab_type": "code",
        "colab": {
          "base_uri": "https://localhost:8080/",
          "height": 34
        },
        "outputId": "25ef87af-bf5c-4a1d-8300-58332297cc79"
      },
      "source": [
        "type(x)"
      ],
      "execution_count": 59,
      "outputs": [
        {
          "output_type": "execute_result",
          "data": {
            "text/plain": [
              "list"
            ]
          },
          "metadata": {
            "tags": []
          },
          "execution_count": 59
        }
      ]
    },
    {
      "cell_type": "markdown",
      "metadata": {
        "id": "J9qcdzz4cfpI",
        "colab_type": "text"
      },
      "source": [
        "# Déclaration multiple"
      ]
    },
    {
      "cell_type": "code",
      "metadata": {
        "id": "gjij9iQQce1N",
        "colab_type": "code",
        "colab": {}
      },
      "source": [
        "person1, person2, person3 = \"Anne\", \"Jean\", \"Chloe\""
      ],
      "execution_count": 60,
      "outputs": []
    },
    {
      "cell_type": "code",
      "metadata": {
        "id": "SsATmOxCcwFI",
        "colab_type": "code",
        "colab": {
          "base_uri": "https://localhost:8080/",
          "height": 35
        },
        "outputId": "06167c34-44b3-4e34-a798-b36dde7d3442"
      },
      "source": [
        "person1"
      ],
      "execution_count": 61,
      "outputs": [
        {
          "output_type": "execute_result",
          "data": {
            "application/vnd.google.colaboratory.intrinsic": {
              "type": "string"
            },
            "text/plain": [
              "'Anne'"
            ]
          },
          "metadata": {
            "tags": []
          },
          "execution_count": 61
        }
      ]
    },
    {
      "cell_type": "code",
      "metadata": {
        "id": "OMUZ_uNTcxfg",
        "colab_type": "code",
        "colab": {
          "base_uri": "https://localhost:8080/",
          "height": 35
        },
        "outputId": "4b2cbe8d-149a-47ec-d638-268a9683117b"
      },
      "source": [
        "person2"
      ],
      "execution_count": 62,
      "outputs": [
        {
          "output_type": "execute_result",
          "data": {
            "application/vnd.google.colaboratory.intrinsic": {
              "type": "string"
            },
            "text/plain": [
              "'Jean'"
            ]
          },
          "metadata": {
            "tags": []
          },
          "execution_count": 62
        }
      ]
    },
    {
      "cell_type": "code",
      "metadata": {
        "id": "UnBb-Dvkcy3Q",
        "colab_type": "code",
        "colab": {
          "base_uri": "https://localhost:8080/",
          "height": 35
        },
        "outputId": "3e1cba71-92fd-4be0-85f5-76cfea97f9ca"
      },
      "source": [
        "person3"
      ],
      "execution_count": 63,
      "outputs": [
        {
          "output_type": "execute_result",
          "data": {
            "application/vnd.google.colaboratory.intrinsic": {
              "type": "string"
            },
            "text/plain": [
              "'Chloe'"
            ]
          },
          "metadata": {
            "tags": []
          },
          "execution_count": 63
        }
      ]
    },
    {
      "cell_type": "code",
      "metadata": {
        "id": "ZTfTEyx2c7Z3",
        "colab_type": "code",
        "colab": {}
      },
      "source": [
        "fruit1 = fruit2 = fruit3 = \"Orange\""
      ],
      "execution_count": 64,
      "outputs": []
    },
    {
      "cell_type": "code",
      "metadata": {
        "id": "gPNeCB6SdA-T",
        "colab_type": "code",
        "colab": {
          "base_uri": "https://localhost:8080/",
          "height": 35
        },
        "outputId": "4b88a3b6-ef99-4a90-f165-b29e6fb0964e"
      },
      "source": [
        "fruit1"
      ],
      "execution_count": 65,
      "outputs": [
        {
          "output_type": "execute_result",
          "data": {
            "application/vnd.google.colaboratory.intrinsic": {
              "type": "string"
            },
            "text/plain": [
              "'Orange'"
            ]
          },
          "metadata": {
            "tags": []
          },
          "execution_count": 65
        }
      ]
    },
    {
      "cell_type": "code",
      "metadata": {
        "id": "HFfzLDvSdCda",
        "colab_type": "code",
        "colab": {
          "base_uri": "https://localhost:8080/",
          "height": 35
        },
        "outputId": "e836015d-6d73-430b-8ea9-75e6230cb1b9"
      },
      "source": [
        "fruit2"
      ],
      "execution_count": 66,
      "outputs": [
        {
          "output_type": "execute_result",
          "data": {
            "application/vnd.google.colaboratory.intrinsic": {
              "type": "string"
            },
            "text/plain": [
              "'Orange'"
            ]
          },
          "metadata": {
            "tags": []
          },
          "execution_count": 66
        }
      ]
    },
    {
      "cell_type": "code",
      "metadata": {
        "id": "lliUtVxddDz4",
        "colab_type": "code",
        "colab": {
          "base_uri": "https://localhost:8080/",
          "height": 35
        },
        "outputId": "87a0e1eb-9c0c-4a21-e5ea-1f64e7aa41c4"
      },
      "source": [
        "fruit3"
      ],
      "execution_count": 67,
      "outputs": [
        {
          "output_type": "execute_result",
          "data": {
            "application/vnd.google.colaboratory.intrinsic": {
              "type": "string"
            },
            "text/plain": [
              "'Orange'"
            ]
          },
          "metadata": {
            "tags": []
          },
          "execution_count": 67
        }
      ]
    },
    {
      "cell_type": "code",
      "metadata": {
        "id": "QxiqQDxxdJWq",
        "colab_type": "code",
        "colab": {
          "base_uri": "https://localhost:8080/",
          "height": 163
        },
        "outputId": "67069345-f7df-48a2-dbeb-620a132b5c49"
      },
      "source": [
        "Fruit2"
      ],
      "execution_count": 68,
      "outputs": [
        {
          "output_type": "error",
          "ename": "NameError",
          "evalue": "ignored",
          "traceback": [
            "\u001b[0;31m---------------------------------------------------------------------------\u001b[0m",
            "\u001b[0;31mNameError\u001b[0m                                 Traceback (most recent call last)",
            "\u001b[0;32m<ipython-input-68-e62c125db734>\u001b[0m in \u001b[0;36m<module>\u001b[0;34m()\u001b[0m\n\u001b[0;32m----> 1\u001b[0;31m \u001b[0mFruit2\u001b[0m\u001b[0;34m\u001b[0m\u001b[0;34m\u001b[0m\u001b[0m\n\u001b[0m",
            "\u001b[0;31mNameError\u001b[0m: name 'Fruit2' is not defined"
          ]
        }
      ]
    },
    {
      "cell_type": "markdown",
      "metadata": {
        "id": "uMYMSZFpdbkP",
        "colab_type": "text"
      },
      "source": [
        "Les mots réservés ne peuvent pas etre utilisé comme nom de variable\n",
        "\n",
        "![image.png](data:image/png;base64,iVBORw0KGgoAAAANSUhEUgAAAUUAAACbCAYAAAD1N4m2AAAgAElEQVR4Ae3dr68sW5UH8Ofx17wEg+IPQBEcBolBozAYDBaJwiEwIwgCg5mQEAQZkudIUCAQLyMeGcEQxEsIyWTGnMnnHL43i32rdldXV1dXd++V1K2q/XOt71rrW7uqq8796B9///yl3f72lz+/jG1gMGJgxMAzxAD+q/LRJ7/62Uu7/eF3v/mAKFviHOcfXkwGJgOTEQP3FwOI/7NP//jyf//7P6/cOEuKlTnH8UBgIDAQeGQEECJiJIMUH9nTw7aBwEBgMQJ5VDBIcTFko+FAYCDwyAh49IEYByk+speHbQOBgcBiBNxC//d//ecgxcWIjYYDgYHAQyMwSPGh3TuMGwgMBM5FYJDiuYiN9gOBgcBDIzBI8aHdO4wbCAwEzkVgkOK5iI32A4GBwEMjMEjxod07jBsIDATORWCQ4rmIjfYDgYHAQyMwSPGh3TuMGwgMBM5FYJDiuYiN9gOBgcBDI7A5KX7++ecvYxsYjBgYMXDrGEBua2RTUvzTn/708s1vfvPlJz/5ycuPf/zjsQ0MRgyMGLhJDOCg73//+2s48fVPh232md9nn3328otf/GKVIqPTQGAgMBDYEoHvfe97q4bbdKWIFH/+85+vUuQROwHXivmHP/zh6za1nHeLkfof/ehHh4DBip9etxDzfvrpp7eY+v2c/MQX/GKfY+e//vWv37dbcxB//+AHP3j561//umaI0WchAoMUFwJ1i2bf/va3X77whS+8EmQ7P9L8+OOPX8514Npbg3b+9pw+H3300cvvf//7turq5y6q7969e/nWt7519bmWTOBREL9FkNiXv/zls27LEDxMq3zyySevGN+a/KtOj3h8bk4Fg7FSDBJX3FsV2L761a/+ywosqwakeQ7JISx9thb6WBVZKd5CfvnLX77Y6HEEQc4uWFUkmovGUh0RoudbVfgP2boIDLkeAoMUr4ftxSPnVkkySfqIRw0SQ/K1pChx3K5JKPus3Oy/9KUvva5YlFt1EKuOn/70p6+PLwRD2meu7JV/4xvfeCU/unznO995n+C//e1v389p3tzum8PYtu9+97vvk9lYbJP4yDREYX42GU9781hlObb6yi0o+53TXV/j2Kq9+sUu5b3HMxkjt7zBxv4rX/nKq46xkd7RN9i0ezZ88Ytf/JdiZS5usGG/c1suJHRkp7HpwedsdBwS1M+K2PN3tvFBdDUZPLSP71NnThdD85svfY035EMEBil+iMlhShCegJaIbr+Ic0EveSRVJUXJI5lyeyWRJZG2+kk8iebYRpwnOSRREum1svyjvWCRWMY3LuLR16ooyU2f6IeEtSHK6Kcdwsickph9hL70l/TaxzZ9lKcPckRydEIM6W98JGZO/W1EOSKYkoyRRDBXxlCHqJwrNy6bTv0oyC/0NWfsUBa/0MMY2gQfvjEHoe/Xvva1V6Kng42wX5/YxW7tUs8P0c0Y2mbMiq2x4O4iN+RDBBILH9b0S/hh01+fe1fyviqPW4sUEJpkEuCSIhsHtKQosbRLkkgMBBRsrab0qSLB9JH4js03J5KwDRhjImyrOomnjVWJceyN/fWvf/1fVnnK0j7JSWe2IVv7VowV3eGiPVzcTprT3Ajd2MHIMRJTH/Jpx1WuXcagFyyMR5QjXsImJDRHsK+NXl5e9TSmsW3xR+ozVjBXz3eRzBPySzm7jBuiU48I9XehUBfiVUbX+Euf6GQ8MaF+yIcIBLMPa/olMB+k2Mfo4tqQooGsWGxJHg5oSRHBCHx1BClKmpCi+hBLVoSSViJJMKvAjD+lPILI6i316WccyZyNDsokcsjaMdKhE93S1p6oR+JJ+sxhT1/9jGUMUu0zX8bL3OZnu9Xw3KpIG5ghujpGdGJvJUUYLSXFqv/UsXEQI5uqzeZGWCFFuBB7uqatenjROyvBSop0jb/SN3bBxcVqyIcIDFL8EJPDlFRSTFBnBUPJlhQlhKRJYmTllESQREkEBEskDnIhkq0XEFOkmDmTuOYyD7KpKxGJT3flVoN5PiihkXXmV5ekfy0s/xivkr4q+oa0nEt29sAuWNEJ+cyJMaxEI8YIhpUU6Woc9T3hF3qeEuNph7SrKEfiVuHwquRY/ascXtpnrNw+h+zjF5jqm1hgQ/VPnf/Zj3s50MOGD8ZKsYfQBXXARSISkoMEOJEE6gR26rVBVhHB7xzR2Ifw1OunzJakl3ja2tuSNBkvewRLF/O1KyVzGJNOxqo6OrdJQuWEPdpmy5zGiM0py/z2dAiZ1nL6ZH5tCHIwPpvsY2/tV4/rGCFTezbbjKtN9Ku4Zhz2xYb4Zapd2ttrH+Kq5blAVTwztr1xo0v8EVz1qePCMm3hYb6cnyL4qtOzHPP3GuH/QYprkBt9nh4BpBQiQ165WDw9MAcBYJDiQRwx1HgeBKw63WJb0Z1aST4PKsexdJDicXwxNHkiBNzqTj0ieCIIDmvqIMXDumYoNhAYCNwCgcOQoh8RPAz3gPnet0ex4xI/PAsG7HwWW+fi4ZEwYIvHGmtk0x9aKOIVEb8segftnjc2eNXhEWxZ64dnwiC/9D6rv9ltZWVRszZejtQv9tycFD1szvtVa5Q5Wh+vOzy7PAsGfknOa0DP6nOk9kg/GB3m9vmR3pdaC+ojJdWzYIAU817jI/nvHFssaNztPYqsjd1Nb59dZeZIEeC+rfUKg82b/vXrgylHGE8bt7F5H2yq3bXK1oAKUC8ZL7HvWnpvOe4SDPjGFzba1nf1+G9J/1P6Iixfi4gDxxFzeT8Q1vmyJ3Xn7peQohh+pDuhFqNrkKJf5m/16/za2NuNFAEjcfIKgytS/ayLg2pCxWH6cZbgn5KpPlPt1pQtBbXVgc7saz/7ig5t+5Tb9+pqu72OT2HAny5ybHZchS1tWa2fOp6yX5nxxYBnRVWC9akLbO0zdbyEFM1lm5IpvafaHbnsUlKcwoC/brGggfOp2J3zBTt2+aLFRJUkanD5NcyVXmB70NuK25qWFCWbh+P6ML4Cr85qDel6TrJWToGaeehAv2qTY2RRRRmdlWtfCcOqSlnGqs+32MYWG7vqPHX8axz3MKAXW/LXqCthSTA+rX6hn2eUfOwzNWPzfUR/9tumbmXZXudIPzjqU0Vbcxkf4Zlr7i5Gvx4pxm/GaPWqfjNfW191OvpxjxT5MfbxH7wTo3I7ZdqFHJVZxVvhw47Pg7Vz2OXH2cQBH6kLmSYW1CuXz/Qw1qk80H6N7EqKEkiw2gMsIiBtBDFwTpUpUgRKCI9zcvvEIONnPOVxXh1zyfEpUK18zWNOzuTkiESlRxVODEnoV1fK2iahtEkCCxqBYQ79HVcyreNf47iHAZ1ih2NbJOcuhDV4tc/fYXScP2yhH7+zTV/JlETJmOeQYsU/x1WPjJk9XYJ/yuqeThJVQlbhjxA1n8W/tc29HPdIkf1y1h+jkE/iEmZEziZe2Z/c1seYFgKOK/76JH/lcnBLH/Ool1OZRzsEq03tP4dvL3bn+ig3/q4rRYACLSBGuVwBJAkQq0yRooRBJILUeCEKIPrTVABUjhQBuEZ6oJq/TZA6RxKxljnWjz4I0QqLA4jEQiDqYJMAUs8G7dm0luBbPZae9zAwRq70c+PxUWzRhv2IhPCVv+4TYSufwdXfT0wypP4cUtRHHBmDjsbtiXY9UtQX9q3P9YnfJHa1tTffEet6pEhfcckHrSAwWItP8SuuI/J6CnvjhBThVvlALkzFnXHSR/vaJ/PV/dQYtX7ueHdSnFIkCa9OcLbAT5GidgKQAZxpZUGQkT8Lpd6Wq9rUvKfKeqBK6KxOjUOPmhCO25ViEoiO2rsA2BOB4FhdiEG5c3YQe4SS89fCK//Tw8DUl5Ai21z5CdslU4hJDLQXAGVZlVWzjROibcv1kajIuCcwzdxz7aZIMX7jb8ndkubcWEcsX0KKU0Rk5Q87GGaLfZUU1SVH+CUEN0WKCLYVeZGYoOuULrXPqditbeuxWNxlpShwkRUyaUVAMxJgggrZBDz9gKbMcUhEoOunDNh1xaEtAI0BfGOvkVOgWiHQzTzmpAdx7hhR0y+2CJzYJplcYZEK8ff02KQtx+fW2rG/Sm2feRIYrx2v/E8PA/qwCfmzs4o6ZYgfIcVv2sPFOYysCB3bkKK2+uXvHaZOGV3g7Vg5cWwcvnBs3iriSd0pMQbd5sTYkpBfHEfobA7zGkNMRre0uZd9jxTZZzVoq/azLRdxbRBdvTDANJi5ACbekV7GqneHxjCeXGjnURYiTP8etr3Y7fXjv11IEQlkic3wKgGc0bmycBBQ4gggIDiBRxCDNvpo05It8NRpszZIT4FqXElqniSUMnPHVjrHkfRmn/YcT7eQt+OMxdYEBLuUK9NvaqVUsdz6uIcBnaud1QdsZnv8FiKPP+GlzmYcImH0sSVe+NuWsdLfXMG/6pCxgkNwzfnc3hzxYdsm8Zl5+CExnPGVqY/f2jHu4ZwtIa1WXzEY7PmstZO/EtfBJmMkF5O7yvnOePyafOFTOgRn+8SUvimXQ3Rw3rsD6MVudJva020XUpya/Ohla0E9ul3n6HevGCQxrVraBJ6yv0eKU+0fsaxHivdo79rYHaTY8fZaUDtD3l3VvWJAb7dtViJLZJDi26//cyvFJRgerc3a2B2k2PHkWlA7Q95d1b1iYKXYu7VqHTFIcZBiYmKQYpCY2N8rIUyYsrroWTAYpDhIMUmyOSl6LvEo4sHxs8uzYIAU82PQs/rcDxj5YeMRMFgbu5uTYv2l9d6BfZZVUs9Pz4LBWCmOlWLyYJBikJjYPwshTJj+vuhZMBikOEgxQb8bKXqPKS8ue0UiL1hHkSPu9yYEzpiTW93eLcGAbtp5l+1epUeKbim92sPGc368mcLCWH4VPzWOx1B+Oc+rRVNjbV225JWcXoxurc+l4y2J3ak5diNFP/V7+99Ll8Sb/3Mvy04peouytaCu1bX3+ogkOpVIa+ft9TuFgQDyhUpI5Z6Sptod/WtZjvNLtti9lPjhk5ecM/7U3sJh7guwqfZblJ0iRfl69JytOJyK3dq2Hu9GigKLkq6SJkUA9Z0ox77uqA+7BaoVJjLwrLIlBX0EqTbXSMZToJpTkEgWD6mrDnRnT9VZG+3VsScvFcPGuU8V2eO4PvAWrLZapm8wMW7FwBzOSTCsugVr7Wp5DYwc9zDgK18V+EyLDtVW/dXDoPpZWWwJRsEhc95iTxd49ASmLSnyiTIxEPthqq0x4cJ+NmfVx2/iX5vWB7DQFk5wjc+Vmwfexr2GmLf6qs5BT7nrDk+7YJXYdU5H9qonyhwrZ4fja+ledc1xL3bTZmrPf7t80RJS5FjBw7lxgHPfpwqEgE5Z5f7iDWcA25Uzos4KRR8BWb+3TJtL96dApVeC1HHsEexWwnTLni6CwnfMVgrsyTe5sNFHEiRRkgz6xca6kgyePsY3FtwSqMYwD4GT74sFJhGU5rU3Xpvkr43KPz0MjKF/fBf7dUeGfEJ3foo9+hiTfrDTn/63FnoFvzld4Nri5Zyt+sMhGLDdN+F8bS9GkSGx5xN280Ew5lMxbh5j+jY+ftM2sWY8820t4jP6t2Obj03s4dPMn9h1F8j+xKL+2ihng41t6deOf43z4Hru2LuSosQFOufa4gDEIXkjwEsw1EBDPCkPeQKZk5DD1tIDVZLToRWA0jlCX/YRx/nDFdr5QF5QRbRTPiXsrKSojYSUbEQiwZQYM399xjmyDW6OJaXxbHCrOrwOUP7pYaAZH7Y4GE/iRto29L7GRSzzrdnDYg0pmkvswp//QppIzXjGdcyv8RX8c6x/Lqja1QuEWMnFRDs4mgfe8fUaW+f69EhRH3rbpiSPUNo6McsGOFxD53a+en4qdmvbesxXu60UOdOElG1JMQRJOcGQJBZoCYxKisoBLpCyVcO2OO6BKhFcNVtBCIgn4pyuhE2pg4Nj+4h2OW+JSlBNkWKSsCXFkK+xzRM8kWXFTZBnzuhR9z0MtGsJTxl/xWbn5ua7CH9JwCPJUlJsSUEMwEg8iOn4g43GdMFWxp/KiDFy7Dz9+aUSM1/Fb0gUhsY03jUI5hQpmjf21/gUP/xdy+Lb2K9vXfik/pr7U7E7Nzd7diPFJIqrodvikB3AsnIQFDWBrLrSTv8cG0MfBnBG7TNn7Lnlp0C1ouV0ImgFLJEobCKCNwFM96zg6Iy4aiDFPuPUlZZxzNOSsMRKcsEjpGlMusHGnG7Dgpv2GUc7x1WHV6XLP6cwoOsU9sroRAdjVBKEVZKrTHXTQ3ZUQppShj3xa+rdHibZYZkVIJwzpj4wTh3brayUaeOYOOZ3mBmz+s2FTT0xTnz4WrDRP6dIkf1imd7spidxTm/7KVGXBdFU/bXKTsXu3Lzs2oUUBQLHJvAEQq6ClOBoiWQL2AJLO+QnsBAkQwO+MRFJEnDOyLXlp0C1StLG/IIletvTmW6IKuUCgz1sUe44REZHxCeAjJdE09e5sRJcCM7c8FAGU3vnSRwBro859c9FxzzmV2YLqc9h1MOAf8xhXvu62udbfZXnomAOx3S10SkxMDf/XuVwS2y2c7KLHTZ628c/8HMOS0TlWCzD3bmNnfZw4k99lMU3FbfENOy0Cf70a+eB/5ZyihTlHTvpkbnFovPEAP1bgYdtbwl2587LR7uQ4rmKHaH9WlCPoPtWOjwLBj1S3ArLo49zihTX6u/Cn4v12jHW9Fsbu4MUO2ivBbUz5N1VPQsGgxS3/6LF6tidgRXvLWRt7A5S7HhrLaidIe+u6lkwGKS4PSl6xOA2+1aPSNbG7iDFDk2tBbUz5N1VPQsGgxS3J8VbB/va2N2cFD2XeBS51bL/SPg9CwZI8dSPTkfyyzV08ety/dHnGnPsOeba2N2cFKd+fdoTiC3nWnul2VKHW4/1LBiMleJYKSbXBikGiYn9sxDChOnvi54Fg0GKgxQT9LuRoqCzinR7bXM8915YlLv1fikh+JrkHFuADgP9ji5LMPD+Gn/y8b3KnqToNh1eblevKcm5pfOIyXNvn7VnS94dnrJHm3w8kHr5ot81H1ksid3oU/e7kaKXXr2vZHPsBWJfXRxZloLKwV7E7gVGtdPLrl5V8MoCBxxZlmCQF9LZdHR75rDekxTNJf6v8b1+tS/z+HpsiawhRWTno4y8zD41j3Fb8pMzfpkWO9eSJbE7NfdupMhBJgOe5CEBCrD52R6x5GrluJa3VxtjGG8pGU0B0CtbAiqd2IXoqh6x1T6iXnsXg2vqnfm22PcwYI/gZjs/xVZ7dgYPx/FjdOLj1CtznH7O63jpc819jxTpEl0Tm60uie+Un+rD1jlC0HduHuXtXHSTS3CeEl+bLJEeKdIp48dPwUQ+i2f16qrE9225NvqLnSnRL/NN1S8p68Vurz9dd/2ihUPrp22AAao/pZTPnjiR8zkpf3rILYBvQeMITnKFMhZg89lRz9hz63qg0sP8fuGy8nUcxwsQxMcu3zqH/N0uWx26cuvn9uHo0sPAaofP2MquPA7gO/bxqcRXByOYwYi/lNnnAgkL/jWePyvmc7Le3Fvj1iNFutJNXLKrJjJfszG+dk5ijz7sYH8VWEyRoniGgTlhkJiyN5byxHzq8kc+8qlhnSf9atnccY8U6Wp8RAUrvk3O+YRPntJNLFRCV6avWGlFDlcs1dMXxjBrsW77nzpfGz90uCkpxjDg2QilbARouWIIFkASgZFnJeo5Y2vpgSoJQmp0ErDRm85JDgHUOr4S6NY6bz1eDwNzwX6qDSwQCftJLmZ8lu9gtYFb6uDkGD72LW5b21bH65EiXcRXYrL+IQ86xkZYIL+0q38sIrZlTmO2pJj+aSMfckEVayEh9cmDHJszF+P0tw/GtWzuuEeK7ghy0dM/uepYLoT0HNd26p2nvs49RYqwzMWA7nI++Na+S46n4nJJP/MeghRdFUIkVXFBJlhIJUXlwFNmWwtAnas97o1pzuiln6AHJkdLGvZEt5BAxndllxT3ID0M6G9VwM5W2IcUWpHYNcgll3PYSSj9zGl/FFLk0/x1I3qGtNnmOASlrvoW6cXPYjXH+jluSREONVYQUc7FU8UtuBoHhsaHbSVvbejkwrNEeqQoNy1EzJXVbMZ0ntylQ0uKLoRLSZEOMBUDyZ+MnfmW7k/F7tw4MDsEKTIgwVWVDSlSVBClDfBtym0Jntr30uMeqOYzPxGsdKMH0U9AE0Gbdq8FLy//kjgpO+q+hwGde6QouINJ7JMwGTNkEx9WUlR2D6SIjEIC4qDqfC4pusgi1WBm7BAhYqmrMytH7cSZdsR5XXnXsuDf2/dIURwbGzkjXvvIlqTIXvMEA3bX2/HMuWSfOFvStrYx926kiPEFyrt3794HUq50niMhwOp4ikoUIHG82zGG6kNxjhGE+lUnVQMvOe6Bav6sVqNbdJfsdHalQwy5zZY8aUvvBPwlOl67bw8DV3925hlgVs78zD7+sg9p0BVukki5WAg2Lhx5TqWfse1z+3htO/kiF7J2LhhEJ/HoeMrXCC0YsCftYosYZb/z4CNGMpZ5ERNM1cMpop92ym30ICErOiq3OrcXg8ZyTA/z9HxprB4pquevjJlFCMz43zzqEKYNDnQW73BRRn96Kad/1a0uHIwjb+gMCzaukVP2zo1Jv91IcU6JU+WUnJNe3VyfpeVLQO3N36tbqsOt2y3BYI2OR8OmR4pL7NvSHmPNjTdXN9d+ie5pc4oU026v/aU2rY1d8x6eFPdyQjvPWlDbce75/FkwuJQU79nH0f1opBi91u7Xxu4gxQ7ia0HtDHl3Vc+CwSDF07fP9xa8a2N3kGLH02tB7Qx5d1XPgsEgxUGKSc7NSdES/FGkPgB/FJvOteNZMECKe/2oc64P9mp/yS+9e+l4zjxrY3dzUsyviecof9S2z7JK6uH/LBiMleJYKSYPBikGiYn9sxDChOnvi54Fg0GKgxQT9HdDit57Wvtme4w9d7+UEOiW99N6c3jfig02wN+DLMWgtcULt+z0XtoS0W4NLomLJfj39BikeDkpLvV18uDaObA2du+GFD3v8KeW1r7I2UuIubqloHrx1Eump5wscY3pJdj6QvPc/EcoX4pB1RUOeUF7aX/P87y8fQ65mcdLxF4Ctl0i1yBFsbr2a4xLbFnb95JXctg6lQP82ZKli5+Xua/9DHdp7LV47UqKJgNSS2w5V29rJWWMbAFu2255vgTU6C4pcxwd5nRFiPfyg9Q5GLS+Zb+vEqYEVvFr6hEpEmlxVK+t8ds+6rS/JimaM/NO6UaHKV9Lel906DvXL7YfYd8jxdYG9gSTti62KPcbA786Tnv1vmiRB7Us/bbaL4ndqbnotMvL20AUIILX53FZKUkC55JHvatNvbr6JCr1R1sp+nWLPXS3+ouD2ao89krmKla9j0CK7PTpWuzku/qLH7unSNHKGj62ulrIp1/GsyUOzOOzL2VtfMAVIRnrEumtFCWXee3NUz9JCwbK6eeciFsx4bM75WsT9BKbzu3bI0U5yEY+5TOf7uVTP/GsDkbJAXv+5Dd/IAUGziOOtVdu7OCW+i32azHfjRRNZNlMHFs+BwggA44gyySWQAU20VafqSvya4Mr/NMD1RUwerKrkiIioDuxb4nhUUgRBkkMqwF2VZkiRd/KBtf4NH2MkfHgJqGIeAlBKpdIVa5NivREbtGhxq6LQi5w4ji20U9cXOOb/Gr7lsc9UpSX9QIm9pO/0YG/+KqKfvUikjq+DjZ8HgxTv8W++uKc8diwy0qRUgxHcsAQZFlBSZQAJ+hDNq62WVHqj1yOQop0if50YxcwBYqrKIdoM7VKeBRSzAWMzeytSQOTKVLkZz6O8HXOHYd4YFlJUeLAEqa5UGaMa5Oi8XPRjl4hBBfDxGRbx661iRnb9tz3SJEtVndyUjt+qBLb7auI9eR2La8XUWPatpa12LNhF1IEqqAOaIgjwSSZAop2ACNWIlly6ycAE4xbAzg1Xg9UxJ6/qsIOtwB0tLktYAddbZXYzeP8GlfGKRsuLethkAfmSCorvDofXNrkqatLbWGVOOD3YAo3P7wQYycOnLcrRW1bonzteMY//JW5227GF68RZK2MOA6RK6urJWNmNcTnzo8sPVLkIxjDPn8vtNoi7qvtqaukyPdZSPBn8kK5bWvpxW5vLrbsQopABRrgBbk/N2QvoAQOUpFkEkMAKqccR7jSWEXkzzcp30N6oMYezhQo/hxabh/ZwVZ1bAvJ66MsK0jHyo4sPQzY6ULFDrY7J/zjXOC71VQfQgiB8amxc1egX9qLEWSZpHHRdG5MfYyZi6g24sidh3na1epSbHukaC6xp435HOeixmbx6pzPY6d5EUCtCyEs1WnvdmwIwU/NzT5Y8EW9SLGZP+W0feLAGOoSI/rxv5hXxpcwkeO2rXOhF7tT9qVsN1I0IQAELaAc171jDrFPuT5A1AfQqT8CKVZ72EI/ekeqrdGXLbEve2VHll5gITSJFFu0DSmlLHt4ROJTdcFGnaQIbm1ywtdKrsaBPsE987T9Muepvf5zK8U6duazj8zprD511f70O9r+FCnClu/YUgkseRmcWlthJS7Sx762zfHWudCL3R72u5JiT5Ej1q0F9Yi2rNWph0EeGWTsrA5zfk97iTlHivdkxyW6niLFS8a+Rd9e7Pb0GaTYQWctqJ0h766qhwEicdujjUcCVo5ZDdyboYMUL/+i5Wg+78VuT9dBih101oLaGfLuqpZg0N5O3Z2R/3z2NVaK/WeK9+bXJbE7ZdPmpGgJ/iiSXw4fxZ41djwLBmOl+PL6Q9baZ7JrYuvafdbG7iDFjmfWgtoZ8u6qngUDpJgfie7OSRsp7JnwIMW3tyd2eSVnI7/tOsza5feuSl55smfBYKwUxzPFpNLmK0Xvij2KPAsh9Pz1LBgMUhykmDwYpBgkJvZrCAGgXtb2cqpfZqckLzu3dZd+oJ4AAA+uSURBVPr6FdfLyUd5NrsEA786I5VW/BLttR1/yGOqvm1/y/NBipeRoncMxbsYPiU1R9qvk2pfceWF7yVj1n45XhK7aVv35tv19rlnYK+uKr3X8SWg+kUWIUyJAJp6URURItS5+qmxrl22BAPkN+U7X5p4TqV+yt5r637O+IMULyNF/j/ndSztPb+cyxG+M55PCqdia4lvl8Tu1Djm24UUTSRJgGA1VB/oMt5VQZ0H+/eySvKmPuDZ066EkEDrcGVIT/v29Q/j+CTMp1QwqPhMOW6vsl5gsYct2lR9XRDYYMVr9aDN2sDey85TpMi+2JqvWdjPdrGrzN7KR/k9iryrfqw2iNvEpdiFRfLUp4/s9ulf62e4wkj7Nkfk/dTdlPG0N+fDk2KeNwLD7WWCRzAFYL8A1u8qq2P2Pu4RAhsQmL1AQID18yblLSnSX1urJzZXUe6i4dtRx7YjSA8D+tGTvwRyFeVslAhHsaXq1x73SJFf4+vqd2OIYYkd/4vfe7C3td95jxTZHQJr74LYq74lsGAFI1swytx1zJQhXO2M6dj31GvxPBW7mbPdm2+XlaKJgSlRXAXqn54XkJ4duBIhBWAdQXqg+jAesSMym1VRJQY2TJEiuzi7JUXlbM8fOjiC/XToYRAd6c2mVlzps6pq64523iNFRMfGCB+5sEWQhf73Lj1SZFv8ydYscGIzInHhqAQGM3mdHPFHO2qcTJGiFWdixljunuqYmW/JfknsTo1jvl1IkaGuJFlN5cpLKUC5klBGsAmytUBMGbm2rAeqAELu7LJJnErmuTJOzT1HipKtDbap/nuW9TCIHo9OikigXsSsjGtyHyVe44+1+1OkKHfZntvoOo98bUlRLIufXo5k9Zmx6m22HEKka7lgSexm3ro33y6k6FmFqwbiEGT+/BIiIVZUwFEHQO0AcmvpgQo4VzGrQ3q7wmW1EBsFiUByHnGM/Di/LZd4rsa1PP1utT+FQVb/bKp6K2djfmi5lf5L5+W7SnS1n1h0V6CNmOX3xKe4Viduq/21/70cnyJFMS8eWiKDBfsRmH2wsYcVXGEzlSOwqzkC3/AEAsYT6tdIL3Z74+1GipQAjqS3skAmltXAUu6qog4Qa0HoGbqm7hSonM4WeofgAcoWdqizz+qPrbmVSL8EkHa1zjhHkB4G7GF71Zs9sZON6uyPLj1SpDu7+MjGvlrW+vnots7pd4oU9XPx066KCx9cgkO9uCzNkTomX4grZbbkT51zyXEvdnv9dyXFniJHrFsL6hFtWavTs2BwihTX4ndP/RDQ3K/PyA1ZiAfH9yBrY3eQYse7a0HtDHl3Vc+CwSDF/q/PHoW4bbYivBdZG7uDFDseXgtqZ8i7q3oWDAYp9knR6nBuFXnUoF4bu4MUOx5dC2pnyLurehYMBin2SfHuAnfh62RTdm1OivWB6dSE91RWX8O4J7231PVZMECK+bFsS/zuaSw/mBzlR84tcFsbu5uT4tpfirYAYesxnmWV1MPtWTAYK8WxUkweDFIMEhP7ZyGECdPfFz0LBoMUBykm6J+OFBm8VNYQgvG9y6XvPf1SN4fJEgzcHdzyIfw5Pp2zc5DiIMXExtORIsJa+txkCSEEyLo3vhdYva1/77IEA4SSF5pvYa9nR5cS4yDFQYqJ3V1J0YNsb6ojpvoCKCV84ZK32OsDbyuQfBlhRVKDP3X6phwhGV+Q5xhBqfcg2SdE0UGbnpwiBDb4Ycl8LSmom/qDED6Dytv/VW96qPMFCPtjT0+/Pep6GNCRT2BQ7ae/LStI+1yItK31tR971MGgrjwzljH4TDw41hf2/oitsik/LMWoR4rihq+0MUdsMbbjfMnBf1Wcq7OxOz4VG8YUh7A5FYd1zGse07Hifs259hi7F7u9+flpl2+fBUK+fRQQXgZNkEgCRCGIXPV9cE4EPWIRNBKj/mUdbRGcOkGXPoJU4PqTQ+ZL8JlLW2XqjXcqAE6B6ttm4yNdL7ayMRLdc25PZ+3s9fFdZ/pkjGAgWY4gPQxgCke+pH9EcvkOFs75K+IZRxm7+Rx2/khIhM38z0/5nlhdMOH/EAmSgp158xeK6NKSbMY+tTdntaG2p6d4ops2vucNMdKZTfqLVbqS+D/jwiO6iXUYxS74HUEGKb55YTdSNJ3JBFWSJoHlHFnlahyyEvQCBukJLvUR5bnKGvPjjz9O1SvZIawQzvuKf/75o4xfy6eOk8hTdeamA71sCLrql6SofdkrcfSVwPpFJDwclLHnkr8OkjG32PcwyPhIgc4RNuQilYR3MeB/2DuO6Mu/BNloQ7SDaQQx1X4pt5/zdW1z6ji4T7UTR4g3wtbYpwy5RT/2EH3oG8Ks+PAzXMWLOEgeZPxb7em1NDdupeM58y6J3anxdiNFJOHqjxAEQf0zYs4FlsBxNbaKiAhWjhJcCCVOQ6K5Da6JpZ+x5hJIH/VkijQzr30P1OiTue1rcBubvlWUmZtNiEB9dHALaAWR8QToEaSHQfRjS0169rFFcIU8+MN56xt2xt+VFGFZn8nWdpnX3pj6Bcfsa5slxz1SFLt1RattcMmdDbvYwX/RS7uUi9fEhxi2wcw4sX+JntdsM0jxDd3dSFGACAwicN2OhOCQA7IiFMqVX0BZMaWd5MuqwpVZwmlvvIxtDHPNkaJkdYXWx9W/l0QJ/FfFmn8kSr2NEtjmjUiAutJRrv7du3fv56Q/Gwn76Ub0lWxsu7X0MIhubOePCDvZQ//052PnfAl3dsO+Xhz5MOOwPwRjXBfT+D7z2BszftA3K9PaZskxnSux1z58LQ61MZ/YSlvl8WG9oFsBsjNECI/Ypn9sUV/Jv8679/EgxTfE+XiXZ4omkvQCX+AKIHsBJ6kcqxMwAooIGOWpCwkmWDhR+5pMglWZJFQukKsYM/MksGt9PU5C17J6bOzoxgY2VjujgzoieYxpflvK1eknUZQbs9W7zrvncQ8DWMI6G58iOnbFPhg4l/hsQoouenypX33koG/KKzZwyRz2sKpijNSLpzVCt7l4MCad2ccuBB0Rq+ZWjvgch1yUZVMXYRs7U3cUX0fv6Hnv+17s9mwTX7uQYk+Jo9atBfWo9qzRa2sMkCIyOJqcIkWr0UeXQYpvHh6k2In0rQmhM9Vhq7bGwCrLqmvtiu5aQPVI0QrSM18r40eWQYpv3h2k2InyrQmhM9Vhq7bGID8kHeWWMcD3SDHPM+utfvo90n6Q4ps3Byl2onprQuhMddiqZ8GgR4qHdc7Gig1SfAN0kGInsJ6FEDoQvP/1uNfmEeoGKY7P/BLHgxSDxMR+kGL/Xc0JyO62aJDiIMUE7yDFIDGxH6Q4SHEiLB62aNw+v7l2N1L0C94eD6pd8b0ky7BLZZDiMlL0/uXRfk0+1/fXWin6xTofH5yr097tBym+Ib4bKSJEX3NcWyRovoi5dK57IEW/5va+ytkDAy9X56uOS+e7Vf9rkaLFQL5kuZVtS+cdpPiG1G6kaCJfNdi3V05X07wDJsHbequQqaRT5osCY1bx9YA+xjLu2lXMElJsVwJ0qXM6tlWhlyRsy7VRXkkudrS4OVfnUzKJB7Par853yfEpDKqtmSe4O7+WXplrq32PFNnDjsSZuMuxvXP9Uxad4vu2XD3fiV1tWr+pm4r3jHut/SDFN2T5a5cvWjgeKdqQVr5XpYDPnnxD6ksHn7j5ZjjEaBXiUzGfCNYVoKtv/YSsBlFI0adUvrE2xho5RQj0NUc+WTSHgFaW7179mSy6J/C988a+2Kw9oT9slKsP2WtvDLayKxjo59xf1zGfY4m5tfQwYJN5fb+MmCP08LIzn6p3HPvT5mj7Hikm1tjjMz6YsIuILXGQ+Iw/1SnTXnxUsbo3hr58LuYj+ji3V7cnboMU37ywKylKngSN22nJHBE4CZ5cWREjghAYygRKCM65cpsydZEQhL6ZL3Xn7HuEgAQELz1sgh+RRejDHqQWsSoQ6JHY5ZyuIZYQpHGJZNSXCNxg4Fy/1L022PifHgaZSpJH95TBhq4EDhWbtDnSvkeK9FTvQpd4im/sE4fiufpbP75MXMdesaGdfuqNTRIfyok43vPWe5DiK+yv+bzbStEqJxLCy7mAEiBVJJpAVCfJbEk+gYQQBJjgqQTrXD9EleCt4y497hECYrLa1YZe9lV/x1ZxCXBz0lnbKckfxc1Y7IruWR3qJynrGEg2q+qpcS8t62GQsWERv6RMvyQ7f7T1aXeUPV17OiL1ltzojkis4mHALy4QVcRB209M6Kdc3/wASQdxm5gy3p4Xk0GKb56Td7uRopViiEPwSPyIQGhXPAigroQETQJIecYSOJUoBJu+6pFlyCVzLd33CMHYAjqkR6/oY76QAl0yP50Qae0TQnMLJiiJevikH8LM2G6v62okpGicisFSG0+162GQvnOkmIR+BFJEmOxoBYnFh3BoSVHMtqQoJpUTMS+OiPiQI4kPc6bda4Mr/zNI8Q1gebcbKSIySYwAQigUECR5blZXfFQUGFmRCcAQJxIylqS1knKLiSxsSMQ42hpXuzVyihAkgbGRUewxJ33ZKrg9T1MXvQU5O2ofukkI7WCjb00uv9ors/LVL2Spn3Z0gEFIdY2tc316GLCJTrBns+RnM5/BnU6O+UM9G48q/ELXKRFT9PfX3eEfEtS2xgB7+TZ+0JZv+K/2c5wYaH1d413fxM2UXluXDVJ8Q3Q3UrzUgZUI6lhz5bXN2uMeIdQx1+hwTh/JltVDnXeP46UY7KHLNefokeKSec/xZ8br9enVpf/W+0GKb4jCfpeV4tYO3GO8oxCCVcogxet6/FJSvK52+4w+SPEN50GKnXi7NSlyjueubqmnnmd1VN+s6tYYbGbIiYEGKY5vnxMigxSDxMT+KITASbeSo2BwbfsHKQ5STIxtTop5yJwJ7nn/LITQ89GzYIAU82t5D49HrvNO5J4/7FwbSz9orZFNSdGvcn6NlEiPsLltfQQ7LrHhWTCQQLZLsLr3vnz9KBiwY+1FblNSXMPKo89AYCAwEDgSAoMUj+SNoctAYCBwcwQGKd7cBUOBgcBA4EgIDFI8kjeGLgOBgcDNERikeHMXDAUGAgOBIyEwSPFI3hi6DAQGAjdHYJDizV0wFBgIDASOhMAgxSN5Y+gyEBgI3ByBQYo3d8FQYCAwEDgSAoMUj+SNoctAYCBwcwQGKd7cBUOBgcBA4EgIDFI8kjeGLgOBgcDNEfjH3z9/+dtf/vzy0Se/+tlLu/3hd7+5uYJDgYHAQGAgsCcCn336x9f/8uOj//j3f3tpt0GKe7pizDUQGAjcCgG3zFaICNGefOT/JJjbNBzbwGDEwIiBR40B3OeWOYSIFP8fNsRyolLtO5EAAAAASUVORK5CYII=)"
      ]
    },
    {
      "cell_type": "code",
      "metadata": {
        "id": "gXR1Pus2d5P6",
        "colab_type": "code",
        "colab": {
          "base_uri": "https://localhost:8080/",
          "height": 129
        },
        "outputId": "925edbe9-0662-4f2a-9244-d4054528199d"
      },
      "source": [
        "break = 1"
      ],
      "execution_count": 69,
      "outputs": [
        {
          "output_type": "error",
          "ename": "SyntaxError",
          "evalue": "ignored",
          "traceback": [
            "\u001b[0;36m  File \u001b[0;32m\"<ipython-input-69-dbb844e64c6c>\"\u001b[0;36m, line \u001b[0;32m1\u001b[0m\n\u001b[0;31m    break = 1\u001b[0m\n\u001b[0m          ^\u001b[0m\n\u001b[0;31mSyntaxError\u001b[0m\u001b[0;31m:\u001b[0m invalid syntax\n"
          ]
        }
      ]
    },
    {
      "cell_type": "code",
      "metadata": {
        "id": "yROfDWVXey_1",
        "colab_type": "code",
        "colab": {}
      },
      "source": [
        "# variable affectés à d'autre variables et ordre des opérateurs \n",
        "largeur = 2\n",
        "hauteur  = 4"
      ],
      "execution_count": 70,
      "outputs": []
    },
    {
      "cell_type": "code",
      "metadata": {
        "id": "pvgRr-Nyfsbq",
        "colab_type": "code",
        "colab": {}
      },
      "source": [
        "aire = largeur * hauteur"
      ],
      "execution_count": 71,
      "outputs": []
    },
    {
      "cell_type": "code",
      "metadata": {
        "id": "Oun-xVZhf0kW",
        "colab_type": "code",
        "colab": {
          "base_uri": "https://localhost:8080/",
          "height": 34
        },
        "outputId": "705f146c-ea56-42d0-c281-87b86e297f21"
      },
      "source": [
        "aire"
      ],
      "execution_count": 72,
      "outputs": [
        {
          "output_type": "execute_result",
          "data": {
            "text/plain": [
              "8"
            ]
          },
          "metadata": {
            "tags": []
          },
          "execution_count": 72
        }
      ]
    },
    {
      "cell_type": "code",
      "metadata": {
        "id": "umpu1PQngETE",
        "colab_type": "code",
        "colab": {
          "base_uri": "https://localhost:8080/",
          "height": 34
        },
        "outputId": "968d3a4c-f2f5-42e8-b655-eac02e33f2c2"
      },
      "source": [
        "# l'ordre des opérateurs est le même qu'en mathématiques\n",
        "perimetre = 2 * (largeur + 2) * hauteur\n",
        "perimetre"
      ],
      "execution_count": 73,
      "outputs": [
        {
          "output_type": "execute_result",
          "data": {
            "text/plain": [
              "32"
            ]
          },
          "metadata": {
            "tags": []
          },
          "execution_count": 73
        }
      ]
    },
    {
      "cell_type": "markdown",
      "metadata": {
        "id": "wT-sSYDdEvVQ",
        "colab_type": "text"
      },
      "source": [
        "# Types de variables"
      ]
    },
    {
      "cell_type": "markdown",
      "metadata": {
        "id": "Hg8MAXcOk9nu",
        "colab_type": "text"
      },
      "source": [
        "Il existe plusieurs types de variables que l'on distingue usuellement en deux catégories : les variables immuables et les variables modifiables\n",
        "\n",
        "Les types de variables immuables sont les suivantes:\n",
        "\n",
        "- bool : booléen ex: True False\n",
        "- None : ce type est une classe \"vide\" (sans attribut ni méthode) pour indiquer à l'interpréteur que la valeur n’existe pas (mais la variable, elle, existe)\n",
        "- int : entier ex: 2\n",
        "- float : réel ex: 2.0\n",
        "- str : une chaine de caractères ex: 'chaine' ou \"chaine\"\n",
        "- tuple : une séquence d'objets\n",
        "\n",
        "Concernant le type tuple :\n",
        "\n",
        "Un tuple (usuellement prononcé \"t-uple\" en anglais ou \"t-uplet\" en français) est une séquence d’éléments comprise entre des parenthèses.\n",
        "Les éléments peuvent être de types différents.\n",
        "On accède à un de ses éléments à l’aide des crochets.\n",
        "Les éléments d’un tuple de taille  tt  sont indicés de  00  à  t−1t−1  inclus.\n"
      ]
    },
    {
      "cell_type": "code",
      "metadata": {
        "id": "qvq0o_OilA18",
        "colab_type": "code",
        "colab": {
          "base_uri": "https://localhost:8080/",
          "height": 34
        },
        "outputId": "eb1313ea-bd11-4004-9030-c4698f76f1e9"
      },
      "source": [
        "mon_premier_tuple = (2, 'e')  # tuple de deux éléments\n",
        "print (mon_premier_tuple[0])  # affiche le premier élément"
      ],
      "execution_count": 74,
      "outputs": [
        {
          "output_type": "stream",
          "text": [
            "2\n"
          ],
          "name": "stdout"
        }
      ]
    },
    {
      "cell_type": "markdown",
      "metadata": {
        "id": "bBHuJLoDlqjJ",
        "colab_type": "text"
      },
      "source": [
        "Pour modifier un élément seulement d'une séquence, ce qui est souvent le cas dans les applications en data-science, il est plus fréquent et plus pratique d'utiliser des variables \"mutables\". La plupart des types très utilisés en pratique sont mutables, par exemple les listes et les dictionnaires\n",
        "\n",
        "- Liste : À l'instar du tuple, une liste est un ensemble indexé d'éléments, qui peuvent être de types différents. C’est une sorte de tuple modifiable\n",
        "\n"
      ]
    },
    {
      "cell_type": "code",
      "metadata": {
        "id": "ZnpAwzBMl1FW",
        "colab_type": "code",
        "colab": {}
      },
      "source": [
        "x = [4, 5] # création d’une liste composée de deux entiers\n",
        "y = [\"un\", 1, \"deux\", 2] # création d’une liste composée de deux chaînes de caractères et de deux entiers, l’ordre d’écriture est important"
      ],
      "execution_count": 75,
      "outputs": []
    },
    {
      "cell_type": "code",
      "metadata": {
        "id": "ucRlOU9spJGp",
        "colab_type": "code",
        "colab": {}
      },
      "source": [
        "# créer une liste\n",
        "supermarche = [\"orange\",\"batate\", \"lait\", \"farine\"]"
      ],
      "execution_count": 76,
      "outputs": []
    },
    {
      "cell_type": "code",
      "metadata": {
        "id": "gzHdE7zpplhm",
        "colab_type": "code",
        "colab": {
          "base_uri": "https://localhost:8080/",
          "height": 34
        },
        "outputId": "d76afd86-d950-4b2c-a2b2-c9df6b58c98c"
      },
      "source": [
        "#afficher la liste\n",
        "print(supermarche)"
      ],
      "execution_count": 77,
      "outputs": [
        {
          "output_type": "stream",
          "text": [
            "['orange', 'batate', 'lait', 'farine']\n"
          ],
          "name": "stdout"
        }
      ]
    },
    {
      "cell_type": "code",
      "metadata": {
        "id": "HyJEpXyVpp8F",
        "colab_type": "code",
        "colab": {
          "base_uri": "https://localhost:8080/",
          "height": 34
        },
        "outputId": "bb8d0009-0835-49a8-ed80-c6b258755d08"
      },
      "source": [
        "type(supermarche)"
      ],
      "execution_count": 78,
      "outputs": [
        {
          "output_type": "execute_result",
          "data": {
            "text/plain": [
              "list"
            ]
          },
          "metadata": {
            "tags": []
          },
          "execution_count": 78
        }
      ]
    },
    {
      "cell_type": "code",
      "metadata": {
        "id": "Uvsmtjvfpxje",
        "colab_type": "code",
        "colab": {
          "base_uri": "https://localhost:8080/",
          "height": 34
        },
        "outputId": "a9420667-e232-4a1a-dbef-e451b302f657"
      },
      "source": [
        "#créer une autre liste\n",
        "supermarche2= [\"pomme\",\"eau\",\"yaourt\",\"fromage\" ]\n",
        "print(supermarche)"
      ],
      "execution_count": 79,
      "outputs": [
        {
          "output_type": "stream",
          "text": [
            "['orange', 'batate', 'lait', 'farine']\n"
          ],
          "name": "stdout"
        }
      ]
    },
    {
      "cell_type": "code",
      "metadata": {
        "id": "2M58x74gqM2x",
        "colab_type": "code",
        "colab": {
          "base_uri": "https://localhost:8080/",
          "height": 34
        },
        "outputId": "bd58d3de-da28-4875-ab7a-787a3c83a9d7"
      },
      "source": [
        "#créer une autre liste\n",
        "liste = [12, 100, \"école\"]\n",
        "print(liste)"
      ],
      "execution_count": 80,
      "outputs": [
        {
          "output_type": "stream",
          "text": [
            "[12, 100, 'école']\n"
          ],
          "name": "stdout"
        }
      ]
    },
    {
      "cell_type": "code",
      "metadata": {
        "id": "KgVmj4C7qb1v",
        "colab_type": "code",
        "colab": {}
      },
      "source": [
        "#attribuer chaque valeur de la liste à une variable\n",
        "element1 = liste[0]\n",
        "element2 = liste[1]\n",
        "element3 = liste[2]\n"
      ],
      "execution_count": 81,
      "outputs": []
    },
    {
      "cell_type": "code",
      "metadata": {
        "id": "OJEmLgxYrDxW",
        "colab_type": "code",
        "colab": {
          "base_uri": "https://localhost:8080/",
          "height": 34
        },
        "outputId": "80454b13-bd28-4565-a285-74cafacc7da1"
      },
      "source": [
        "\"afficher les variables\"\n",
        "print(element1,element2,element3)"
      ],
      "execution_count": 82,
      "outputs": [
        {
          "output_type": "stream",
          "text": [
            "12 100 école\n"
          ],
          "name": "stdout"
        }
      ]
    },
    {
      "cell_type": "markdown",
      "metadata": {
        "id": "v1PknHSrI71p",
        "colab_type": "text"
      },
      "source": [
        "#  Les listes sont modifiables\n",
        "La syntaxe pour accéder aux éléments de la liste est la même que pour accéder aux caractères d'une chaîne - l'opérateur [] d'indexation. L'expression placée entre crochets spécifie l'indice.Rappelez-vous que les indices commencent à 0 :\n",
        "\n"
      ]
    },
    {
      "cell_type": "code",
      "metadata": {
        "id": "1PrKd5j5JJKs",
        "colab_type": "code",
        "colab": {
          "base_uri": "https://localhost:8080/",
          "height": 34
        },
        "outputId": "14969aed-5b12-456a-d970-da7d601ef9a3"
      },
      "source": [
        "fromages = ['Cheddar', 'Edam', 'Gouda']\n",
        "fromages\n"
      ],
      "execution_count": 90,
      "outputs": [
        {
          "output_type": "execute_result",
          "data": {
            "text/plain": [
              "['Cheddar', 'Edam', 'Gouda']"
            ]
          },
          "metadata": {
            "tags": []
          },
          "execution_count": 90
        }
      ]
    },
    {
      "cell_type": "code",
      "metadata": {
        "id": "z97b8ecmJyyy",
        "colab_type": "code",
        "colab": {
          "base_uri": "https://localhost:8080/",
          "height": 34
        },
        "outputId": "ae31e18d-4591-477a-b1d6-41ded6108b1a"
      },
      "source": [
        "vide=[]\n",
        "vide"
      ],
      "execution_count": 94,
      "outputs": [
        {
          "output_type": "execute_result",
          "data": {
            "text/plain": [
              "[]"
            ]
          },
          "metadata": {
            "tags": []
          },
          "execution_count": 94
        }
      ]
    },
    {
      "cell_type": "markdown",
      "metadata": {
        "id": "ShnD1NvUJSZl",
        "colab_type": "text"
      },
      "source": [
        "Contrairement aux chaînes de caractères, les listes sont modifiables. Lorsque l'opérateur d'indexation apparaît du côté gauche de l'affectation, il identifie l'élément de la liste auquel la valeur sera affectée."
      ]
    },
    {
      "cell_type": "code",
      "metadata": {
        "id": "-F-Lst6GJTv4",
        "colab_type": "code",
        "colab": {
          "base_uri": "https://localhost:8080/",
          "height": 34
        },
        "outputId": "951d4243-d3c9-4803-df90-fcc268aa3943"
      },
      "source": [
        "nombres = [42, 123]\n",
        "nombres[1] = 5\n",
        "nombres"
      ],
      "execution_count": 92,
      "outputs": [
        {
          "output_type": "execute_result",
          "data": {
            "text/plain": [
              "[42, 5]"
            ]
          },
          "metadata": {
            "tags": []
          },
          "execution_count": 92
        }
      ]
    },
    {
      "cell_type": "markdown",
      "metadata": {
        "id": "9VpUljtcJjBK",
        "colab_type": "text"
      },
      "source": [
        "L'un-ième élément de nombres, qui avait la valeur 123, a maintenant la valeur 5.\n",
        "\n",
        "La  montre le diagramme d'état pour fromages, nombres et vide :\n",
        "\n",
        "\n",
        "\n",
        "\n",
        "\n",
        "![image.png](data:image/png;base64,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)"
      ]
    },
    {
      "cell_type": "markdown",
      "metadata": {
        "id": "5pfoxxMWMbOU",
        "colab_type": "text"
      },
      "source": [
        "# Tranches de liste\n",
        "L'opérateur de tranche [m:n] peut également être utilisé sur les listes :"
      ]
    },
    {
      "cell_type": "code",
      "metadata": {
        "id": "gASRVdTqMkjK",
        "colab_type": "code",
        "colab": {
          "base_uri": "https://localhost:8080/",
          "height": 34
        },
        "outputId": "f0060b14-4c9d-4ab6-e1d3-edb4f2447161"
      },
      "source": [
        "t = ['a', 'b', 'c', 'd', 'e', 'f']\n",
        "t[1:3]"
      ],
      "execution_count": 105,
      "outputs": [
        {
          "output_type": "execute_result",
          "data": {
            "text/plain": [
              "['b', 'c']"
            ]
          },
          "metadata": {
            "tags": []
          },
          "execution_count": 105
        }
      ]
    },
    {
      "cell_type": "code",
      "metadata": {
        "id": "5jTuugvAMm9K",
        "colab_type": "code",
        "colab": {
          "base_uri": "https://localhost:8080/",
          "height": 34
        },
        "outputId": "8b0a3cfb-4974-49b0-a2f1-1d02a5627028"
      },
      "source": [
        "t[:4]"
      ],
      "execution_count": 106,
      "outputs": [
        {
          "output_type": "execute_result",
          "data": {
            "text/plain": [
              "['a', 'b', 'c', 'd']"
            ]
          },
          "metadata": {
            "tags": []
          },
          "execution_count": 106
        }
      ]
    },
    {
      "cell_type": "code",
      "metadata": {
        "id": "6UG0WfzxMs84",
        "colab_type": "code",
        "colab": {
          "base_uri": "https://localhost:8080/",
          "height": 34
        },
        "outputId": "d41c9d05-85c5-4e98-f2d3-1768cf1cae7d"
      },
      "source": [
        "t[3:]"
      ],
      "execution_count": 107,
      "outputs": [
        {
          "output_type": "execute_result",
          "data": {
            "text/plain": [
              "['d', 'e', 'f']"
            ]
          },
          "metadata": {
            "tags": []
          },
          "execution_count": 107
        }
      ]
    },
    {
      "cell_type": "code",
      "metadata": {
        "id": "BO-l9kU_M2Fa",
        "colab_type": "code",
        "colab": {
          "base_uri": "https://localhost:8080/",
          "height": 35
        },
        "outputId": "cb3e15b3-4b88-4c99-db58-7f39c1fb3374"
      },
      "source": [
        "t[-1]"
      ],
      "execution_count": 108,
      "outputs": [
        {
          "output_type": "execute_result",
          "data": {
            "application/vnd.google.colaboratory.intrinsic": {
              "type": "string"
            },
            "text/plain": [
              "'f'"
            ]
          },
          "metadata": {
            "tags": []
          },
          "execution_count": 108
        }
      ]
    },
    {
      "cell_type": "markdown",
      "metadata": {
        "id": "Cj7kHsvrM9OK",
        "colab_type": "text"
      },
      "source": [
        "Si vous omettez le premier indice, la tranche commence au début de la liste. Si vous omettez le second, la tranche s'étend jusqu'à la fin de la liste. Donc, si vous omettez les deux, la tranche est une copie de la liste entière."
      ]
    },
    {
      "cell_type": "code",
      "metadata": {
        "id": "XS2k0uflM-n-",
        "colab_type": "code",
        "colab": {
          "base_uri": "https://localhost:8080/",
          "height": 34
        },
        "outputId": "9996ee39-a3a6-4481-e044-55e9b6fbee9d"
      },
      "source": [
        "t[:]"
      ],
      "execution_count": 109,
      "outputs": [
        {
          "output_type": "execute_result",
          "data": {
            "text/plain": [
              "['a', 'b', 'c', 'd', 'e', 'f']"
            ]
          },
          "metadata": {
            "tags": []
          },
          "execution_count": 109
        }
      ]
    },
    {
      "cell_type": "markdown",
      "metadata": {
        "id": "EbzGjiA2NER4",
        "colab_type": "text"
      },
      "source": [
        "Puisque les listes sont modifiables, il est souvent utile de faire une copie avant d'effectuer les opérations qui modifient des listes.\n",
        "\n",
        "Un opérateur de tranche du côté gauche de l'affectation peut mettre à jour plusieurs éléments :"
      ]
    },
    {
      "cell_type": "code",
      "metadata": {
        "id": "MuCd1S4eNTu0",
        "colab_type": "code",
        "colab": {
          "base_uri": "https://localhost:8080/",
          "height": 34
        },
        "outputId": "edea78c4-97d4-443f-a762-bbc5e96995f7"
      },
      "source": [
        "t = ['a', 'b', 'c', 'd', 'e', 'f']\n",
        "t[1:3] = ['x', 'y']\n",
        "t"
      ],
      "execution_count": 110,
      "outputs": [
        {
          "output_type": "execute_result",
          "data": {
            "text/plain": [
              "['a', 'x', 'y', 'd', 'e', 'f']"
            ]
          },
          "metadata": {
            "tags": []
          },
          "execution_count": 110
        }
      ]
    },
    {
      "cell_type": "markdown",
      "metadata": {
        "id": "vYap5SZiF9Oj",
        "colab_type": "text"
      },
      "source": [
        "# Suppression d'un élément de la liste"
      ]
    },
    {
      "cell_type": "code",
      "metadata": {
        "id": "x03lgTdBFrUD",
        "colab_type": "code",
        "colab": {
          "base_uri": "https://localhost:8080/",
          "height": 180
        },
        "outputId": "c9b8cdf9-21dc-4c03-aebd-7c912462263a"
      },
      "source": [
        "# Out of index. Il n'est pas possible de supprimer un élément qui n'existe pas dans la liste\n",
        "del supermarche2[4]"
      ],
      "execution_count": 85,
      "outputs": [
        {
          "output_type": "error",
          "ename": "IndexError",
          "evalue": "ignored",
          "traceback": [
            "\u001b[0;31m---------------------------------------------------------------------------\u001b[0m",
            "\u001b[0;31mIndexError\u001b[0m                                Traceback (most recent call last)",
            "\u001b[0;32m<ipython-input-85-97bd58695389>\u001b[0m in \u001b[0;36m<module>\u001b[0;34m()\u001b[0m\n\u001b[1;32m      1\u001b[0m \u001b[0;31m# Out of index. Il n'est pas possible de supprimer un élément qui n'existe pas dans la liste\u001b[0m\u001b[0;34m\u001b[0m\u001b[0;34m\u001b[0m\u001b[0;34m\u001b[0m\u001b[0m\n\u001b[0;32m----> 2\u001b[0;31m \u001b[0;32mdel\u001b[0m \u001b[0msupermarche2\u001b[0m\u001b[0;34m[\u001b[0m\u001b[0;36m4\u001b[0m\u001b[0;34m]\u001b[0m\u001b[0;34m\u001b[0m\u001b[0;34m\u001b[0m\u001b[0m\n\u001b[0m",
            "\u001b[0;31mIndexError\u001b[0m: list assignment index out of range"
          ]
        }
      ]
    },
    {
      "cell_type": "code",
      "metadata": {
        "id": "D5SRWY8TG4PN",
        "colab_type": "code",
        "colab": {}
      },
      "source": [
        "del supermarche2[2]\n"
      ],
      "execution_count": 86,
      "outputs": []
    },
    {
      "cell_type": "code",
      "metadata": {
        "id": "8QvSBrixHDZq",
        "colab_type": "code",
        "colab": {
          "base_uri": "https://localhost:8080/",
          "height": 34
        },
        "outputId": "6784bf8b-a1e7-47fe-f145-b08df668a26a"
      },
      "source": [
        "supermarche2"
      ],
      "execution_count": 87,
      "outputs": [
        {
          "output_type": "execute_result",
          "data": {
            "text/plain": [
              "['pomme', 'eau', 'fromage']"
            ]
          },
          "metadata": {
            "tags": []
          },
          "execution_count": 87
        }
      ]
    },
    {
      "cell_type": "markdown",
      "metadata": {
        "id": "oMd9XTtPIH4z",
        "colab_type": "text"
      },
      "source": [
        "# listes imbriquées\n",
        "Une liste à l'intérieur d'une autre liste est dite imbriquée.\n",
        "\n",
        "Une liste qui ne contient aucun élément s'appelle une liste vide ; vous pouvez en créer une avec des crochets vides, []"
      ]
    },
    {
      "cell_type": "code",
      "metadata": {
        "id": "eIIcVPEyKMXe",
        "colab_type": "code",
        "colab": {
          "base_uri": "https://localhost:8080/",
          "height": 34
        },
        "outputId": "bd5778f6-ed9d-4eea-f8dd-f0a2923a64f2"
      },
      "source": [
        "lists = [[1,2,3], [10,15,14], [10.1,8.7,2.3]]\n",
        "lists"
      ],
      "execution_count": 96,
      "outputs": [
        {
          "output_type": "execute_result",
          "data": {
            "text/plain": [
              "[[1, 2, 3], [10, 15, 14], [10.1, 8.7, 2.3]]"
            ]
          },
          "metadata": {
            "tags": []
          },
          "execution_count": 96
        }
      ]
    },
    {
      "cell_type": "code",
      "metadata": {
        "id": "JoEom3A9KUoF",
        "colab_type": "code",
        "colab": {
          "base_uri": "https://localhost:8080/",
          "height": 34
        },
        "outputId": "87e77019-ff6f-4e4b-87a9-1ff552ad8957"
      },
      "source": [
        "# attribuer un element de la liste à une variable\n",
        "a = lists[0]\n",
        "a"
      ],
      "execution_count": 98,
      "outputs": [
        {
          "output_type": "execute_result",
          "data": {
            "text/plain": [
              "[1, 2, 3]"
            ]
          },
          "metadata": {
            "tags": []
          },
          "execution_count": 98
        }
      ]
    },
    {
      "cell_type": "code",
      "metadata": {
        "id": "HAEDoVMXKlUq",
        "colab_type": "code",
        "colab": {
          "base_uri": "https://localhost:8080/",
          "height": 34
        },
        "outputId": "d75d6f94-bb4e-4d27-eed6-5fd91bd006aa"
      },
      "source": [
        "b = a[0]\n",
        "b"
      ],
      "execution_count": 100,
      "outputs": [
        {
          "output_type": "execute_result",
          "data": {
            "text/plain": [
              "1"
            ]
          },
          "metadata": {
            "tags": []
          },
          "execution_count": 100
        }
      ]
    },
    {
      "cell_type": "markdown",
      "metadata": {
        "id": "t8ZFxF1NKsIf",
        "colab_type": "text"
      },
      "source": [
        "# Opérations sur listes"
      ]
    },
    {
      "cell_type": "code",
      "metadata": {
        "id": "8OeAvGgEKxHt",
        "colab_type": "code",
        "colab": {
          "base_uri": "https://localhost:8080/",
          "height": 34
        },
        "outputId": "cee3d8cb-b246-4f14-88c1-333dbe0ae7cd"
      },
      "source": [
        "# L'opérateur + concatène des listes :\n",
        "a = [1, 2, 3]\n",
        "b = [4, 5, 6]\n",
        "c = a + b\n",
        "c"
      ],
      "execution_count": 101,
      "outputs": [
        {
          "output_type": "execute_result",
          "data": {
            "text/plain": [
              "[1, 2, 3, 4, 5, 6]"
            ]
          },
          "metadata": {
            "tags": []
          },
          "execution_count": 101
        }
      ]
    },
    {
      "cell_type": "code",
      "metadata": {
        "id": "qB_JW3PeMC_F",
        "colab_type": "code",
        "colab": {
          "base_uri": "https://localhost:8080/",
          "height": 34
        },
        "outputId": "f1a6d4fc-f930-4f1c-fede-debf57b6e2d0"
      },
      "source": [
        "# L'opérateur * répète une liste un nombre donné de fois :\n",
        "[0] * 4"
      ],
      "execution_count": 102,
      "outputs": [
        {
          "output_type": "execute_result",
          "data": {
            "text/plain": [
              "[0, 0, 0, 0]"
            ]
          },
          "metadata": {
            "tags": []
          },
          "execution_count": 102
        }
      ]
    },
    {
      "cell_type": "code",
      "metadata": {
        "id": "mHLiab2JMJX3",
        "colab_type": "code",
        "colab": {
          "base_uri": "https://localhost:8080/",
          "height": 34
        },
        "outputId": "18046db0-eb3a-4fa3-95e3-411d61346687"
      },
      "source": [
        "[1, 2, 3] * 3"
      ],
      "execution_count": 103,
      "outputs": [
        {
          "output_type": "execute_result",
          "data": {
            "text/plain": [
              "[1, 2, 3, 1, 2, 3, 1, 2, 3]"
            ]
          },
          "metadata": {
            "tags": []
          },
          "execution_count": 103
        }
      ]
    },
    {
      "cell_type": "markdown",
      "metadata": {
        "id": "GGK9_nMRNb8A",
        "colab_type": "text"
      },
      "source": [
        "# Méthodes de listes\n",
        "\n",
        "Python fournit des méthodes qui agissent sur les listes. Par exemple, append ajoute un nouvel élément à la fin d'une liste :"
      ]
    },
    {
      "cell_type": "code",
      "metadata": {
        "id": "tKjeSONrNjX_",
        "colab_type": "code",
        "colab": {
          "base_uri": "https://localhost:8080/",
          "height": 34
        },
        "outputId": "3240b5bd-1f79-4707-9cf5-a3d97d6f441e"
      },
      "source": [
        "t = ['a', 'b', 'c']\n",
        "t.append('d')\n",
        "t"
      ],
      "execution_count": 111,
      "outputs": [
        {
          "output_type": "execute_result",
          "data": {
            "text/plain": [
              "['a', 'b', 'c', 'd']"
            ]
          },
          "metadata": {
            "tags": []
          },
          "execution_count": 111
        }
      ]
    },
    {
      "cell_type": "markdown",
      "metadata": {
        "id": "wfI5iXb_Np7C",
        "colab_type": "text"
      },
      "source": [
        "extend prend comme argument une liste et ajoute tous les éléments de celle-ci :"
      ]
    },
    {
      "cell_type": "code",
      "metadata": {
        "id": "juBEy6ZJNpjh",
        "colab_type": "code",
        "colab": {
          "base_uri": "https://localhost:8080/",
          "height": 34
        },
        "outputId": "a4c4af77-d3c7-485a-edd3-d2bfdecd3ad9"
      },
      "source": [
        "t1 = ['a', 'b', 'c']\n",
        "t2 = ['d', 'e']\n",
        "t1.extend(t2)\n",
        "t1"
      ],
      "execution_count": 112,
      "outputs": [
        {
          "output_type": "execute_result",
          "data": {
            "text/plain": [
              "['a', 'b', 'c', 'd', 'e']"
            ]
          },
          "metadata": {
            "tags": []
          },
          "execution_count": 112
        }
      ]
    },
    {
      "cell_type": "markdown",
      "metadata": {
        "id": "MUsMvk5iN6Cm",
        "colab_type": "text"
      },
      "source": [
        "sort arrange les éléments d'une liste en ordre croissant :"
      ]
    },
    {
      "cell_type": "code",
      "metadata": {
        "id": "5DgF-BacN7ac",
        "colab_type": "code",
        "colab": {
          "base_uri": "https://localhost:8080/",
          "height": 34
        },
        "outputId": "bd757197-2fc4-4480-a648-6555fdc5d3db"
      },
      "source": [
        "t = ['d', 'c', 'e', 'b', 'a']\n",
        "t.sort()\n",
        "t"
      ],
      "execution_count": 113,
      "outputs": [
        {
          "output_type": "execute_result",
          "data": {
            "text/plain": [
              "['a', 'b', 'c', 'd', 'e']"
            ]
          },
          "metadata": {
            "tags": []
          },
          "execution_count": 113
        }
      ]
    },
    {
      "cell_type": "markdown",
      "metadata": {
        "id": "i8DQwy14PBLK",
        "colab_type": "text"
      },
      "source": [
        "# Fonction Built-in\n",
        "\n"
      ]
    },
    {
      "cell_type": "code",
      "metadata": {
        "id": "3Wq2l3ELOwoC",
        "colab_type": "code",
        "colab": {
          "base_uri": "https://localhost:8080/",
          "height": 34
        },
        "outputId": "8774565f-8e5e-4097-9efe-3e53fb3c7795"
      },
      "source": [
        "# l'appel à len(une_liste) en python permet de récupérer la taille d'une séquence (ou collection) d'éléments, comme les types indexables présentés ci-dessus.\n",
        "len (supermarche)"
      ],
      "execution_count": 118,
      "outputs": [
        {
          "output_type": "execute_result",
          "data": {
            "text/plain": [
              "4"
            ]
          },
          "metadata": {
            "tags": []
          },
          "execution_count": 118
        }
      ]
    },
    {
      "cell_type": "code",
      "metadata": {
        "id": "QcqLSWXUPpGH",
        "colab_type": "code",
        "colab": {
          "base_uri": "https://localhost:8080/",
          "height": 34
        },
        "outputId": "94957be1-ed8a-4d9f-994c-3897902b6aff"
      },
      "source": [
        "# fonction max renvoie la valeur maximale d'une liste\n",
        "teste_op = [100, 2, -5, 3.4]\n",
        "max(teste_op)"
      ],
      "execution_count": 120,
      "outputs": [
        {
          "output_type": "execute_result",
          "data": {
            "text/plain": [
              "100"
            ]
          },
          "metadata": {
            "tags": []
          },
          "execution_count": 120
        }
      ]
    },
    {
      "cell_type": "code",
      "metadata": {
        "id": "rYXvLD-2P7FY",
        "colab_type": "code",
        "colab": {
          "base_uri": "https://localhost:8080/",
          "height": 34
        },
        "outputId": "fb32e91c-4d07-4dbd-e2c6-600c53afd35b"
      },
      "source": [
        "# fonction min renvoie la valeur minumum d'une liste\n",
        "min(teste_op)"
      ],
      "execution_count": 121,
      "outputs": [
        {
          "output_type": "execute_result",
          "data": {
            "text/plain": [
              "-5"
            ]
          },
          "metadata": {
            "tags": []
          },
          "execution_count": 121
        }
      ]
    },
    {
      "cell_type": "code",
      "metadata": {
        "id": "KMInP0kyQHbe",
        "colab_type": "code",
        "colab": {
          "base_uri": "https://localhost:8080/",
          "height": 34
        },
        "outputId": "d35c999d-17bd-48f4-f9a6-eb8449d9cdba"
      },
      "source": [
        "# céer une liste vide\n",
        "a = []\n",
        "a"
      ],
      "execution_count": 123,
      "outputs": [
        {
          "output_type": "execute_result",
          "data": {
            "text/plain": [
              "[]"
            ]
          },
          "metadata": {
            "tags": []
          },
          "execution_count": 123
        }
      ]
    },
    {
      "cell_type": "code",
      "metadata": {
        "id": "iqrZXx5TQWEc",
        "colab_type": "code",
        "colab": {
          "base_uri": "https://localhost:8080/",
          "height": 34
        },
        "outputId": "af2d3bb8-2d51-4add-f6bd-f1cce13bce04"
      },
      "source": [
        "type(teste_op)"
      ],
      "execution_count": 124,
      "outputs": [
        {
          "output_type": "execute_result",
          "data": {
            "text/plain": [
              "list"
            ]
          },
          "metadata": {
            "tags": []
          },
          "execution_count": 124
        }
      ]
    },
    {
      "cell_type": "code",
      "metadata": {
        "id": "thuaKJn7QdOE",
        "colab_type": "code",
        "colab": {}
      },
      "source": [
        "old_list = [1,2,5,10]\n",
        "new_list = []"
      ],
      "execution_count": 125,
      "outputs": []
    },
    {
      "cell_type": "code",
      "metadata": {
        "id": "ClwcXYvWQpoP",
        "colab_type": "code",
        "colab": {}
      },
      "source": [
        "# Copier d'éléments d'une liste à une autre\n",
        "for element in old_list:\n",
        "    new_list.append(element)"
      ],
      "execution_count": 126,
      "outputs": []
    },
    {
      "cell_type": "code",
      "metadata": {
        "id": "WKbtwZ7zQ0dv",
        "colab_type": "code",
        "colab": {
          "base_uri": "https://localhost:8080/",
          "height": 34
        },
        "outputId": "f5bf813c-5ebf-4adf-fae1-10b43f90100d"
      },
      "source": [
        "new_list"
      ],
      "execution_count": 127,
      "outputs": [
        {
          "output_type": "execute_result",
          "data": {
            "text/plain": [
              "[1, 2, 5, 10]"
            ]
          },
          "metadata": {
            "tags": []
          },
          "execution_count": 127
        }
      ]
    },
    {
      "cell_type": "code",
      "metadata": {
        "id": "ZMNoQICaRG5I",
        "colab_type": "code",
        "colab": {
          "base_uri": "https://localhost:8080/",
          "height": 34
        },
        "outputId": "7eba362f-dd24-4cd6-9a54-7c6e4adf410c"
      },
      "source": [
        "print(100 in teste_op)"
      ],
      "execution_count": 128,
      "outputs": [
        {
          "output_type": "stream",
          "text": [
            "True\n"
          ],
          "name": "stdout"
        }
      ]
    },
    {
      "cell_type": "markdown",
      "metadata": {
        "id": "fTgi6akaS_dc",
        "colab_type": "text"
      },
      "source": [
        "# Le type dict (dictionnaire)¶\n",
        "Un dictionnaire est un tableau pour lequel les indices ou clés ne sont pas uniquement des entiers mais tout type hashable (le plus souvent un entier, un réel, une chaîne de caractères, un tuple). Cela est pratique car nous avons une organisation de la donnée au format clé-valeur qui est dans certains cas plus informatif.\n",
        "\n",
        "**Exemple de création de dictionnaire :**\n",
        "\n",
        "dico = {\"cle1\" : \"valeur1\", \"cle2\" : 2}\n",
        "\n",
        "print(dico[\"cle1\"])        # affiche valeur1\n",
        "w \n",
        "print(dico[\"cle2\"])        # affiche 2\n",
        "\n",
        "Il est aussi possible de déclarer un dictionnaire avec : dico = dict(cle1 = \"valeur1\", cle2 = 2). Vous noterez que les arguments nommés de dict sont transformés en chaînes de caractères comme ci-dessus.\n",
        "\n",
        "Un objet hashable définit un identifiant \"unique\" que l'on appelle hash, qui permet d'une part de stocker les références en mémoire et d'autre part de comparer les clés. Le hash devant être unique pour désigner un objet (et d'autres objets qui lui sont identiques), un objet hashable est en général non modifiable. Cette implémentation du dictionnaire est appelée table de hachage."
      ]
    },
    {
      "cell_type": "code",
      "metadata": {
        "id": "DkBjlFLPT2wT",
        "colab_type": "code",
        "colab": {
          "base_uri": "https://localhost:8080/",
          "height": 34
        },
        "outputId": "1896f026-ddae-4406-b823-46f2c2b76b77"
      },
      "source": [
        "tel = {'jack': 4098, 'sape': 4139}\n",
        "tel['guido'] = 4127\n",
        "tel"
      ],
      "execution_count": 129,
      "outputs": [
        {
          "output_type": "execute_result",
          "data": {
            "text/plain": [
              "{'guido': 4127, 'jack': 4098, 'sape': 4139}"
            ]
          },
          "metadata": {
            "tags": []
          },
          "execution_count": 129
        }
      ]
    },
    {
      "cell_type": "code",
      "metadata": {
        "id": "Xe_BKchXUAT9",
        "colab_type": "code",
        "colab": {
          "base_uri": "https://localhost:8080/",
          "height": 34
        },
        "outputId": "a0998b97-f16f-4ea6-f9e8-aa03f431815f"
      },
      "source": [
        "del tel['sape']\n",
        "tel['irv'] = 4127\n",
        "tel"
      ],
      "execution_count": 130,
      "outputs": [
        {
          "output_type": "execute_result",
          "data": {
            "text/plain": [
              "{'guido': 4127, 'irv': 4127, 'jack': 4098}"
            ]
          },
          "metadata": {
            "tags": []
          },
          "execution_count": 130
        }
      ]
    },
    {
      "cell_type": "code",
      "metadata": {
        "id": "tfmxz7YbUjqg",
        "colab_type": "code",
        "colab": {
          "base_uri": "https://localhost:8080/",
          "height": 34
        },
        "outputId": "651e86ae-9503-4808-8f88-8c8eca3514e6"
      },
      "source": [
        "sorted(tel)"
      ],
      "execution_count": 131,
      "outputs": [
        {
          "output_type": "execute_result",
          "data": {
            "text/plain": [
              "['guido', 'irv', 'jack']"
            ]
          },
          "metadata": {
            "tags": []
          },
          "execution_count": 131
        }
      ]
    },
    {
      "cell_type": "code",
      "metadata": {
        "id": "zKVurDJ1UoQH",
        "colab_type": "code",
        "colab": {
          "base_uri": "https://localhost:8080/",
          "height": 34
        },
        "outputId": "4fc35acb-1574-4e8a-f105-9d07c8a1295e"
      },
      "source": [
        "list(tel)"
      ],
      "execution_count": 132,
      "outputs": [
        {
          "output_type": "execute_result",
          "data": {
            "text/plain": [
              "['jack', 'guido', 'irv']"
            ]
          },
          "metadata": {
            "tags": []
          },
          "execution_count": 132
        }
      ]
    },
    {
      "cell_type": "code",
      "metadata": {
        "id": "11mijQoXUyJ7",
        "colab_type": "code",
        "colab": {
          "base_uri": "https://localhost:8080/",
          "height": 34
        },
        "outputId": "ef105e9f-3fc0-4838-c2ec-be2d6c75400b"
      },
      "source": [
        "'guido' in tel"
      ],
      "execution_count": 133,
      "outputs": [
        {
          "output_type": "execute_result",
          "data": {
            "text/plain": [
              "True"
            ]
          },
          "metadata": {
            "tags": []
          },
          "execution_count": 133
        }
      ]
    },
    {
      "cell_type": "code",
      "metadata": {
        "id": "Fw2VmtFIUzWy",
        "colab_type": "code",
        "colab": {
          "base_uri": "https://localhost:8080/",
          "height": 34
        },
        "outputId": "b04d2b34-81f2-4b3c-ba4e-2ac9a23e9474"
      },
      "source": [
        "'jack' not in tel"
      ],
      "execution_count": 134,
      "outputs": [
        {
          "output_type": "execute_result",
          "data": {
            "text/plain": [
              "False"
            ]
          },
          "metadata": {
            "tags": []
          },
          "execution_count": 134
        }
      ]
    },
    {
      "cell_type": "markdown",
      "metadata": {
        "id": "ZtXMdwvKU3Zn",
        "colab_type": "text"
      },
      "source": [
        "Le constructeur dict() fabrique un dictionnaire directement à partir d'une liste de paires clé-valeur stockées sous la forme de n-uplets :"
      ]
    },
    {
      "cell_type": "code",
      "metadata": {
        "id": "J8w4yYQRU67s",
        "colab_type": "code",
        "colab": {
          "base_uri": "https://localhost:8080/",
          "height": 34
        },
        "outputId": "bd89785c-8712-4ea7-8207-1508527a6734"
      },
      "source": [
        "dict([('sape', 4139), ('guido', 4127), ('jack', 4098)])"
      ],
      "execution_count": 135,
      "outputs": [
        {
          "output_type": "execute_result",
          "data": {
            "text/plain": [
              "{'guido': 4127, 'jack': 4098, 'sape': 4139}"
            ]
          },
          "metadata": {
            "tags": []
          },
          "execution_count": 135
        }
      ]
    },
    {
      "cell_type": "markdown",
      "metadata": {
        "id": "OJRUOyYzU_lD",
        "colab_type": "text"
      },
      "source": [
        "De plus, il est possible de créer des dictionnaires par compréhension depuis un jeu de clef et valeurs :\n"
      ]
    },
    {
      "cell_type": "code",
      "metadata": {
        "id": "5wAIetPHVC6s",
        "colab_type": "code",
        "colab": {
          "base_uri": "https://localhost:8080/",
          "height": 34
        },
        "outputId": "211da323-0400-4388-8459-4e855fd59e29"
      },
      "source": [
        "{x: x**2 for x in (2, 4, 6)}"
      ],
      "execution_count": 136,
      "outputs": [
        {
          "output_type": "execute_result",
          "data": {
            "text/plain": [
              "{2: 4, 4: 16, 6: 36}"
            ]
          },
          "metadata": {
            "tags": []
          },
          "execution_count": 136
        }
      ]
    },
    {
      "cell_type": "markdown",
      "metadata": {
        "id": "TacubXlPVI1l",
        "colab_type": "text"
      },
      "source": [
        "Lorsque les clés sont de simples chaînes de caractères, il est parfois plus facile de spécifier les paires en utilisant des paramètres nommés :"
      ]
    },
    {
      "cell_type": "code",
      "metadata": {
        "id": "9GQ9D_knVGWy",
        "colab_type": "code",
        "colab": {
          "base_uri": "https://localhost:8080/",
          "height": 34
        },
        "outputId": "8a4da135-929b-462c-f1f2-09a45b5dc29e"
      },
      "source": [
        "dict(sape=4139, guido=4127, jack=4098)"
      ],
      "execution_count": 137,
      "outputs": [
        {
          "output_type": "execute_result",
          "data": {
            "text/plain": [
              "{'guido': 4127, 'jack': 4098, 'sape': 4139}"
            ]
          },
          "metadata": {
            "tags": []
          },
          "execution_count": 137
        }
      ]
    },
    {
      "cell_type": "markdown",
      "metadata": {
        "id": "Zj4SwUUdORxH",
        "colab_type": "text"
      },
      "source": [
        "### Type \"indexables\"\n",
        "\n",
        "Les crochets s'utilisent pour accéder aux éléments les variables de type \"indexables\", c'est-à-dire les listes, dictionnaire, les tuples, ou chaine de caractères.\n",
        "\n",
        "La navigation dans les variables de type indexables se fait par l'intermédiaire de crochets [ ] en indiquant :\n",
        "\n",
        "1) Pour les types list, tuple, str : l'indice de la position voulue qui commence toujours par 0.\n",
        "\n",
        "2) Pour les dict : la clé.\n",
        "\n",
        "Notons que chaque type indexable a son symbole spécifique pour sa création :\n",
        "\n",
        "1) pour une liste, on utilise les crochets : [ ]  ( ou list() )\n",
        "\n",
        "2) pour un dictionnaire, les accolades : { }  ( ou dict() )\n",
        "\n",
        "3) pour un tuple, les parenthèses : ( )  ( ou tuple() )\n",
        "\n",
        "4) pour une chaîne de caractères, les guillemets : \" \", ' '"
      ]
    }
  ]
}