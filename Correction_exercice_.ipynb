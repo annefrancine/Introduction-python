{
  "nbformat": 4,
  "nbformat_minor": 0,
  "metadata": {
    "colab": {
      "name": "Correction exercice .ipynb",
      "provenance": [],
      "collapsed_sections": [],
      "authorship_tag": "ABX9TyPQGzjlJFKj2082T/XP5GV8",
      "include_colab_link": true
    },
    "kernelspec": {
      "name": "python3",
      "display_name": "Python 3"
    }
  },
  "cells": [
    {
      "cell_type": "markdown",
      "metadata": {
        "id": "view-in-github",
        "colab_type": "text"
      },
      "source": [
        "<a href=\"https://colab.research.google.com/github/annefrancine/Introduction-python/blob/master/Correction_exercice_.ipynb\" target=\"_parent\"><img src=\"https://colab.research.google.com/assets/colab-badge.svg\" alt=\"Open In Colab\"/></a>"
      ]
    },
    {
      "cell_type": "markdown",
      "metadata": {
        "id": "SI7IZf3LMbXR",
        "colab_type": "text"
      },
      "source": [
        "help([nom_fonction]) : Invoque le système d’aide natif. (Cette fonction est destinée à l’usage en mode interactif.) Soi aucun argument n’est fourni, le système d’aide démarre dans l’interpréteur. Si l’argument est une chaîne, un module, une fonction, une classe, une méthode, un mot clef, ou un sujet de documentation pourtant ce nom est recherché, et une page d’aide est affichée sur la console. Si l’argument est d’un autre type, une page d’aide sur cet objet est générée."
      ]
    },
    {
      "cell_type": "markdown",
      "metadata": {
        "id": "4VYfhVScJq08",
        "colab_type": "text"
      },
      "source": [
        "1)\tÉcrire un programme, qui définit 3 variables : une variable de type texte, une variable de type nombre entier, une variable de type nombre décimal et qui affiche leur type."
      ]
    },
    {
      "cell_type": "code",
      "metadata": {
        "id": "QW4yNlazJjQW",
        "colab_type": "code",
        "colab": {
          "base_uri": "https://localhost:8080/",
          "height": 34
        },
        "outputId": "9d6bcbb5-3bae-461c-bfef-38df6f60a8f4"
      },
      "source": [
        "\n",
        "type(1)\n"
      ],
      "execution_count": 4,
      "outputs": [
        {
          "output_type": "execute_result",
          "data": {
            "text/plain": [
              "int"
            ]
          },
          "metadata": {
            "tags": []
          },
          "execution_count": 4
        }
      ]
    },
    {
      "cell_type": "code",
      "metadata": {
        "id": "gHGco4EUTbOH",
        "colab_type": "code",
        "colab": {
          "base_uri": "https://localhost:8080/",
          "height": 34
        },
        "outputId": "39959e54-2a98-4289-e0d5-b663f6aa7af7"
      },
      "source": [
        "\n",
        "type('Bonjour')"
      ],
      "execution_count": 5,
      "outputs": [
        {
          "output_type": "execute_result",
          "data": {
            "text/plain": [
              "str"
            ]
          },
          "metadata": {
            "tags": []
          },
          "execution_count": 5
        }
      ]
    },
    {
      "cell_type": "code",
      "metadata": {
        "id": "U-HfQudBTa8U",
        "colab_type": "code",
        "colab": {
          "base_uri": "https://localhost:8080/",
          "height": 34
        },
        "outputId": "e9d172ba-e523-4b4c-e3aa-cd05a8e9bd35"
      },
      "source": [
        "type(5.0)"
      ],
      "execution_count": 6,
      "outputs": [
        {
          "output_type": "execute_result",
          "data": {
            "text/plain": [
              "float"
            ]
          },
          "metadata": {
            "tags": []
          },
          "execution_count": 6
        }
      ]
    },
    {
      "cell_type": "markdown",
      "metadata": {
        "id": "9he_EKgJJs9q",
        "colab_type": "text"
      },
      "source": [
        "2)\tÉcrivez une fonction appelée nested_sum qui prend une liste de listes d'entiers et additionne les éléments de toutes les listes imbriquées. "
      ]
    },
    {
      "cell_type": "code",
      "metadata": {
        "id": "wp4JzFYFJ1Gi",
        "colab_type": "code",
        "colab": {}
      },
      "source": [
        "def nested_sum(t):\n",
        "    \"\"\"Computes the total of all numbers in a list of lists.\n",
        "   \n",
        "    t: list of list of numbers\n",
        "\n",
        "    returns: number\n",
        "    \"\"\"\n",
        "    total = 0\n",
        "    for nested in t:\n",
        "        total += sum(nested)\n",
        "    return total"
      ],
      "execution_count": 7,
      "outputs": []
    },
    {
      "cell_type": "code",
      "metadata": {
        "id": "Tn3RraBlYeDs",
        "colab_type": "code",
        "colab": {
          "base_uri": "https://localhost:8080/",
          "height": 34
        },
        "outputId": "3ef1d14f-dbe2-471a-bd47-f70de6fc24f9"
      },
      "source": [
        "t = [[1, 2], [3], [4, 5, 6]]\n",
        "print(nested_sum(t))"
      ],
      "execution_count": 8,
      "outputs": [
        {
          "output_type": "stream",
          "text": [
            "21\n"
          ],
          "name": "stdout"
        }
      ]
    },
    {
      "cell_type": "markdown",
      "metadata": {
        "id": "IATm2n0MJ1ft",
        "colab_type": "text"
      },
      "source": [
        "3)\tÉcrivez une fonction appelée cumsum qui prend une liste de nombres et renvoie la somme cumulative ; c'est-à-dire une nouvelle liste où le n-ième élément est la somme des premiers n + 1 éléments de la liste originale"
      ]
    },
    {
      "cell_type": "code",
      "metadata": {
        "id": "3Hzsy11UJ7DC",
        "colab_type": "code",
        "colab": {}
      },
      "source": [
        "def cumsum(t):\n",
        "    \"\"\"Computes the cumulative sum of the numbers in t.\n",
        "\n",
        "    t: list of numbers\n",
        "\n",
        "    returns: list of numbers\n",
        "    \"\"\"\n",
        "    total = 0\n",
        "    res = []\n",
        "    for x in t:\n",
        "        total += x\n",
        "        res.append(total)\n",
        "    return res"
      ],
      "execution_count": 9,
      "outputs": []
    },
    {
      "cell_type": "code",
      "metadata": {
        "id": "Xfkh5J-5YLYi",
        "colab_type": "code",
        "colab": {}
      },
      "source": [
        "t = [1, 2, 3]"
      ],
      "execution_count": 10,
      "outputs": []
    },
    {
      "cell_type": "code",
      "metadata": {
        "id": "guvUnYD4YODH",
        "colab_type": "code",
        "colab": {
          "base_uri": "https://localhost:8080/",
          "height": 34
        },
        "outputId": "6f670543-bb4c-4b6d-9e82-0b0b8480eb04"
      },
      "source": [
        "print(cumsum(t))"
      ],
      "execution_count": 11,
      "outputs": [
        {
          "output_type": "stream",
          "text": [
            "[1, 3, 6]\n"
          ],
          "name": "stdout"
        }
      ]
    },
    {
      "cell_type": "markdown",
      "metadata": {
        "id": "z0azCa0XJ6mZ",
        "colab_type": "text"
      },
      "source": [
        "4)\tÉcrivez une fonction appelée middle qui prend une liste et renvoie une nouvelle liste qui contient tous les éléments, sauf le premier et le dernier"
      ]
    },
    {
      "cell_type": "code",
      "metadata": {
        "id": "i6yrpTCKKBmo",
        "colab_type": "code",
        "colab": {}
      },
      "source": [
        "def middle(t):\n",
        "    \"\"\"Returns all but the first and last elements of t.\n",
        "\n",
        "    t: list\n",
        "\n",
        "    returns: new list\n",
        "    \"\"\"\n",
        "    return t[1:-1]"
      ],
      "execution_count": 12,
      "outputs": []
    },
    {
      "cell_type": "code",
      "metadata": {
        "id": "xz7kw1DWY1MR",
        "colab_type": "code",
        "colab": {
          "base_uri": "https://localhost:8080/",
          "height": 34
        },
        "outputId": "038b31f6-2a52-4a7e-d1bb-f932f1c465cb"
      },
      "source": [
        "t = [1, 2, 3, 4]\n",
        "print(middle(t))"
      ],
      "execution_count": 13,
      "outputs": [
        {
          "output_type": "stream",
          "text": [
            "[2, 3]\n"
          ],
          "name": "stdout"
        }
      ]
    },
    {
      "cell_type": "markdown",
      "metadata": {
        "id": "_nV7sRk1KB80",
        "colab_type": "text"
      },
      "source": [
        "5)\tAffichez les entiers de 0 à 15 non compris, de trois en trois, en utilisant une boucle for et l’instruction range ()."
      ]
    },
    {
      "cell_type": "code",
      "metadata": {
        "id": "pRmNH5OWKOkj",
        "colab_type": "code",
        "colab": {
          "base_uri": "https://localhost:8080/",
          "height": 34
        },
        "outputId": "bbd7506a-30b1-4cb4-bf3a-2e7980008adc"
      },
      "source": [
        "for nombre in range(0, 15, 3):\n",
        "   print(nombre, end = \" \")"
      ],
      "execution_count": 14,
      "outputs": [
        {
          "output_type": "stream",
          "text": [
            "0 3 6 9 12 "
          ],
          "name": "stdout"
        }
      ]
    },
    {
      "cell_type": "markdown",
      "metadata": {
        "id": "ZzQZH7Y_KO4K",
        "colab_type": "text"
      },
      "source": [
        "6)\tCréer deux variables distance et vitesse\n",
        "\n",
        "7)\tAssigner à distance la valeur 750 (distance Paris-Marseille)\n",
        "\n",
        "8)\tAssigner à vitesse la valeur 4.8 (vitesse moyenne d'un marcheur)\n",
        "\n",
        "9)\tCréer une nouvelle variable temps et assigner lui le temps correspondant au quotient des deux variables précédentes\n"
      ]
    },
    {
      "cell_type": "code",
      "metadata": {
        "id": "aHmK2qjyKWIP",
        "colab_type": "code",
        "colab": {
          "base_uri": "https://localhost:8080/",
          "height": 34
        },
        "outputId": "a41700e0-ff2f-4a7e-ab8a-6a09aa8b4d93"
      },
      "source": [
        "distance= 750\n",
        "vitesse= 4.8\n",
        "temps=distance/vitesse\n",
        "temps\n"
      ],
      "execution_count": 15,
      "outputs": [
        {
          "output_type": "execute_result",
          "data": {
            "text/plain": [
              "156.25"
            ]
          },
          "metadata": {
            "tags": []
          },
          "execution_count": 15
        }
      ]
    },
    {
      "cell_type": "markdown",
      "metadata": {
        "id": "JWTXzwg1Kdrp",
        "colab_type": "text"
      },
      "source": [
        "10)\tAfficher le nombre de jours en valeur entière qu'il faudrait à un marcheur pour arriver à Marseille s'il ne s'arrête jamais"
      ]
    },
    {
      "cell_type": "code",
      "metadata": {
        "id": "xzhv8q-ALA4d",
        "colab_type": "code",
        "colab": {
          "base_uri": "https://localhost:8080/",
          "height": 34
        },
        "outputId": "141323db-d73d-446c-8b86-043095faf4d9"
      },
      "source": [
        "print(temps//24+1)"
      ],
      "execution_count": 16,
      "outputs": [
        {
          "output_type": "stream",
          "text": [
            "7.0\n"
          ],
          "name": "stdout"
        }
      ]
    },
    {
      "cell_type": "markdown",
      "metadata": {
        "id": "GUNUAW-QLBLe",
        "colab_type": "text"
      },
      "source": [
        "11)\tÉcrivez un programme pour vérifier si un alphabet est une voyelle ou une consonne en utilisant if-else. Les lettres a, e, i, o et u en minuscules et en majuscules sont appelées voyelles. Les alphabets autres que les voyelles sont appelées consonnes."
      ]
    },
    {
      "cell_type": "code",
      "metadata": {
        "id": "oWsoDL00LIB-",
        "colab_type": "code",
        "colab": {
          "base_uri": "https://localhost:8080/",
          "height": 51
        },
        "outputId": "db95d71b-a8df-4035-f616-152ad7dfb980"
      },
      "source": [
        "ch=(input(\"Saisir un nombre : \"))[0]\n",
        " \n",
        "if(ch=='a' or ch=='e' or ch=='i' or ch=='o' or ch=='u' or ch=='A' or ch=='E' or ch=='I' or ch=='O' or ch=='U'):\n",
        "        print(ch,\"est voyelle.\")\n",
        "elif((ch >= 'a' and ch <= 'z') or (ch >= 'A' and ch <= 'Z')):\n",
        "    # consonnes */\n",
        "    print(ch, \" consonnes.\")\n",
        "else:\n",
        "    # Ni voyelle ni consonne\n",
        "    print(ch,\" est un caractère spécial.\")"
      ],
      "execution_count": 17,
      "outputs": [
        {
          "output_type": "stream",
          "text": [
            "Saisir un nombre : 2\n",
            "2  est un caractère spécial.\n"
          ],
          "name": "stdout"
        }
      ]
    },
    {
      "cell_type": "markdown",
      "metadata": {
        "id": "OVvty2ftLIVL",
        "colab_type": "text"
      },
      "source": [
        "12)\tÉcrivez un programme pour trouver un maximum entre trois nombres en utilisant une if-else ou if imbriquée."
      ]
    },
    {
      "cell_type": "code",
      "metadata": {
        "id": "6TxgAQlyLizi",
        "colab_type": "code",
        "colab": {
          "base_uri": "https://localhost:8080/",
          "height": 85
        },
        "outputId": "29f2bf10-8847-4d98-bc02-6ec5d46eace6"
      },
      "source": [
        "num1=int(input(\"Saisir le nombre 1 : \"))\n",
        "num2=int(input(\"Saisir le nombre 2 : \"))\n",
        "num3=int(input(\"Saisir le nombre 3 : \"))\n",
        " \n",
        "if num1 > num2:\n",
        "    if num1 > num3:\n",
        "        # si num1 > num2 et num1 > num3 */\n",
        "        max = num1\n",
        "    else:\n",
        "        # si num1 > num2 mais num1 > num3 est fausse */\n",
        "        max = num3\n",
        "else:\n",
        "    if num2 > num3:\n",
        "        # Si num1 < num2 et num2 > num3 */\n",
        "        max = num2\n",
        "    else:\n",
        "        # si num1 < num2 et num2 > num3 */\n",
        "        max = num3\n",
        " \n",
        "# afficher le résultat */\n",
        "print(\"le maximum est = \", max)"
      ],
      "execution_count": 18,
      "outputs": [
        {
          "output_type": "stream",
          "text": [
            "Saisir le nombre 1 : 5\n",
            "Saisir le nombre 2 : 7\n",
            "Saisir le nombre 3 : 2\n",
            "le maximum est =  7\n"
          ],
          "name": "stdout"
        }
      ]
    },
    {
      "cell_type": "markdown",
      "metadata": {
        "id": "YcY25OD_LjIx",
        "colab_type": "text"
      },
      "source": [
        "13)\tÉcrivez un programme pour vérifier si un nombre est divisible par 3 et 13 ou non, en utilisant if-else.\n",
        "\n"
      ]
    },
    {
      "cell_type": "code",
      "metadata": {
        "id": "sbqaeUllPYK5",
        "colab_type": "code",
        "colab": {
          "base_uri": "https://localhost:8080/",
          "height": 51
        },
        "outputId": "951b8d32-440f-4b3c-b7b1-d96007abae02"
      },
      "source": [
        "nb=int(input(\"Saisir un nombre : \"))\n",
        " \n",
        "if((nb % 3 == 0) and (nb % 13 == 0)):\n",
        "    print(nb,\" est divisible par 3 et 13\")\n",
        "else:\n",
        "    print(nb,\" n'est divisible par 3 ni 13\")\n"
      ],
      "execution_count": 19,
      "outputs": [
        {
          "output_type": "stream",
          "text": [
            "Saisir un nombre : 10\n",
            "10  n'est divisible par 3 ni 13\n"
          ],
          "name": "stdout"
        }
      ]
    }
  ]
}